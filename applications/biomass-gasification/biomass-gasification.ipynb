{
  "cells": [
    {
      "cell_type": "markdown",
      "metadata": {
        "id": "view-in-github",
        "colab_type": "text"
      },
      "source": [
        "<a href=\"https://colab.research.google.com/github/Eisenh/AMPP2024_s-CO2_Corr_Pred/blob/main/applications/biomass-gasification/biomass-gasification.ipynb\" target=\"_parent\"><img src=\"https://colab.research.google.com/assets/colab-badge.svg\" alt=\"Open In Colab\"/></a>"
      ]
    },
    {
      "cell_type": "markdown",
      "metadata": {
        "id": "CUsVxddBtTHS"
      },
      "source": [
        "# Biomass Gasification\n",
        "\n",
        "<p class=\"acknowledgement\">Written by Prof. William Smith (University of Guelph) and Allan Leal (ETH Zurich) on Mar 31st, 2023</p>\n",
        "\n",
        "This tutorial demonstrates the use of Reaktoro for biomass gasification in which temperature and exit gas composition are calculated from given Fuel Ultimate Analysis and fuel-to-air ratios."
      ]
    },
    {
      "cell_type": "code",
      "source": [
        "!pip install -q condacolab\n",
        "import condacolab\n",
        "condacolab.install_from_url(\"https://repo.anaconda.com/miniconda/Miniconda3-py38_4.12.0-Linux-x86_64.sh\")\n",
        "!conda config --remove channels defaults\n",
        "!conda config --add channels conda-forge\n",
        "!conda install reaktoro -y"
      ],
      "metadata": {
        "id": "bmjnJkurtl_n",
        "outputId": "2a23f532-4343-49e2-aa12-63d161f8ee95",
        "colab": {
          "base_uri": "https://localhost:8080/"
        }
      },
      "execution_count": 1,
      "outputs": [
        {
          "output_type": "stream",
          "name": "stdout",
          "text": [
            "⏬ Downloading https://repo.anaconda.com/miniconda/Miniconda3-py38_4.12.0-Linux-x86_64.sh...\n",
            "📦 Installing...\n",
            "📌 Adjusting configuration...\n",
            "🩹 Patching environment...\n",
            "⏲ Done in 0:00:33\n",
            "🔁 Restarting kernel...\n",
            "Collecting package metadata (current_repodata.json): - \b\b\\ \b\b| \b\b/ \b\b- \b\b\\ \b\b| \b\b/ \b\b- \b\b\\ \b\b| \b\b/ \b\b- \b\b\\ \b\b| \b\b/ \b\b- \b\b\\ \b\b| \b\b/ \b\b- \b\b\\ \b\b| \b\b/ \b\b- \b\b\\ \b\b| \b\b/ \b\b- \b\b\\ \b\b| \b\b/ \b\b- \b\b\\ \b\b| \b\b/ \b\b- \b\b\\ \b\b| \b\b/ \b\b- \b\b\\ \b\b| \b\b/ \b\b- \b\b\\ \b\b| \b\b/ \b\b- \b\b\\ \b\b| \b\b/ \b\b- \b\b\\ \b\b| \b\b/ \b\b- \b\b\\ \b\b| \b\b/ \b\b- \b\b\\ \b\b| \b\b/ \b\b- \b\b\\ \b\b| \b\b/ \b\b- \b\b\\ \b\b| \b\b/ \b\b- \b\b\\ \b\b| \b\b/ \b\b- \b\b\\ \b\b| \b\b/ \b\b- \b\b\\ \b\b| \b\b/ \b\b- \b\b\\ \b\b| \b\b/ \b\b- \b\b\\ \b\b| \b\b/ \b\b- \b\b\\ \b\b| \b\b/ \b\b- \b\b\\ \b\b| \b\b/ \b\b- \b\b\\ \b\b| \b\b/ \b\b- \b\b\\ \b\b| \b\b/ \b\b- \b\b\\ \b\b| \b\b/ \b\b- \b\b\\ \b\b| \b\b/ \b\b- \b\b\\ \b\b| \b\b/ \b\b- \b\b\\ \b\b| \b\b/ \b\b- \b\b\\ \b\b| \b\b/ \b\b- \b\b\\ \b\b| \b\b/ \b\b- \b\b\\ \b\b| \b\b/ \b\b- \b\b\\ \b\b| \b\b/ \b\b- \b\b\\ \b\b| \b\b/ \b\b- \b\b\\ \b\b| \b\b/ \b\b- \b\b\\ \b\b| \b\b/ \b\b- \b\b\\ \b\b| \b\b/ \b\b- \b\b\\ \b\b| \b\b/ \b\b- \b\b\\ \b\b| \b\b/ \b\b- \b\b\\ \b\b| \b\b/ \b\b- \b\b\\ \b\b| \b\b/ \b\b- \b\b\\ \b\b| \b\b/ \b\b- \b\b\\ \b\b| \b\b/ \b\b- \b\b\\ \b\b| \b\b/ \b\b- \b\bdone\n",
            "Solving environment: | \b\b/ \b\b- \b\b\\ \b\b| \b\b/ \b\b- \b\b\\ \b\b| \b\b/ \b\b- \b\b\\ \b\b| \b\b/ \b\b- \b\b\\ \b\b| \b\b/ \b\b- \b\b\\ \b\b| \b\b/ \b\b- \b\b\\ \b\b| \b\b/ \b\b- \b\b\\ \b\b| \b\b/ \b\b- \b\b\\ \b\b| \b\b/ \b\b- \b\b\\ \b\b| \b\b/ \b\b- \b\b\\ \b\b| \b\b/ \b\b- \b\b\\ \b\b| \b\b/ \b\b- \b\b\\ \b\b| \b\b/ \b\b- \b\b\\ \b\b| \b\b/ \b\b- \b\b\\ \b\b| \b\b/ \b\b- \b\b\\ \b\b| \b\b/ \b\b- \b\b\\ \b\b| \b\b/ \b\b- \b\b\\ \b\b| \b\b/ \b\b- \b\b\\ \b\b| \b\b/ \b\b- \b\b\\ \b\b| \b\b/ \b\b- \b\b\\ \b\b| \b\b/ \b\b- \b\b\\ \b\b| \b\b/ \b\b- \b\b\\ \b\b| \b\b/ \b\b- \b\b\\ \b\b| \b\b/ \b\b- \b\b\\ \b\b| \b\b/ \b\b- \b\b\\ \b\b| \b\b/ \b\b- \b\b\\ \b\b| \b\bdone\n",
            "\n",
            "## Package Plan ##\n",
            "\n",
            "  environment location: /usr/local\n",
            "\n",
            "  added / updated specs:\n",
            "    - reaktoro\n",
            "\n",
            "\n",
            "The following packages will be downloaded:\n",
            "\n",
            "    package                    |            build\n",
            "    ---------------------------|-----------------\n",
            "    _libgcc_mutex-0.1          |      conda_forge           3 KB  conda-forge\n",
            "    _openmp_mutex-4.5          |       2_kmp_llvm           6 KB  conda-forge\n",
            "    asttokens-2.4.1            |     pyhd8ed1ab_0          28 KB  conda-forge\n",
            "    attrs-24.2.0               |     pyh71513ae_0          55 KB  conda-forge\n",
            "    autodiff-1.1.2             |  py310h64a2142_0         795 KB  conda-forge\n",
            "    brotlipy-0.7.0             |py310ha75aee5_1007         312 KB  conda-forge\n",
            "    bzip2-1.0.8                |       h4bc722e_7         247 KB  conda-forge\n",
            "    ca-certificates-2024.8.30  |       hbcca054_0         155 KB  conda-forge\n",
            "    certifi-2024.8.30          |     pyhd8ed1ab_0         160 KB  conda-forge\n",
            "    cffi-1.17.1                |  py310h8deb56e_0         238 KB  conda-forge\n",
            "    chemicalfun-0.1.10         |  py310hd41b1e2_0         374 KB  conda-forge\n",
            "    comm-0.2.2                 |     pyhd8ed1ab_0          12 KB  conda-forge\n",
            "    conda-22.11.1              |  py310hff52083_1         913 KB  conda-forge\n",
            "    conda-package-handling-2.4.0|     pyh7900ff3_0         252 KB  conda-forge\n",
            "    conda-package-streaming-0.11.0|     pyhd8ed1ab_0          20 KB  conda-forge\n",
            "    cryptography-43.0.3        |  py310h6c63255_0         1.4 MB  conda-forge\n",
            "    debugpy-1.8.8              |  py310hf71b8c6_0         2.0 MB  conda-forge\n",
            "    decorator-5.1.1            |     pyhd8ed1ab_0          12 KB  conda-forge\n",
            "    eigen-3.4.0                |       h00ab1b0_0         1.0 MB  conda-forge\n",
            "    exceptiongroup-1.2.2       |     pyhd8ed1ab_0          20 KB  conda-forge\n",
            "    executing-2.1.0            |     pyhd8ed1ab_0          28 KB  conda-forge\n",
            "    expat-2.6.4                |       h5888daf_0         135 KB  conda-forge\n",
            "    fmt-10.1.1                 |       h00ab1b0_1         188 KB  conda-forge\n",
            "    font-ttf-dejavu-sans-mono-2.37|       hab24e00_0         388 KB  conda-forge\n",
            "    font-ttf-inconsolata-3.000 |       h77eed37_0          94 KB  conda-forge\n",
            "    font-ttf-source-code-pro-2.038|       h77eed37_0         684 KB  conda-forge\n",
            "    font-ttf-ubuntu-0.83       |       h77eed37_3         1.5 MB  conda-forge\n",
            "    fontconfig-2.15.0          |       h7e30c49_1         259 KB  conda-forge\n",
            "    fonts-conda-forge-1        |                0           4 KB  conda-forge\n",
            "    freetype-2.12.1            |       h267a509_2         620 KB  conda-forge\n",
            "    importlib-metadata-8.5.0   |     pyha770c72_0          28 KB  conda-forge\n",
            "    importlib_resources-6.4.5  |     pyhd8ed1ab_0          32 KB  conda-forge\n",
            "    ipykernel-6.29.5           |     pyh3099207_0         116 KB  conda-forge\n",
            "    ipython-8.29.0             |     pyh707e725_0         585 KB  conda-forge\n",
            "    jedi-0.19.1                |     pyhd8ed1ab_0         822 KB  conda-forge\n",
            "    jsonschema-4.23.0          |     pyhd8ed1ab_0          73 KB  conda-forge\n",
            "    jsonschema-specifications-2024.10.1|     pyhd8ed1ab_0          16 KB  conda-forge\n",
            "    jupyter_client-8.6.3       |     pyhd8ed1ab_0         104 KB  conda-forge\n",
            "    jupyter_core-5.7.2         |     pyh31011fe_1          56 KB  conda-forge\n",
            "    kaleido-core-0.2.1         |       h3644ca4_0        59.2 MB  conda-forge\n",
            "    keyutils-1.6.1             |       h166bdaf_0         115 KB  conda-forge\n",
            "    krb5-1.21.3                |       h659f571_0         1.3 MB  conda-forge\n",
            "    ld_impl_linux-64-2.43      |       h712a8e2_2         654 KB  conda-forge\n",
            "    libblas-3.9.0              |25_linux64_openblas          15 KB  conda-forge\n",
            "    libcblas-3.9.0             |25_linux64_openblas          15 KB  conda-forge\n",
            "    libedit-3.1.20191231       |       he28a2e2_2         121 KB  conda-forge\n",
            "    libexpat-2.6.4             |       h5888daf_0          72 KB  conda-forge\n",
            "    libffi-3.4.2               |       h7f98852_5          57 KB  conda-forge\n",
            "    libgcc-14.2.0              |       h77fa898_1         829 KB  conda-forge\n",
            "    libgcc-ng-14.2.0           |       h69a702a_1          53 KB  conda-forge\n",
            "    libgfortran-14.2.0         |       h69a702a_1          53 KB  conda-forge\n",
            "    libgfortran5-14.2.0        |       hd5240d6_1         1.4 MB  conda-forge\n",
            "    liblapack-3.9.0            |25_linux64_openblas          15 KB  conda-forge\n",
            "    libnsl-2.0.1               |       hd590300_0          33 KB  conda-forge\n",
            "    libopenblas-0.3.28         |pthreads_h94d23a6_1         5.3 MB  conda-forge\n",
            "    libpng-1.6.44              |       hadc24fc_0         284 KB  conda-forge\n",
            "    libsodium-1.0.20           |       h4ab18f5_0         201 KB  conda-forge\n",
            "    libsqlite-3.47.0           |       hadc24fc_1         855 KB  conda-forge\n",
            "    libstdcxx-14.2.0           |       hc0a3c3a_1         3.7 MB  conda-forge\n",
            "    libstdcxx-ng-14.2.0        |       h4852527_1          53 KB  conda-forge\n",
            "    libuuid-2.38.1             |       h0b41bf4_0          33 KB  conda-forge\n",
            "    libxcrypt-4.4.36           |       hd590300_1          98 KB  conda-forge\n",
            "    libzlib-1.3.1              |       hb9d3cd8_2          60 KB  conda-forge\n",
            "    llvm-openmp-19.1.3         |       h024ca30_0         3.0 MB  conda-forge\n",
            "    mathjax-2.7.7              |       ha770c72_3        21.2 MB  conda-forge\n",
            "    matplotlib-inline-0.1.7    |     pyhd8ed1ab_0          14 KB  conda-forge\n",
            "    multipledispatch-0.6.0     |     pyhd8ed1ab_1          17 KB  conda-forge\n",
            "    nbformat-5.10.4            |     pyhd8ed1ab_0          99 KB  conda-forge\n",
            "    ncurses-6.5                |       he02047a_1         868 KB  conda-forge\n",
            "    nest-asyncio-1.6.0         |     pyhd8ed1ab_0          11 KB  conda-forge\n",
            "    nlohmann_json-3.11.3       |       he02047a_1         120 KB  conda-forge\n",
            "    nspr-4.36                  |       h5888daf_0         225 KB  conda-forge\n",
            "    nss-3.106                  |       hdf54f9c_0         1.9 MB  conda-forge\n",
            "    numpy-1.26.4               |  py310hb13e2d6_0         6.7 MB  conda-forge\n",
            "    openssl-3.3.2              |       hb9d3cd8_0         2.8 MB  conda-forge\n",
            "    optima-0.5.0               |  py310h020ca5c_1         713 KB  conda-forge\n",
            "    packaging-24.1             |     pyhd8ed1ab_0          49 KB  conda-forge\n",
            "    parso-0.8.4                |     pyhd8ed1ab_0          73 KB  conda-forge\n",
            "    pexpect-4.9.0              |     pyhd8ed1ab_0          52 KB  conda-forge\n",
            "    phreeqc4rkt-3.6.2.2        |       h00ab1b0_1         1.0 MB  conda-forge\n",
            "    pickleshare-0.7.5          |          py_1003           9 KB  conda-forge\n",
            "    pip-24.3.1                 |     pyh8b19718_0         1.2 MB  conda-forge\n",
            "    pkgutil-resolve-name-1.3.10|     pyhd8ed1ab_1          11 KB  conda-forge\n",
            "    platformdirs-4.3.6         |     pyhd8ed1ab_0          20 KB  conda-forge\n",
            "    plotly-5.24.1              |     pyhd8ed1ab_0         6.7 MB  conda-forge\n",
            "    pluggy-1.5.0               |     pyhd8ed1ab_0          23 KB  conda-forge\n",
            "    prompt-toolkit-3.0.48      |     pyha770c72_0         264 KB  conda-forge\n",
            "    psutil-6.1.0               |  py310ha75aee5_0         360 KB  conda-forge\n",
            "    ptyprocess-0.7.0           |     pyhd3deb0d_0          16 KB  conda-forge\n",
            "    pure_eval-0.2.3            |     pyhd8ed1ab_0          16 KB  conda-forge\n",
            "    pybind11-2.13.6            |     pyh1ec8472_2         182 KB  conda-forge\n",
            "    pybind11-abi-4             |       hd8ed1ab_3          10 KB  conda-forge\n",
            "    pybind11-global-2.13.6     |     pyh415d2e4_2         175 KB  conda-forge\n",
            "    pycosat-0.6.6              |  py310h2372a71_0          85 KB  conda-forge\n",
            "    pygments-2.18.0            |     pyhd8ed1ab_0         859 KB  conda-forge\n",
            "    pysocks-1.7.1              |     pyha2e5f31_6          19 KB  conda-forge\n",
            "    python-3.10.15             |h4a871b0_2_cpython        24.1 MB  conda-forge\n",
            "    python-dateutil-2.9.0      |     pyhd8ed1ab_0         218 KB  conda-forge\n",
            "    python-fastjsonschema-2.20.0|     pyhd8ed1ab_0         221 KB  conda-forge\n",
            "    python-kaleido-0.2.1       |     pyhd8ed1ab_0          18 KB  conda-forge\n",
            "    python_abi-3.10            |          5_cp310           6 KB  conda-forge\n",
            "    pyzmq-26.2.0               |  py310h71f11fc_3         330 KB  conda-forge\n",
            "    readline-8.2               |       h8228510_1         275 KB  conda-forge\n",
            "    reaktoro-2.12.5            |  py310h677c70a_0         5.7 MB  conda-forge\n",
            "    reaktplot-0.4.1            |  py310heada3b3_2         115 KB  conda-forge\n",
            "    referencing-0.35.1         |     pyhd8ed1ab_0          41 KB  conda-forge\n",
            "    rpds-py-0.21.0             |  py310h505e2c1_0         326 KB  conda-forge\n",
            "    ruamel.yaml-0.17.40        |  py310h2372a71_0         196 KB  conda-forge\n",
            "    ruamel.yaml.clib-0.2.8     |  py310ha75aee5_1         143 KB  conda-forge\n",
            "    setuptools-75.3.0          |     pyhd8ed1ab_0         761 KB  conda-forge\n",
            "    spdlog-1.12.0              |       hd2e6256_2         183 KB  conda-forge\n",
            "    sqlite-3.47.0              |       h9eae976_1         863 KB  conda-forge\n",
            "    stack_data-0.6.2           |     pyhd8ed1ab_0          26 KB  conda-forge\n",
            "    tenacity-9.0.0             |     pyhd8ed1ab_0          24 KB  conda-forge\n",
            "    thermofun-0.4.5            |  py310hb79b24e_2         1.1 MB  conda-forge\n",
            "    tk-8.6.13                  |noxft_h4845f30_101         3.2 MB  conda-forge\n",
            "    toolz-1.0.0                |     pyhd8ed1ab_0          51 KB  conda-forge\n",
            "    tornado-6.4.1              |  py310ha75aee5_1         635 KB  conda-forge\n",
            "    traitlets-5.14.3           |     pyhd8ed1ab_0         108 KB  conda-forge\n",
            "    tsl_ordered_map-1.1.0      |       h00ab1b0_1          23 KB  conda-forge\n",
            "    typing_extensions-4.12.2   |     pyha770c72_0          39 KB  conda-forge\n",
            "    tzdata-2024b               |       hc8b5060_0         119 KB  conda-forge\n",
            "    wcwidth-0.2.13             |     pyhd8ed1ab_0          32 KB  conda-forge\n",
            "    xz-5.2.6                   |       h166bdaf_0         409 KB  conda-forge\n",
            "    yaml-cpp4rkt-0.6.4.2       |       h00ab1b0_3         200 KB  conda-forge\n",
            "    zeromq-4.3.5               |       h3b0a872_6         328 KB  conda-forge\n",
            "    zipp-3.20.2                |     pyhd8ed1ab_0          21 KB  conda-forge\n",
            "    zstandard-0.23.0           |  py310ha39cb0e_1         399 KB  conda-forge\n",
            "    zstd-1.5.6                 |       ha6fb4c9_0         542 KB  conda-forge\n",
            "    ------------------------------------------------------------\n",
            "                                           Total:       177.5 MB\n",
            "\n",
            "The following NEW packages will be INSTALLED:\n",
            "\n",
            "  asttokens          conda-forge/noarch::asttokens-2.4.1-pyhd8ed1ab_0\n",
            "  attrs              conda-forge/noarch::attrs-24.2.0-pyh71513ae_0\n",
            "  autodiff           conda-forge/linux-64::autodiff-1.1.2-py310h64a2142_0\n",
            "  bzip2              conda-forge/linux-64::bzip2-1.0.8-h4bc722e_7\n",
            "  chemicalfun        conda-forge/linux-64::chemicalfun-0.1.10-py310hd41b1e2_0\n",
            "  comm               conda-forge/noarch::comm-0.2.2-pyhd8ed1ab_0\n",
            "  conda-package-str~ conda-forge/noarch::conda-package-streaming-0.11.0-pyhd8ed1ab_0\n",
            "  debugpy            conda-forge/linux-64::debugpy-1.8.8-py310hf71b8c6_0\n",
            "  decorator          conda-forge/noarch::decorator-5.1.1-pyhd8ed1ab_0\n",
            "  eigen              conda-forge/linux-64::eigen-3.4.0-h00ab1b0_0\n",
            "  exceptiongroup     conda-forge/noarch::exceptiongroup-1.2.2-pyhd8ed1ab_0\n",
            "  executing          conda-forge/noarch::executing-2.1.0-pyhd8ed1ab_0\n",
            "  expat              conda-forge/linux-64::expat-2.6.4-h5888daf_0\n",
            "  fmt                conda-forge/linux-64::fmt-10.1.1-h00ab1b0_1\n",
            "  font-ttf-dejavu-s~ conda-forge/noarch::font-ttf-dejavu-sans-mono-2.37-hab24e00_0\n",
            "  font-ttf-inconsol~ conda-forge/noarch::font-ttf-inconsolata-3.000-h77eed37_0\n",
            "  font-ttf-source-c~ conda-forge/noarch::font-ttf-source-code-pro-2.038-h77eed37_0\n",
            "  font-ttf-ubuntu    conda-forge/noarch::font-ttf-ubuntu-0.83-h77eed37_3\n",
            "  fontconfig         conda-forge/linux-64::fontconfig-2.15.0-h7e30c49_1\n",
            "  fonts-conda-forge  conda-forge/noarch::fonts-conda-forge-1-0\n",
            "  freetype           conda-forge/linux-64::freetype-2.12.1-h267a509_2\n",
            "  importlib-metadata conda-forge/noarch::importlib-metadata-8.5.0-pyha770c72_0\n",
            "  importlib_resourc~ conda-forge/noarch::importlib_resources-6.4.5-pyhd8ed1ab_0\n",
            "  ipykernel          conda-forge/noarch::ipykernel-6.29.5-pyh3099207_0\n",
            "  ipython            conda-forge/noarch::ipython-8.29.0-pyh707e725_0\n",
            "  jedi               conda-forge/noarch::jedi-0.19.1-pyhd8ed1ab_0\n",
            "  jsonschema         conda-forge/noarch::jsonschema-4.23.0-pyhd8ed1ab_0\n",
            "  jsonschema-specif~ conda-forge/noarch::jsonschema-specifications-2024.10.1-pyhd8ed1ab_0\n",
            "  jupyter_client     conda-forge/noarch::jupyter_client-8.6.3-pyhd8ed1ab_0\n",
            "  jupyter_core       conda-forge/noarch::jupyter_core-5.7.2-pyh31011fe_1\n",
            "  kaleido-core       conda-forge/linux-64::kaleido-core-0.2.1-h3644ca4_0\n",
            "  keyutils           conda-forge/linux-64::keyutils-1.6.1-h166bdaf_0\n",
            "  krb5               conda-forge/linux-64::krb5-1.21.3-h659f571_0\n",
            "  libblas            conda-forge/linux-64::libblas-3.9.0-25_linux64_openblas\n",
            "  libcblas           conda-forge/linux-64::libcblas-3.9.0-25_linux64_openblas\n",
            "  libedit            conda-forge/linux-64::libedit-3.1.20191231-he28a2e2_2\n",
            "  libexpat           conda-forge/linux-64::libexpat-2.6.4-h5888daf_0\n",
            "  libgcc             conda-forge/linux-64::libgcc-14.2.0-h77fa898_1\n",
            "  libgfortran        conda-forge/linux-64::libgfortran-14.2.0-h69a702a_1\n",
            "  libgfortran5       conda-forge/linux-64::libgfortran5-14.2.0-hd5240d6_1\n",
            "  liblapack          conda-forge/linux-64::liblapack-3.9.0-25_linux64_openblas\n",
            "  libnsl             conda-forge/linux-64::libnsl-2.0.1-hd590300_0\n",
            "  libopenblas        conda-forge/linux-64::libopenblas-0.3.28-pthreads_h94d23a6_1\n",
            "  libpng             conda-forge/linux-64::libpng-1.6.44-hadc24fc_0\n",
            "  libsodium          conda-forge/linux-64::libsodium-1.0.20-h4ab18f5_0\n",
            "  libsqlite          conda-forge/linux-64::libsqlite-3.47.0-hadc24fc_1\n",
            "  libstdcxx          conda-forge/linux-64::libstdcxx-14.2.0-hc0a3c3a_1\n",
            "  libuuid            conda-forge/linux-64::libuuid-2.38.1-h0b41bf4_0\n",
            "  libxcrypt          conda-forge/linux-64::libxcrypt-4.4.36-hd590300_1\n",
            "  libzlib            conda-forge/linux-64::libzlib-1.3.1-hb9d3cd8_2\n",
            "  llvm-openmp        conda-forge/linux-64::llvm-openmp-19.1.3-h024ca30_0\n",
            "  mathjax            conda-forge/linux-64::mathjax-2.7.7-ha770c72_3\n",
            "  matplotlib-inline  conda-forge/noarch::matplotlib-inline-0.1.7-pyhd8ed1ab_0\n",
            "  multipledispatch   conda-forge/noarch::multipledispatch-0.6.0-pyhd8ed1ab_1\n",
            "  nbformat           conda-forge/noarch::nbformat-5.10.4-pyhd8ed1ab_0\n",
            "  nest-asyncio       conda-forge/noarch::nest-asyncio-1.6.0-pyhd8ed1ab_0\n",
            "  nlohmann_json      conda-forge/linux-64::nlohmann_json-3.11.3-he02047a_1\n",
            "  nspr               conda-forge/linux-64::nspr-4.36-h5888daf_0\n",
            "  nss                conda-forge/linux-64::nss-3.106-hdf54f9c_0\n",
            "  numpy              conda-forge/linux-64::numpy-1.26.4-py310hb13e2d6_0\n",
            "  optima             conda-forge/linux-64::optima-0.5.0-py310h020ca5c_1\n",
            "  packaging          conda-forge/noarch::packaging-24.1-pyhd8ed1ab_0\n",
            "  parso              conda-forge/noarch::parso-0.8.4-pyhd8ed1ab_0\n",
            "  pexpect            conda-forge/noarch::pexpect-4.9.0-pyhd8ed1ab_0\n",
            "  phreeqc4rkt        conda-forge/linux-64::phreeqc4rkt-3.6.2.2-h00ab1b0_1\n",
            "  pickleshare        conda-forge/noarch::pickleshare-0.7.5-py_1003\n",
            "  pkgutil-resolve-n~ conda-forge/noarch::pkgutil-resolve-name-1.3.10-pyhd8ed1ab_1\n",
            "  platformdirs       conda-forge/noarch::platformdirs-4.3.6-pyhd8ed1ab_0\n",
            "  plotly             conda-forge/noarch::plotly-5.24.1-pyhd8ed1ab_0\n",
            "  pluggy             conda-forge/noarch::pluggy-1.5.0-pyhd8ed1ab_0\n",
            "  prompt-toolkit     conda-forge/noarch::prompt-toolkit-3.0.48-pyha770c72_0\n",
            "  psutil             conda-forge/linux-64::psutil-6.1.0-py310ha75aee5_0\n",
            "  ptyprocess         conda-forge/noarch::ptyprocess-0.7.0-pyhd3deb0d_0\n",
            "  pure_eval          conda-forge/noarch::pure_eval-0.2.3-pyhd8ed1ab_0\n",
            "  pybind11           conda-forge/noarch::pybind11-2.13.6-pyh1ec8472_2\n",
            "  pybind11-abi       conda-forge/noarch::pybind11-abi-4-hd8ed1ab_3\n",
            "  pybind11-global    conda-forge/noarch::pybind11-global-2.13.6-pyh415d2e4_2\n",
            "  pygments           conda-forge/noarch::pygments-2.18.0-pyhd8ed1ab_0\n",
            "  python-dateutil    conda-forge/noarch::python-dateutil-2.9.0-pyhd8ed1ab_0\n",
            "  python-fastjsonsc~ conda-forge/noarch::python-fastjsonschema-2.20.0-pyhd8ed1ab_0\n",
            "  python-kaleido     conda-forge/noarch::python-kaleido-0.2.1-pyhd8ed1ab_0\n",
            "  python_abi         conda-forge/linux-64::python_abi-3.10-5_cp310\n",
            "  pyzmq              conda-forge/linux-64::pyzmq-26.2.0-py310h71f11fc_3\n",
            "  reaktoro           conda-forge/linux-64::reaktoro-2.12.5-py310h677c70a_0\n",
            "  reaktplot          conda-forge/linux-64::reaktplot-0.4.1-py310heada3b3_2\n",
            "  referencing        conda-forge/noarch::referencing-0.35.1-pyhd8ed1ab_0\n",
            "  rpds-py            conda-forge/linux-64::rpds-py-0.21.0-py310h505e2c1_0\n",
            "  ruamel.yaml        conda-forge/linux-64::ruamel.yaml-0.17.40-py310h2372a71_0\n",
            "  ruamel.yaml.clib   conda-forge/linux-64::ruamel.yaml.clib-0.2.8-py310ha75aee5_1\n",
            "  spdlog             conda-forge/linux-64::spdlog-1.12.0-hd2e6256_2\n",
            "  stack_data         conda-forge/noarch::stack_data-0.6.2-pyhd8ed1ab_0\n",
            "  tenacity           conda-forge/noarch::tenacity-9.0.0-pyhd8ed1ab_0\n",
            "  thermofun          conda-forge/linux-64::thermofun-0.4.5-py310hb79b24e_2\n",
            "  toolz              conda-forge/noarch::toolz-1.0.0-pyhd8ed1ab_0\n",
            "  tornado            conda-forge/linux-64::tornado-6.4.1-py310ha75aee5_1\n",
            "  traitlets          conda-forge/noarch::traitlets-5.14.3-pyhd8ed1ab_0\n",
            "  tsl_ordered_map    conda-forge/linux-64::tsl_ordered_map-1.1.0-h00ab1b0_1\n",
            "  typing_extensions  conda-forge/noarch::typing_extensions-4.12.2-pyha770c72_0\n",
            "  tzdata             conda-forge/noarch::tzdata-2024b-hc8b5060_0\n",
            "  wcwidth            conda-forge/noarch::wcwidth-0.2.13-pyhd8ed1ab_0\n",
            "  yaml-cpp4rkt       conda-forge/linux-64::yaml-cpp4rkt-0.6.4.2-h00ab1b0_3\n",
            "  zeromq             conda-forge/linux-64::zeromq-4.3.5-h3b0a872_6\n",
            "  zipp               conda-forge/noarch::zipp-3.20.2-pyhd8ed1ab_0\n",
            "  zstandard          conda-forge/linux-64::zstandard-0.23.0-py310ha39cb0e_1\n",
            "  zstd               conda-forge/linux-64::zstd-1.5.6-ha6fb4c9_0\n",
            "\n",
            "The following packages will be REMOVED:\n",
            "\n",
            "  libgomp-9.3.0-h5101ec6_17\n",
            "  ruamel_yaml-0.15.100-py38h27cfd23_0\n",
            "  zlib-1.2.12-h7f8727e_1\n",
            "\n",
            "The following packages will be UPDATED:\n",
            "\n",
            "  brotlipy           pkgs/main::brotlipy-0.7.0-py38h27cfd2~ --> conda-forge::brotlipy-0.7.0-py310ha75aee5_1007\n",
            "  ca-certificates    pkgs/main::ca-certificates-2022.3.29-~ --> conda-forge::ca-certificates-2024.8.30-hbcca054_0\n",
            "  certifi            pkgs/main/linux-64::certifi-2021.10.8~ --> conda-forge/noarch::certifi-2024.8.30-pyhd8ed1ab_0\n",
            "  cffi                pkgs/main::cffi-1.15.0-py38hd667e15_1 --> conda-forge::cffi-1.17.1-py310h8deb56e_0\n",
            "  conda              pkgs/main::conda-4.12.0-py38h06a4308_0 --> conda-forge::conda-22.11.1-py310hff52083_1\n",
            "  conda-package-han~ pkgs/main/linux-64::conda-package-han~ --> conda-forge/noarch::conda-package-handling-2.4.0-pyh7900ff3_0\n",
            "  cryptography       pkgs/main::cryptography-36.0.0-py38h9~ --> conda-forge::cryptography-43.0.3-py310h6c63255_0\n",
            "  ld_impl_linux-64   pkgs/main::ld_impl_linux-64-2.35.1-h7~ --> conda-forge::ld_impl_linux-64-2.43-h712a8e2_2\n",
            "  libffi                   pkgs/main::libffi-3.3-he6710b0_2 --> conda-forge::libffi-3.4.2-h7f98852_5\n",
            "  libgcc-ng          pkgs/main::libgcc-ng-9.3.0-h5101ec6_17 --> conda-forge::libgcc-ng-14.2.0-h69a702a_1\n",
            "  libstdcxx-ng       pkgs/main::libstdcxx-ng-9.3.0-hd4cf53~ --> conda-forge::libstdcxx-ng-14.2.0-h4852527_1\n",
            "  ncurses                 pkgs/main::ncurses-6.3-h7f8727e_2 --> conda-forge::ncurses-6.5-he02047a_1\n",
            "  openssl              pkgs/main::openssl-1.1.1n-h7f8727e_0 --> conda-forge::openssl-3.3.2-hb9d3cd8_0\n",
            "  pip                pkgs/main/linux-64::pip-21.2.4-py38h0~ --> conda-forge/noarch::pip-24.3.1-pyh8b19718_0\n",
            "  pycosat            pkgs/main::pycosat-0.6.3-py38h7b6447c~ --> conda-forge::pycosat-0.6.6-py310h2372a71_0\n",
            "  pysocks            pkgs/main/linux-64::pysocks-1.7.1-py3~ --> conda-forge/noarch::pysocks-1.7.1-pyha2e5f31_6\n",
            "  python                pkgs/main::python-3.8.13-h12debd9_0 --> conda-forge::python-3.10.15-h4a871b0_2_cpython\n",
            "  readline             pkgs/main::readline-8.1.2-h7f8727e_1 --> conda-forge::readline-8.2-h8228510_1\n",
            "  setuptools         pkgs/main/linux-64::setuptools-61.2.0~ --> conda-forge/noarch::setuptools-75.3.0-pyhd8ed1ab_0\n",
            "  sqlite                pkgs/main::sqlite-3.38.2-hc218d9a_0 --> conda-forge::sqlite-3.47.0-h9eae976_1\n",
            "  tk                        pkgs/main::tk-8.6.11-h1ccaba5_0 --> conda-forge::tk-8.6.13-noxft_h4845f30_101\n",
            "  xz                         pkgs/main::xz-5.2.5-h7b6447c_0 --> conda-forge::xz-5.2.6-h166bdaf_0\n",
            "\n",
            "The following packages will be SUPERSEDED by a higher-priority channel:\n",
            "\n",
            "  _libgcc_mutex           pkgs/main::_libgcc_mutex-0.1-main --> conda-forge::_libgcc_mutex-0.1-conda_forge\n",
            "  _openmp_mutex          pkgs/main::_openmp_mutex-4.5-1_gnu --> conda-forge::_openmp_mutex-4.5-2_kmp_llvm\n",
            "\n",
            "\n",
            "\n",
            "Downloading and Extracting Packages\n",
            "xz-5.2.6             | 409 KB    | : 100% 1.0/1 [00:00<00:00,  3.52it/s]\n",
            "plotly-5.24.1        | 6.7 MB    | : 100% 1.0/1 [00:03<00:00,  3.27s/it]\n",
            "multipledispatch-0.6 | 17 KB     | : 100% 1.0/1 [00:00<00:00,  4.61it/s]\n",
            "phreeqc4rkt-3.6.2.2  | 1.0 MB    | : 100% 1.0/1 [00:00<00:00,  4.06it/s]\n",
            "yaml-cpp4rkt-0.6.4.2 | 200 KB    | : 100% 1.0/1 [00:00<00:00,  4.38it/s]\n",
            "toolz-1.0.0          | 51 KB     | : 100% 1.0/1 [00:00<00:00,  4.46it/s]\n",
            "ld_impl_linux-64-2.4 | 654 KB    | : 100% 1.0/1 [00:00<00:00,  4.51it/s]\n",
            "readline-8.2         | 275 KB    | : 100% 1.0/1 [00:00<00:00,  4.50it/s]\n",
            "zipp-3.20.2          | 21 KB     | : 100% 1.0/1 [00:00<00:00,  4.99it/s]\n",
            "ipykernel-6.29.5     | 116 KB    | : 100% 1.0/1 [00:00<00:00,  4.74it/s]\n",
            "nss-3.106            | 1.9 MB    | : 100% 1.0/1 [00:00<00:00,  3.30it/s]\n",
            "ipython-8.29.0       | 585 KB    | : 100% 1.0/1 [00:00<00:00,  4.02it/s]\n",
            "executing-2.1.0      | 28 KB     | : 100% 1.0/1 [00:00<00:00,  4.65it/s]\n",
            "cryptography-43.0.3  | 1.4 MB    | : 100% 1.0/1 [00:00<00:00,  3.50it/s]\n",
            "mathjax-2.7.7        | 21.2 MB   | : 100% 1.0/1 [00:11<00:00, 11.55s/it]\n",
            "libsodium-1.0.20     | 201 KB    | : 100% 1.0/1 [00:00<00:00,  4.72it/s]\n",
            "python-dateutil-2.9. | 218 KB    | : 100% 1.0/1 [00:00<00:00,  4.39it/s]\n",
            "ptyprocess-0.7.0     | 16 KB     | : 100% 1.0/1 [00:00<00:00, 19.88it/s]\n",
            "libffi-3.4.2         | 57 KB     | : 100% 1.0/1 [00:00<00:00, 14.51it/s]\n",
            "keyutils-1.6.1       | 115 KB    | : 100% 1.0/1 [00:00<00:00, 10.60it/s]\n",
            "liblapack-3.9.0      | 15 KB     | : 100% 1.0/1 [00:00<00:00,  5.13it/s]\n",
            "pure_eval-0.2.3      | 16 KB     | : 100% 1.0/1 [00:00<00:00,  4.97it/s]\n",
            "pyzmq-26.2.0         | 330 KB    | : 100% 1.0/1 [00:00<00:00,  4.41it/s]\n",
            "wcwidth-0.2.13       | 32 KB     | : 100% 1.0/1 [00:00<00:00,  4.95it/s]\n",
            "font-ttf-ubuntu-0.83 | 1.5 MB    | : 100% 1.0/1 [00:00<00:00,  3.92it/s]\n",
            "libpng-1.6.44        | 284 KB    | : 100% 1.0/1 [00:00<00:00,  4.13it/s]\n",
            "font-ttf-dejavu-sans | 388 KB    | : 100% 1.0/1 [00:00<00:00,  8.19it/s]\n",
            "libnsl-2.0.1         | 33 KB     | : 100% 1.0/1 [00:00<00:00,  4.79it/s]\n",
            "pybind11-abi-4       | 10 KB     | : 100% 1.0/1 [00:00<00:00, 20.41it/s]\n",
            "conda-package-stream | 20 KB     | : 100% 1.0/1 [00:00<00:00,  4.63it/s]\n",
            "_openmp_mutex-4.5    | 6 KB      | : 100% 1.0/1 [00:00<00:00, 20.15it/s]\n",
            "decorator-5.1.1      | 12 KB     | : 100% 1.0/1 [00:00<00:00, 18.26it/s]\n",
            "tzdata-2024b         | 119 KB    | : 100% 1.0/1 [00:00<00:00,  4.00it/s]\n",
            "fontconfig-2.15.0    | 259 KB    | : 100% 1.0/1 [00:00<00:00,  4.91it/s]\n",
            "cffi-1.17.1          | 238 KB    | : 100% 1.0/1 [00:00<00:00,  4.58it/s]\n",
            "jedi-0.19.1          | 822 KB    | : 100% 1.0/1 [00:00<00:00,  2.11it/s]\n",
            "libgcc-ng-14.2.0     | 53 KB     | : 100% 1.0/1 [00:00<00:00,  4.36it/s]\n",
            "libzlib-1.3.1        | 60 KB     | : 100% 1.0/1 [00:00<00:00,  5.22it/s]\n",
            "pybind11-2.13.6      | 182 KB    | : 100% 1.0/1 [00:00<00:00,  4.61it/s]\n",
            "pip-24.3.1           | 1.2 MB    | : 100% 1.0/1 [00:00<00:00,  3.23it/s]\n",
            "conda-22.11.1        | 913 KB    | : 100% 1.0/1 [00:00<00:00,  3.52it/s]\n",
            "libcblas-3.9.0       | 15 KB     | : 100% 1.0/1 [00:00<00:00,  5.33it/s]\n",
            "brotlipy-0.7.0       | 312 KB    | : 100% 1.0/1 [00:00<00:00,  4.69it/s]\n",
            "expat-2.6.4          | 135 KB    | : 100% 1.0/1 [00:00<00:00,  5.05it/s]\n",
            "python_abi-3.10      | 6 KB      | : 100% 1.0/1 [00:00<00:00,  5.28it/s]\n",
            "parso-0.8.4          | 73 KB     | : 100% 1.0/1 [00:00<00:00,  4.98it/s]\n",
            "tornado-6.4.1        | 635 KB    | : 100% 1.0/1 [00:00<00:00,  4.12it/s]\n",
            "libedit-3.1.20191231 | 121 KB    | : 100% 1.0/1 [00:00<00:00, 11.36it/s]\n",
            "pexpect-4.9.0        | 52 KB     | : 100% 1.0/1 [00:00<00:00,  4.88it/s]\n",
            "jupyter_core-5.7.2   | 56 KB     | : 100% 1.0/1 [00:00<00:00,  4.85it/s]\n",
            "packaging-24.1       | 49 KB     | : 100% 1.0/1 [00:00<00:00,  5.08it/s]\n",
            "libgfortran5-14.2.0  | 1.4 MB    | : 100% 1.0/1 [00:00<00:00,  4.01it/s]\n",
            "libsqlite-3.47.0     | 855 KB    | : 100% 1.0/1 [00:00<00:00,  4.36it/s]\n",
            "kaleido-core-0.2.1   | 59.2 MB   | : 100% 1.0/1 [00:15<00:00, 15.43s/it]              \n",
            "referencing-0.35.1   | 41 KB     | : 100% 1.0/1 [00:00<00:00,  3.55it/s]\n",
            "bzip2-1.0.8          | 247 KB    | : 100% 1.0/1 [00:00<00:00,  3.96it/s]\n",
            "font-ttf-source-code | 684 KB    | : 100% 1.0/1 [00:00<00:00,  3.54it/s]\n",
            "fonts-conda-forge-1  | 4 KB      | : 100% 1.0/1 [00:00<00:00, 17.83it/s]\n",
            "zeromq-4.3.5         | 328 KB    | : 100% 1.0/1 [00:00<00:00,  3.83it/s]\n",
            "chemicalfun-0.1.10   | 374 KB    | : 100% 1.0/1 [00:00<00:00,  3.97it/s]\n",
            "libblas-3.9.0        | 15 KB     | : 100% 1.0/1 [00:00<00:00,  4.42it/s]\n",
            "libuuid-2.38.1       | 33 KB     | : 100% 1.0/1 [00:00<00:00,  5.01it/s]\n",
            "libstdcxx-ng-14.2.0  | 53 KB     | : 100% 1.0/1 [00:00<00:00,  5.13it/s]\n",
            "jsonschema-specifica | 16 KB     | : 100% 1.0/1 [00:00<00:00,  4.79it/s]\n",
            "nspr-4.36            | 225 KB    | : 100% 1.0/1 [00:00<00:00,  4.61it/s]\n",
            "setuptools-75.3.0    | 761 KB    | : 100% 1.0/1 [00:00<00:00,  3.48it/s]\n",
            "libxcrypt-4.4.36     | 98 KB     | : 100% 1.0/1 [00:00<00:00,  5.15it/s]\n",
            "freetype-2.12.1      | 620 KB    | : 100% 1.0/1 [00:00<00:00,  4.22it/s]\n",
            "zstandard-0.23.0     | 399 KB    | : 100% 1.0/1 [00:00<00:00,  4.93it/s]\n",
            "pybind11-global-2.13 | 175 KB    | : 100% 1.0/1 [00:00<00:00,  4.55it/s]\n",
            "tk-8.6.13            | 3.2 MB    | : 100% 1.0/1 [00:00<00:00,  2.99it/s]\n",
            "pkgutil-resolve-name | 11 KB     | : 100% 1.0/1 [00:00<00:00,  4.60it/s]\n",
            "font-ttf-inconsolata | 94 KB     | : 100% 1.0/1 [00:00<00:00, 13.10it/s]\n",
            "debugpy-1.8.8        | 2.0 MB    | : 100% 1.0/1 [00:00<00:00,  2.61it/s]\n",
            "certifi-2024.8.30    | 160 KB    | : 100% 1.0/1 [00:00<00:00,  4.99it/s]\n",
            "numpy-1.26.4         | 6.7 MB    | : 100% 1.0/1 [00:00<00:00,  1.72it/s]               \n",
            "prompt-toolkit-3.0.4 | 264 KB    | : 100% 1.0/1 [00:00<00:00,  4.17it/s]\n",
            "ncurses-6.5          | 868 KB    | : 100% 1.0/1 [00:00<00:00,  2.09it/s]\n",
            "rpds-py-0.21.0       | 326 KB    | : 100% 1.0/1 [00:00<00:00,  4.80it/s]\n",
            "python-kaleido-0.2.1 | 18 KB     | : 100% 1.0/1 [00:00<00:00, 15.03it/s]\n",
            "jsonschema-4.23.0    | 73 KB     | : 100% 1.0/1 [00:00<00:00,  4.92it/s]\n",
            "libgcc-14.2.0        | 829 KB    | : 100% 1.0/1 [00:00<00:00,  4.55it/s]\n",
            "optima-0.5.0         | 713 KB    | : 100% 1.0/1 [00:00<00:00,  4.57it/s]\n",
            "ruamel.yaml-0.17.40  | 196 KB    | : 100% 1.0/1 [00:00<00:00,  4.85it/s]\n",
            "pickleshare-0.7.5    | 9 KB      | : 100% 1.0/1 [00:00<00:00, 14.07it/s]\n",
            "sqlite-3.47.0        | 863 KB    | : 100% 1.0/1 [00:00<00:00,  4.65it/s]\n",
            "tenacity-9.0.0       | 24 KB     | : 100% 1.0/1 [00:00<00:00,  4.69it/s]\n",
            "thermofun-0.4.5      | 1.1 MB    | : 100% 1.0/1 [00:00<00:00,  4.25it/s]\n",
            "importlib_resources- | 32 KB     | : 100% 1.0/1 [00:00<00:00,  4.76it/s]\n",
            "libopenblas-0.3.28   | 5.3 MB    | : 100% 1.0/1 [00:00<00:00,  2.03it/s]               \n",
            "python-3.10.15       | 24.1 MB   | : 100% 1.0/1 [00:01<00:00,  1.19s/it]               \n",
            "nest-asyncio-1.6.0   | 11 KB     | : 100% 1.0/1 [00:00<00:00,  5.16it/s]\n",
            "openssl-3.3.2        | 2.8 MB    | : 100% 1.0/1 [00:00<00:00,  3.21it/s]\n",
            "typing_extensions-4. | 39 KB     | : 100% 1.0/1 [00:00<00:00,  4.89it/s]\n",
            "exceptiongroup-1.2.2 | 20 KB     | : 100% 1.0/1 [00:00<00:00,  5.15it/s]\n",
            "spdlog-1.12.0        | 183 KB    | : 100% 1.0/1 [00:00<00:00,  4.45it/s]\n",
            "platformdirs-4.3.6   | 20 KB     | : 100% 1.0/1 [00:00<00:00,  5.18it/s]\n",
            "pycosat-0.6.6        | 85 KB     | : 100% 1.0/1 [00:00<00:00,  5.00it/s]\n",
            "autodiff-1.1.2       | 795 KB    | : 100% 1.0/1 [00:00<00:00,  3.71it/s]\n",
            "nlohmann_json-3.11.3 | 120 KB    | : 100% 1.0/1 [00:00<00:00,  3.99it/s]\n",
            "stack_data-0.6.2     | 26 KB     | : 100% 1.0/1 [00:00<00:00,  3.56it/s]\n",
            "attrs-24.2.0         | 55 KB     | : 100% 1.0/1 [00:00<00:00,  3.90it/s]\n",
            "psutil-6.1.0         | 360 KB    | : 100% 1.0/1 [00:00<00:00,  3.69it/s]\n",
            "reaktoro-2.12.5      | 5.7 MB    | : 100% 1.0/1 [00:00<00:00,  1.35it/s]\n",
            "llvm-openmp-19.1.3   | 3.0 MB    | : 100% 1.0/1 [00:00<00:00,  2.47it/s]               \n",
            "zstd-1.5.6           | 542 KB    | : 100% 1.0/1 [00:00<00:00,  3.99it/s]\n",
            "matplotlib-inline-0. | 14 KB     | : 100% 1.0/1 [00:00<00:00,  4.39it/s]\n",
            "_libgcc_mutex-0.1    | 3 KB      | : 100% 1.0/1 [00:00<00:00, 18.49it/s]\n",
            "libstdcxx-14.2.0     | 3.7 MB    | : 100% 1.0/1 [00:00<00:00,  3.13it/s]\n",
            "libexpat-2.6.4       | 72 KB     | : 100% 1.0/1 [00:00<00:00,  5.17it/s]\n",
            "ruamel.yaml.clib-0.2 | 143 KB    | : 100% 1.0/1 [00:00<00:00,  5.20it/s]\n",
            "conda-package-handli | 252 KB    | : 100% 1.0/1 [00:00<00:00,  4.97it/s]\n",
            "eigen-3.4.0          | 1.0 MB    | : 100% 1.0/1 [00:00<00:00,  3.30it/s]\n",
            "fmt-10.1.1           | 188 KB    | : 100% 1.0/1 [00:00<00:00,  3.95it/s]               \n",
            "reaktplot-0.4.1      | 115 KB    | : 100% 1.0/1 [00:00<00:00,  4.33it/s]\n",
            "pysocks-1.7.1        | 19 KB     | : 100% 1.0/1 [00:00<00:00, 19.24it/s]\n",
            "ca-certificates-2024 | 155 KB    | : 100% 1.0/1 [00:00<00:00,  5.08it/s]\n",
            "nbformat-5.10.4      | 99 KB     | : 100% 1.0/1 [00:00<00:00,  4.88it/s]\n",
            "pygments-2.18.0      | 859 KB    | : 100% 1.0/1 [00:00<00:00,  3.89it/s]\n",
            "importlib-metadata-8 | 28 KB     | : 100% 1.0/1 [00:00<00:00,  4.98it/s]\n",
            "traitlets-5.14.3     | 108 KB    | : 100% 1.0/1 [00:00<00:00,  5.13it/s]\n",
            "comm-0.2.2           | 12 KB     | : 100% 1.0/1 [00:00<00:00,  5.12it/s]\n",
            "python-fastjsonschem | 221 KB    | : 100% 1.0/1 [00:00<00:00,  4.78it/s]\n",
            "pluggy-1.5.0         | 23 KB     | : 100% 1.0/1 [00:00<00:00,  5.19it/s]\n",
            "libgfortran-14.2.0   | 53 KB     | : 100% 1.0/1 [00:00<00:00,  4.95it/s]\n",
            "jupyter_client-8.6.3 | 104 KB    | : 100% 1.0/1 [00:00<00:00,  4.56it/s]\n",
            "tsl_ordered_map-1.1. | 23 KB     | : 100% 1.0/1 [00:00<00:00,  4.34it/s]\n",
            "asttokens-2.4.1      | 28 KB     | : 100% 1.0/1 [00:00<00:00,  4.74it/s]\n",
            "krb5-1.21.3          | 1.3 MB    | : 100% 1.0/1 [00:00<00:00,  3.89it/s]\n",
            "Preparing transaction: - \b\b\\ \b\b| \b\b/ \b\b- \b\b\\ \b\b| \b\b/ \b\b- \b\b\\ \b\b| \b\b/ \b\b- \b\b\\ \b\b| \b\b/ \b\b- \b\b\\ \b\b| \b\b/ \b\b- \b\b\\ \b\b| \b\b/ \b\b- \b\b\\ \b\b| \b\b/ \b\bdone\n",
            "Verifying transaction: \\ \b\b| \b\b/ \b\b- \b\b\\ \b\b| \b\b/ \b\b- \b\b\\ \b\b| \b\b/ \b\b- \b\b\\ \b\b| \b\b/ \b\b- \b\b\\ \b\b| \b\b/ \b\b- \b\b\\ \b\b| \b\b/ \b\b- \b\b\\ \b\b| \b\b/ \b\b- \b\b\\ \b\b| \b\b/ \b\b- \b\b\\ \b\b| \b\b/ \b\b- \b\b\\ \b\b| \b\b/ \b\b- \b\b\\ \b\b| \b\b/ \b\b- \b\b\\ \b\b| \b\b/ \b\b- \b\b\\ \b\b| \b\b/ \b\b- \b\b\\ \b\b| \b\b/ \b\b- \b\b\\ \b\b| \b\b/ \b\b- \b\b\\ \b\b| \b\b/ \b\b- \b\b\\ \b\b| \b\b/ \b\b- \b\b\\ \b\b| \b\b/ \b\b- \b\b\\ \b\b| \b\b/ \b\b- \b\b\\ \b\b| \b\b/ \b\bdone\n",
            "Executing transaction: \\ \b\b| \b\b/ \b\b- \b\b\\ \b\b| \b\b/ \b\b- \b\b\\ \b\b| \b\b/ \b\b- \b\b\\ \b\b| \b\b/ \b\b- \b\b\\ \b\b| \b\b/ \b\b- \b\b\\ \b\b| \b\b/ \b\b- \b\b\\ \b\b| \b\b/ \b\b- \b\b\\ \b\b| \b\b/ \b\b- \b\b\\ \b\b| \b\b/ \b\b- \b\b\\ \b\b| \b\b/ \b\b- \b\b\\ \b\b| \b\b/ \b\b- \b\b\\ \b\b| \b\b/ \b\b- \b\b\\ \b\b| \b\b/ \b\b- \b\b\\ \b\b| \b\b/ \b\b- \b\b\\ \b\b| \b\b/ \b\b- \b\b\\ \b\b| \b\b/ \b\b- \b\b\\ \b\b| \b\b/ \b\b- \b\b\\ \b\b| \b\b/ \b\b- \b\b\\ \b\b| \b\b/ \b\b- \b\b\\ \b\b| \b\b/ \b\b- \b\b\\ \b\b| \b\b/ \b\b- \b\b\\ \b\b| \b\b/ \b\b- \b\b\\ \b\b| \b\b/ \b\b- \b\b\\ \b\b| \b\b/ \b\b- \b\b\\ \b\b| \b\b/ \b\b- \b\b\\ \b\b| \b\b/ \b\b- \b\b\\ \b\b| \b\b/ \b\b- \b\b\\ \b\b| \b\b/ \b\b- \b\b\\ \b\b| \b\b/ \b\b- \b\b\\ \b\b| \b\b/ \b\b- \b\b\\ \b\b| \b\b/ \b\b- \b\b\\ \b\b| \b\b/ \b\b- \b\b\\ \b\b| \b\b/ \b\b- \b\b\\ \b\b| \b\b/ \b\b- \b\b\\ \b\b| \b\b/ \b\b- \b\b\\ \b\b| \b\b/ \b\b- \b\b\\ \b\b| \b\b/ \b\b- \b\b\\ \b\b| \b\b/ \b\b- \b\b\\ \b\b| \b\b/ \b\b- \b\b\\ \b\b| \b\b/ \b\b- \b\b\\ \b\b| \b\b/ \b\b- \b\b\\ \b\b| \b\b/ \b\b- \b\b\\ \b\b| \b\b/ \b\b- \b\b\\ \b\b| \b\b/ \b\b- \b\b\\ \b\b| \b\b/ \b\b- \b\b\\ \b\b| \b\b/ \b\b- \b\b\\ \b\b| \b\b/ \b\b- \b\b\\ \b\b| \b\b/ \b\b- \b\b\\ \b\b| \b\b/ \b\b- \b\b\\ \b\b| \b\b/ \b\b- \b\b\\ \b\b| \b\b/ \b\b- \b\b\\ \b\b| \b\b/ \b\b- \b\b\\ \b\b| \b\b/ \b\b- \b\b\\ \b\b| \b\b/ \b\b- \b\b\\ \b\b| \b\b/ \b\b- \b\b\\ \b\b| \b\b/ \b\b- \b\b\\ \b\b| \b\b/ \b\b- \b\b\\ \b\b| \b\b/ \b\b- \b\b\\ \b\b| \b\b/ \b\b- \b\b\\ \b\b| \b\b/ \b\b- \b\b\\ \b\b| \b\b/ \b\b- \b\b\\ \b\b| \b\b/ \b\b- \b\b\\ \b\b| \b\b/ \b\b- \b\b\\ \b\b| \b\b/ \b\b- \b\b\\ \b\b| \b\b/ \b\b- \b\b\\ \b\b| \b\b/ \b\b- \b\b\\ \b\b| \b\b/ \b\b- \b\b\\ \b\b| \b\b/ \b\b- \b\b\\ \b\b| \b\b/ \b\b- \b\b\\ \b\b| \b\b/ \b\b- \b\b\\ \b\b| \b\b/ \b\b- \b\bdone\n"
          ]
        }
      ]
    },
    {
      "cell_type": "code",
      "execution_count": 1,
      "metadata": {
        "id": "_XZhhPwmtTHU"
      },
      "outputs": [],
      "source": [
        "from reaktoro import *\n",
        "import reaktoro as rk\n",
        "from numpy import arange"
      ]
    },
    {
      "cell_type": "code",
      "source": [
        "from pprint import pprint\n",
        "pprint(vars(rk.Reaction))"
      ],
      "metadata": {
        "id": "RIBbLMbY0aK5",
        "outputId": "2bc04966-e259-4150-81f1-fc2c96148553",
        "colab": {
          "base_uri": "https://localhost:8080/"
        }
      },
      "execution_count": 2,
      "outputs": [
        {
          "output_type": "stream",
          "name": "stdout",
          "text": [
            "mappingproxy({'__doc__': None,\n",
            "              '__init__': <instancemethod __init__ at 0x7ca12b02b520>,\n",
            "              '__module__': 'reaktoro.reaktoro4py',\n",
            "              '_pybind11_conduit_v1_': <instancemethod _pybind11_conduit_v1_ at 0x7ca12b02b4c0>,\n",
            "              'clone': <instancemethod clone at 0x7ca12b02b580>,\n",
            "              'equation': <instancemethod equation at 0x7ca12b02b760>,\n",
            "              'name': <instancemethod name at 0x7ca12b02b700>,\n",
            "              'props': <instancemethod props at 0x7ca12b02b850>,\n",
            "              'rate': <instancemethod rate at 0x7ca12b02b880>,\n",
            "              'rateModel': <instancemethod rateModel at 0x7ca12b02b7c0>,\n",
            "              'withEquation': <instancemethod withEquation at 0x7ca12b02b640>,\n",
            "              'withName': <instancemethod withName at 0x7ca12b02b5e0>,\n",
            "              'withRateModel': <instancemethod withRateModel at 0x7ca12b02b6a0>})\n"
          ]
        }
      ]
    },
    {
      "cell_type": "code",
      "execution_count": 4,
      "metadata": {
        "id": "50vdBDZjtTHV"
      },
      "outputs": [],
      "source": [
        "#db = NasaDatabase(\"nasa-cea\")\n",
        "db = rk.SupcrtDatabase(\"supcrt16\")\n",
        "db.extendWithDatabase(SupcrtDatabase(\"supcrt16-organics\"))"
      ]
    },
    {
      "cell_type": "code",
      "source": [
        "species_list = db.species()\n",
        "species_list_size = db.species().size()\n",
        "print(species_list_size)"
      ],
      "metadata": {
        "id": "iAZtZMtbbMuZ",
        "outputId": "d1dbafd2-00c1-4865-9580-827679665701",
        "colab": {
          "base_uri": "https://localhost:8080/"
        }
      },
      "execution_count": 5,
      "outputs": [
        {
          "output_type": "stream",
          "name": "stdout",
          "text": [
            "3097\n"
          ]
        }
      ]
    },
    {
      "cell_type": "code",
      "source": [
        "# SEARCH\n",
        "searchterm = \"Lime\"\n",
        "for spec in species_list:\n",
        "    if searchterm in spec.name():\n",
        "        print(\"Found \", spec.name() )\n",
        "        break\n",
        "else:\n",
        "    print(searchterm, \" not found in the database.\")"
      ],
      "metadata": {
        "id": "2lupIceOciHO",
        "outputId": "4cbb9fa6-acc2-44ce-8b68-10d3cda61799",
        "colab": {
          "base_uri": "https://localhost:8080/"
        }
      },
      "execution_count": 10,
      "outputs": [
        {
          "output_type": "stream",
          "name": "stdout",
          "text": [
            "Found  Lime\n"
          ]
        }
      ]
    },
    {
      "cell_type": "code",
      "source": [
        "#for spec in species_list:\n",
        "#    print(spec.name(), spec.formula())\n",
        "\n",
        "solution = AqueousPhase(\"H2O(aq) H+ OH- Na+ NaOH(aq) CO3-2 CO(aq) CO(g) CaOH+ Calcite Lime (-COOH)(aq) CO2(aq) CO3-2 Ca(HCO3)+ Ca+2 CaCO3(aq) FeO(aq) CaOH+\")\n",
        "# Because we want to compute the solubility of halite, a mineral phase is needed\n",
        "solids = MineralPhase(\"Calcite Lime\")\n",
        "\n",
        "HTLsystem = ChemicalSystem(db, solution, solids)\n",
        "for phase in HTLsystem.phases():\n",
        "    print(phase.name())\n",
        "    for species in phase.species():\n",
        "        print(\":: \" + species.name())\n",
        "\n",
        "# all_reactions_size = all_reactions.size()\n",
        "# Print the species names\n",
        "\n",
        "#for rx in spec.:\n",
        "#  print(spec.reaction().stoichiometry())\n"
      ],
      "metadata": {
        "id": "o3zOVVgR-6_w",
        "outputId": "4c421788-440f-4b7f-b60d-95c5ab68fb55",
        "colab": {
          "base_uri": "https://localhost:8080/",
          "height": 217
        }
      },
      "execution_count": 7,
      "outputs": [
        {
          "output_type": "error",
          "ename": "RuntimeError",
          "evalue": "\u001b[1;31m***ERROR*** Could not find any Species object with name CaO.\n\u001b[0m",
          "traceback": [
            "\u001b[0;31m---------------------------------------------------------------------------\u001b[0m",
            "\u001b[0;31mRuntimeError\u001b[0m                              Traceback (most recent call last)",
            "\u001b[0;32m<ipython-input-7-dd2a5fb3aa2c>\u001b[0m in \u001b[0;36m<cell line: 8>\u001b[0;34m()\u001b[0m\n\u001b[1;32m      6\u001b[0m \u001b[0msolids\u001b[0m \u001b[0;34m=\u001b[0m \u001b[0mMineralPhase\u001b[0m\u001b[0;34m(\u001b[0m\u001b[0;34m\"Halite Calcite CaO\"\u001b[0m\u001b[0;34m)\u001b[0m\u001b[0;34m\u001b[0m\u001b[0;34m\u001b[0m\u001b[0m\n\u001b[1;32m      7\u001b[0m \u001b[0;34m\u001b[0m\u001b[0m\n\u001b[0;32m----> 8\u001b[0;31m \u001b[0mHTLsystem\u001b[0m \u001b[0;34m=\u001b[0m \u001b[0mChemicalSystem\u001b[0m\u001b[0;34m(\u001b[0m\u001b[0mdb\u001b[0m\u001b[0;34m,\u001b[0m \u001b[0msolution\u001b[0m\u001b[0;34m,\u001b[0m \u001b[0msolids\u001b[0m\u001b[0;34m)\u001b[0m\u001b[0;34m\u001b[0m\u001b[0;34m\u001b[0m\u001b[0m\n\u001b[0m\u001b[1;32m      9\u001b[0m \u001b[0;32mfor\u001b[0m \u001b[0mphase\u001b[0m \u001b[0;32min\u001b[0m \u001b[0mHTLsystem\u001b[0m\u001b[0;34m.\u001b[0m\u001b[0mphases\u001b[0m\u001b[0;34m(\u001b[0m\u001b[0;34m)\u001b[0m\u001b[0;34m:\u001b[0m\u001b[0;34m\u001b[0m\u001b[0;34m\u001b[0m\u001b[0m\n\u001b[1;32m     10\u001b[0m     \u001b[0mprint\u001b[0m\u001b[0;34m(\u001b[0m\u001b[0mphase\u001b[0m\u001b[0;34m.\u001b[0m\u001b[0mname\u001b[0m\u001b[0;34m(\u001b[0m\u001b[0;34m)\u001b[0m\u001b[0;34m)\u001b[0m\u001b[0;34m\u001b[0m\u001b[0;34m\u001b[0m\u001b[0m\n",
            "\u001b[0;31mRuntimeError\u001b[0m: \u001b[1;31m***ERROR*** Could not find any Species object with name CaO.\n\u001b[0m"
          ]
        }
      ]
    },
    {
      "cell_type": "code",
      "execution_count": null,
      "metadata": {
        "id": "R3hbjIYNtTHV"
      },
      "outputs": [],
      "source": [
        "# Inputs -----------------------------------------------------------------------------\n",
        "massC              = 49.30  # g/mol\n",
        "massH              = 5.5    # g/mol\n",
        "massO              = 45.2   # g/mol\n",
        "HHV                = 18.933 # kJ/g\n",
        "Q                  = 0.05   # heat loss (%) with respect to HHV\n",
        "fAirMin            = 0.70   # minimum value for fAir (fuel to air mass ratio)\n",
        "fAirDelta          = 0.1    # step-size for fAir values\n",
        "fAirNum            = 30     # number of steps for fAir\n",
        "output_all_species = True   # if false, output only a few species\n",
        "# ------------------------------------------------------------------------------------"
      ]
    },
    {
      "cell_type": "code",
      "execution_count": null,
      "metadata": {
        "id": "71jA2ca2tTHW"
      },
      "outputs": [],
      "source": [
        "fAirs = [fAirMin + i * fAirDelta for i in range(fAirNum)]\n",
        "\n",
        "nC = massC / 12.011\n",
        "nH = massH / 1.00797\n",
        "nO = massO / 15.9994\n",
        "\n",
        "h0CO2 = -393.522  # kJ/g\n",
        "h0H2O = -285.83   # kJ/g\n",
        "\n",
        "a = nH / nC\n",
        "b = nO / nC\n",
        "\n",
        "formula = ChemicalFormula(f\"CH{a}O{b}\")\n",
        "\n",
        "Mfuel = formula.molarMass() * 1000  # from kg/mol to g/mol\n",
        "Mair = 28.850334  # in g/mol\n",
        "\n",
        "factor = Mfuel / Mair\n",
        "\n",
        "HHVmol = HHV * Mfuel"
      ]
    },
    {
      "cell_type": "code",
      "execution_count": null,
      "metadata": {
        "id": "Wt9GecZutTHW"
      },
      "outputs": [],
      "source": [
        "h0fuel = HHVmol + h0CO2 + 0.5*h0H2O*a  # in J/mol\n",
        "heatDuty = (1 - Q) * HHVmol + h0CO2 + 0.5*h0H2O*a  # in J/mol"
      ]
    },
    {
      "cell_type": "code",
      "execution_count": null,
      "metadata": {
        "id": "8IHJyJHatTHW"
      },
      "outputs": [],
      "source": [
        "stmodelparams = rk.StandardThermoModelParamsConstant()\n",
        "stmodelparams.G0 = 1.0e+3\n",
        "stmodel = rk.StandardThermoModelConstant(stmodelparams)\n",
        "\n",
        "species = rk.Species()"
      ]
    },
    {
      "cell_type": "code",
      "source": [
        "\n",
        "# pprint(species)\n",
        "print(species.standardThermoModel.__dir__())"
      ],
      "metadata": {
        "id": "P6cWl_L9ueSc",
        "outputId": "a494dba4-1c31-41b8-8cd3-700cb97a7290",
        "colab": {
          "base_uri": "https://localhost:8080/"
        }
      },
      "execution_count": null,
      "outputs": [
        {
          "output_type": "stream",
          "name": "stdout",
          "text": [
            "['__new__', '__repr__', '__hash__', '__call__', '__getattribute__', '__setattr__', '__delattr__', '__lt__', '__le__', '__eq__', '__ne__', '__gt__', '__ge__', '__get__', '__reduce__', '__func__', '__self__', '__doc__', '__str__', '__init__', '__reduce_ex__', '__subclasshook__', '__init_subclass__', '__format__', '__sizeof__', '__dir__', '__class__']\n"
          ]
        }
      ]
    },
    {
      "cell_type": "code",
      "source": [
        "\n",
        "species = species.withName(\"Fuel\")\n",
        "species = species.withElements(formula.elements())\n",
        "species = species.withAggregateState(AggregateState.CondensedPhase)\n",
        "species = species.withStandardThermoModel(stmodel)\n",
        "\n",
        "db.addSpecies(species)"
      ],
      "metadata": {
        "id": "flsGXGko-BVa"
      },
      "execution_count": null,
      "outputs": []
    },
    {
      "cell_type": "code",
      "execution_count": null,
      "metadata": {
        "id": "Sv8Jf-lNtTHX"
      },
      "outputs": [],
      "source": [
        "gases = GaseousPhase(speciate(\"C H O N\"))\n",
        "condensedphases = CondensedPhases(\"Fuel H2O(l) C(gr)\")\n",
        "\n",
        "system = ChemicalSystem(db, condensedphases, gases)"
      ]
    },
    {
      "cell_type": "code",
      "execution_count": null,
      "metadata": {
        "id": "arMjPH2GtTHX"
      },
      "outputs": [],
      "source": [
        "specs = EquilibriumSpecs(system)\n",
        "specs.pressure()\n",
        "specs.enthalpy()\n",
        "\n",
        "solver = EquilibriumSolver(specs)"
      ]
    },
    {
      "cell_type": "code",
      "execution_count": null,
      "metadata": {
        "id": "4ejb7k22tTHX"
      },
      "outputs": [],
      "source": [
        "temperatures = []\n",
        "\n",
        "table = Table()\n",
        "\n",
        "for fAir in fAirs:\n",
        "    state = ChemicalState(system)\n",
        "    state.temperature(320.0, \"°C\")\n",
        "    state.pressure(25.0, \"bar\")\n",
        "    state.set(\"Fuel\", 1.0, \"mol\")\n",
        "    state.set(\"O2\", fAir * factor * 0.21, \"mol\")\n",
        "    state.set(\"N2\", fAir * factor * 0.79, \"mol\")\n",
        "\n",
        "    props = ChemicalProps(state)\n",
        "    conditions = EquilibriumConditions(specs)\n",
        "\n",
        "    conditions.pressure(props.pressure())\n",
        "    conditions.enthalpy(heatDuty, \"kJ\")\n",
        "\n",
        "    conditions.setLowerBoundTemperature(298.15, \"°C\")\n",
        "    conditions.setUpperBoundTemperature(3000.0, \"°C\")\n",
        "\n",
        "    result = solver.solve(state, conditions)\n",
        "\n",
        "    assert result.succeeded()\n",
        "\n",
        "    table.column(\"Air:Fuel\") << fAir\n",
        "    table.column(\"Temperature\") << state.temperature()\n",
        "    table.column(f\"n(Gases)\") << state.props().phaseProps(\"GaseousPhase\").amount()\n",
        "\n",
        "    if output_all_species:\n",
        "        for species in system.species():\n",
        "            table.column(f\"n({species.name()})\") << state.speciesAmount(species.name())\n",
        "    else:\n",
        "        table.column(\"n(C(gr))\")    << state.speciesAmount(\"C(gr)\")\n",
        "        table.column(\"n(CH4)\")      << state.speciesAmount(\"CH4\")\n",
        "        table.column(\"n(CO)\")       << state.speciesAmount(\"CO\")\n",
        "        table.column(\"n(CO2)\")      << state.speciesAmount(\"CO2\")\n",
        "        table.column(\"n(H2)\")       << state.speciesAmount(\"H2\")\n",
        "        table.column(\"n(H2O)\")      << state.speciesAmount(\"H2O\")\n",
        "        table.column(\"n(N2)\")       << state.speciesAmount(\"N2\")"
      ]
    },
    {
      "cell_type": "code",
      "execution_count": null,
      "metadata": {
        "id": "NyXE46sXtTHX"
      },
      "outputs": [],
      "source": [
        "table.save(\"output.txt\")"
      ]
    },
    {
      "cell_type": "code",
      "source": [
        "print(table)"
      ],
      "metadata": {
        "id": "6Qnwm2jgxetq",
        "outputId": "f62acfa7-a95f-4697-95dd-08212c69ee9d",
        "colab": {
          "base_uri": "https://localhost:8080/"
        }
      },
      "execution_count": null,
      "outputs": [
        {
          "output_type": "stream",
          "name": "stdout",
          "text": [
            "Air:Fuel | Temperature | n(Gases) |       n(e-) |        n(C) |       n(C+) |       n(C-) |       n(CH) |      n(CH+) |      n(CH2) |      n(CH3) |    n(CH2OH) |   n(CH2OH+) |     n(CH3O) |      n(CH4) |    n(CH3OH) |   n(CH3OOH) |       n(CN) |      n(CN+) |      n(CN-) |      n(CNN) |    n(CO) |      n(CO+) |   n(CO2) |     n(CO2+) |     n(COOH) |       n(C2) |      n(C2+) |      n(C2-) |      n(C2H) | n(C2H2,acetylene) | n(C2H2,vinylidene) | n(CH2CO,ketene) |  n(O(CH)2O) | n(HO(CO)2OH) | n(C2H3,vinyl) |    n(CH3CN) | n(CH3CO,acetyl) |     n(C2H4) | n(C2H4O,ethylen-o) | n(CH3CHO,ethanal) |  n(CH3COOH) | n(OHCH2COOH) |     n(C2H5) |     n(C2H6) | n(CH3N2CH3) |   n(C2H5OH) |  n(CH3OCH3) | n(CH3O2CH3) |      n(CCN) |      n(CNC) |     n(OCCN) |     n(C2N2) |      n(C2O) |       n(C3) | n(C3H3,1-propynl) | n(C3H3,2-propynl) | n(C3H4,allene) | n(C3H4,propyne) | n(C3H4,cyclo-) | n(C3H5,allyl) | n(C3H6,propylene) | n(C3H6,cyclo-) | n(C3H6O,propylox) | n(C3H6O,acetone) | n(C3H6O,propanal) | n(C3H7,n-propyl) | n(C3H7,i-propyl) |     n(C3H8) | n(C3H8O,1propanol) | n(C3H8O,2propanol) |   n(CNCOCN) |     n(C3O2) |       n(C4) | n(C4H2,butadiyne) | n(C4H4,1,3-cyclo-) | n(C4H6,butadiene) | n(C4H6,1butyne) | n(C4H6,2butyne) | n(C4H6,cyclo-) | n(C4H8,1-butene) | n(C4H8,cis2-buten) | n(C4H8,tr2-butene) | n(C4H8,isobutene) | n(C4H8,cyclo-) | n((CH3COOH)2) | n(C4H9,n-butyl) | n(C4H9,i-butyl) | n(C4H9,s-butyl) | n(C4H9,t-butyl) | n(C4H10,n-butane) | n(C4H10,isobutane) |     n(C4N2) |       n(C5) | n(C5H6,1,3cyclo-) | n(C5H8,cyclo-) | n(C5H10,1-pentene) | n(C5H10,cyclo-) | n(C5H11,pentyl) | n(C5H11,t-pentyl) | n(C5H12,n-pentane) | n(C5H12,i-pentane) | n(CH3C(CH3)2CH3) |     n(C6H2) | n(C6H5,phenyl) | n(C6H5O,phenoxy) |     n(C6H6) | n(C6H5OH,phenol) | n(C6H10,cyclo-) | n(C6H12,1-hexene) | n(C6H12,cyclo-) | n(C6H13,n-hexyl) | n(C6H14,n-hexane) | n(C7H7,benzyl) |     n(C7H8) | n(C7H8O,cresol-mx) | n(C7H14,1-heptene) | n(C7H15,n-heptyl) | n(C7H16,n-heptane) | n(C7H16,2-methylh) | n(C8H8,styrene) | n(C8H10,ethylbenz) | n(C8H16,1-octene) | n(C8H17,n-octyl) | n(C8H18,n-octane) | n(C8H18,isooctane) | n(C9H19,n-nonyl) | n(C10H8,naphthale) | n(C10H21,n-decyl) | n(C12H9,o-bipheny) | n(C12H10,biphenyl) |        n(H) |       n(H+) |       n(H-) |      n(HCN) |      n(HCO) |     n(HCO+) |     n(HCCN) |     n(HCCO) |      n(HNC) |     n(HNCO) |      n(HNO) |     n(HNO2) |     n(HNO3) |      n(HO2) |     n(HO2-) |    n(H2) |      n(H2+) |      n(H2-) | n(HCHO,formaldehy) |    n(HCOOH) |   n(H2O) |     n(H2O+) |     n(H2O2) |     n(H3O+) | n((HCOOH)2) |        n(N) |       n(N+) |       n(N-) |      n(NCO) |       n(NH) |      n(NH+) |      n(NH2) |      n(NH3) |    n(NH2OH) |     n(NH4+) |       n(NO) |      n(NO+) |      n(NO2) |     n(NO2-) |      n(NO3) |     n(NO3-) |    n(N2) |      n(N2+) |      n(N2-) |      n(NCN) |     n(N2H2) |   n(NH2NO2) |     n(N2H4) |      n(N2O) |     n(N2O+) |     n(N2O3) |     n(N2O4) |     n(N2O5) |       n(N3) |      n(N3H) |        n(O) |       n(O+) |       n(O-) |       n(OH) |      n(OH+) |      n(OH-) |       n(O2) |      n(O2+) |      n(O2-) |       n(O3) | n(JP-10(g)) | n(Jet-A(g)) |     n(Fuel) |   n(H2O(l)) |    n(C(gr))\n",
            "0.700000 |     1000.57 |  1.46580 | 1.00000e-16 | 1.00000e-16 | 1.00000e-16 | 1.00000e-16 | 1.00000e-16 | 1.00000e-16 | 1.00000e-16 | 1.80529e-09 | 1.08223e-13 | 1.00000e-16 | 1.17933e-15 |   0.0878726 | 7.45775e-08 | 1.00000e-16 | 1.00000e-16 | 1.00000e-16 | 1.00000e-16 | 1.00000e-16 | 0.164373 | 1.00000e-16 | 0.258398 | 1.00000e-16 | 5.19292e-12 | 1.00000e-16 | 1.00000e-16 | 1.00000e-16 | 1.00000e-16 |       2.70010e-10 |        1.00000e-16 |     1.18028e-08 | 1.82199e-14 |  1.53287e-15 |   8.81205e-16 | 1.06734e-07 |     4.58370e-13 | 5.51570e-07 |        9.60529e-16 |       1.21495e-08 | 4.28545e-09 |  2.08968e-14 | 3.01665e-12 | 5.88897e-06 | 1.00000e-16 | 1.01652e-10 | 4.10012e-14 | 1.00000e-16 | 1.00000e-16 | 1.00000e-16 | 1.00000e-16 | 5.94862e-15 | 1.00000e-16 | 1.00000e-16 |       1.00000e-16 |       2.01640e-16 |    4.39790e-13 |     1.62833e-12 |    1.00000e-16 |   4.14173e-14 |       1.19354e-09 |    5.42870e-13 |       1.00000e-16 |      3.27616e-11 |       2.37713e-12 |      6.97650e-16 |      1.14699e-15 | 1.59403e-09 |        2.69594e-14 |        5.54833e-14 | 1.00000e-16 | 4.68425e-14 | 1.00000e-16 |       1.00000e-16 |        1.00000e-16 |       9.75109e-14 |     4.60485e-16 |     1.48446e-15 |    1.00000e-16 |      3.04495e-13 |        2.29463e-13 |        2.64604e-13 |       4.02336e-13 |    1.00000e-16 |   1.00000e-16 |     1.00000e-16 |     1.00000e-16 |     1.00000e-16 |     1.00000e-16 |       4.22080e-13 |        2.24460e-13 | 1.00000e-16 | 1.00000e-16 |       8.01756e-16 |    2.29086e-16 |        1.00000e-16 |     1.00000e-16 |     1.00000e-16 |       1.00000e-16 |        1.00000e-16 |        1.13644e-16 |      1.00000e-16 | 1.00000e-16 |    1.00000e-16 |      1.00000e-16 | 9.25005e-14 |      1.00000e-16 |     1.00000e-16 |       1.00000e-16 |     1.00000e-16 |      1.00000e-16 |       1.00000e-16 |    1.00000e-16 | 3.03854e-16 |        1.00000e-16 |        1.00000e-16 |       1.00000e-16 |        1.00000e-16 |        1.00000e-16 |     1.00000e-16 |        1.00000e-16 |       1.00000e-16 |      1.00000e-16 |       1.00000e-16 |        1.00000e-16 |      1.00000e-16 |        1.00000e-16 |       1.00000e-16 |        1.00000e-16 |        1.00000e-16 | 2.69152e-10 | 1.00000e-16 | 1.00000e-16 | 2.17534e-06 | 2.23039e-11 | 1.00000e-16 | 1.00000e-16 | 1.00000e-16 | 2.55483e-09 | 8.05383e-07 | 1.00000e-16 | 1.00000e-16 | 1.00000e-16 | 1.00000e-16 | 1.00000e-16 | 0.232398 | 1.00000e-16 | 1.00000e-16 |        3.62598e-07 | 8.24785e-07 | 0.255383 | 1.00000e-16 | 1.00000e-16 | 1.00000e-16 | 1.00000e-16 | 1.00000e-16 | 1.00000e-16 | 1.00000e-16 | 1.00000e-16 | 1.00000e-16 | 1.00000e-16 | 1.20952e-12 | 0.000759739 | 1.03818e-16 | 1.00000e-16 | 1.24812e-15 | 1.00000e-16 | 1.00000e-16 | 1.00000e-16 | 1.00000e-16 | 1.00000e-16 | 0.466607 | 1.00000e-16 | 1.00000e-16 | 1.00000e-16 | 1.00000e-16 | 1.00000e-16 | 1.09759e-16 | 1.00000e-16 | 1.00000e-16 | 1.00000e-16 | 1.00000e-16 | 1.00000e-16 | 1.00000e-16 | 1.00000e-16 | 1.00000e-16 | 1.00000e-16 | 1.00000e-16 | 8.41875e-13 | 1.00000e-16 | 1.00000e-16 | 1.00000e-16 | 1.00000e-16 | 1.00000e-16 | 1.00000e-16 | 1.00000e-16 | 1.00000e-16 | 1.00000e-16 | 1.00000e-16 |    0.489339\n",
            "0.800000 |     1015.85 |  1.57859 | 1.00000e-16 | 1.00000e-16 | 1.00000e-16 | 1.00000e-16 | 1.00000e-16 | 1.00000e-16 | 1.00000e-16 | 2.53536e-09 | 1.56543e-13 | 1.00000e-16 | 1.81314e-15 |   0.0821956 | 7.68254e-08 | 1.00000e-16 | 1.00000e-16 | 1.00000e-16 | 1.00000e-16 | 1.00000e-16 | 0.200623 | 1.00000e-16 | 0.262559 | 1.00000e-16 | 7.31783e-12 | 1.00000e-16 | 1.00000e-16 | 1.00000e-16 | 1.00000e-16 |       4.41251e-10 |        1.00000e-16 |     1.61302e-08 | 2.58476e-14 |  1.63925e-15 |   1.62619e-15 | 1.33086e-07 |     6.72207e-13 | 6.49505e-07 |        1.29671e-15 |       1.33613e-08 | 4.06382e-09 |  2.12860e-14 | 4.00317e-12 | 5.40605e-06 | 1.00000e-16 | 9.88380e-11 | 4.35835e-14 | 1.00000e-16 | 1.00000e-16 | 1.00000e-16 | 1.00000e-16 | 1.19653e-14 | 1.00000e-16 | 1.00000e-16 |       1.00000e-16 |       3.97725e-16 |    6.68839e-13 |     2.44783e-12 |    1.00000e-16 |   6.00890e-14 |       1.32521e-09 |    6.39984e-13 |       1.00000e-16 |      3.27934e-11 |       2.53819e-12 |      8.97737e-16 |      1.44716e-15 | 1.41221e-09 |        2.52401e-14 |        5.06397e-14 | 1.00000e-16 | 8.23896e-14 | 1.00000e-16 |       1.00000e-16 |        1.00000e-16 |       1.29048e-13 |     6.69013e-16 |     2.06887e-15 |    1.00000e-16 |      3.26171e-13 |        2.41387e-13 |        2.77861e-13 |       4.18294e-13 |    1.00000e-16 |   1.00000e-16 |     1.00000e-16 |     1.00000e-16 |     1.00000e-16 |     1.00000e-16 |       3.61340e-13 |        1.89130e-13 | 1.00000e-16 | 1.00000e-16 |       1.09782e-15 |    2.60317e-16 |        1.00000e-16 |     1.00000e-16 |     1.00000e-16 |       1.00000e-16 |        1.00000e-16 |        1.00000e-16 |      1.00000e-16 | 1.00000e-16 |    1.00000e-16 |      1.00000e-16 | 1.15062e-13 |      1.00000e-16 |     1.00000e-16 |       1.00000e-16 |     1.00000e-16 |      1.00000e-16 |       1.00000e-16 |    1.00000e-16 | 3.55860e-16 |        1.00000e-16 |        1.00000e-16 |       1.00000e-16 |        1.00000e-16 |        1.00000e-16 |     1.00000e-16 |        1.00000e-16 |       1.00000e-16 |      1.00000e-16 |       1.00000e-16 |        1.00000e-16 |      1.00000e-16 |        1.00000e-16 |       1.00000e-16 |        1.00000e-16 |        1.00000e-16 | 4.35535e-10 | 1.00000e-16 | 1.00000e-16 | 3.07572e-06 | 3.59009e-11 | 1.00000e-16 | 1.00000e-16 | 1.00000e-16 | 4.04577e-09 | 1.00138e-06 | 1.00000e-16 | 1.00000e-16 | 1.00000e-16 | 1.00000e-16 | 1.00000e-16 | 0.252835 | 1.00000e-16 | 1.00000e-16 |        4.42554e-07 | 8.63334e-07 | 0.246278 | 1.00000e-16 | 1.00000e-16 | 1.00000e-16 | 1.00000e-16 | 1.00000e-16 | 1.00000e-16 | 1.00000e-16 | 1.35758e-16 | 1.00000e-16 | 1.00000e-16 | 1.89276e-12 | 0.000774566 | 1.46432e-16 | 1.00000e-16 | 2.26756e-15 | 1.00000e-16 | 1.00000e-16 | 1.00000e-16 | 1.00000e-16 | 1.00000e-16 | 0.533311 | 1.00000e-16 | 1.00000e-16 | 1.00000e-16 | 1.00000e-16 | 1.00000e-16 | 1.49155e-16 | 1.00000e-16 | 1.00000e-16 | 1.00000e-16 | 1.00000e-16 | 1.00000e-16 | 1.00000e-16 | 1.00000e-16 | 1.00000e-16 | 1.00000e-16 | 1.00000e-16 | 1.35110e-12 | 1.00000e-16 | 1.00000e-16 | 1.00000e-16 | 1.00000e-16 | 1.00000e-16 | 1.00000e-16 | 1.00000e-16 | 1.00000e-16 | 1.00000e-16 | 1.00000e-16 |    0.454604\n",
            "0.900000 |     1029.33 |  1.69129 | 1.00000e-16 | 1.00000e-16 | 1.00000e-16 | 1.00000e-16 | 1.00000e-16 | 1.00000e-16 | 1.00000e-16 | 3.37848e-09 | 2.13179e-13 | 1.00000e-16 | 2.60186e-15 |   0.0770949 | 7.79821e-08 | 1.00000e-16 | 1.00000e-16 | 1.00000e-16 | 1.00000e-16 | 1.00000e-16 | 0.238381 | 1.00000e-16 | 0.265702 | 1.00000e-16 | 9.76984e-12 | 1.00000e-16 | 1.00000e-16 | 1.00000e-16 | 1.00000e-16 |       6.71561e-10 |        1.00000e-16 |     2.09871e-08 | 3.46039e-14 |  1.71050e-15 |   2.73797e-15 | 1.60003e-07 |     9.26299e-13 | 7.41982e-07 |        1.65946e-15 |       1.43441e-08 | 3.82968e-09 |  2.12548e-14 | 5.05055e-12 | 4.95916e-06 | 1.00000e-16 | 9.49078e-11 | 4.51701e-14 | 1.00000e-16 | 1.00000e-16 | 1.00000e-16 | 1.00000e-16 | 2.18469e-14 | 1.00000e-16 | 1.00000e-16 |       1.00000e-16 |       7.08969e-16 |    9.51279e-13 |     3.44700e-12 |    1.00000e-16 |   8.18382e-14 |       1.43080e-09 |    7.27411e-13 |       1.00000e-16 |      3.22809e-11 |       2.64086e-12 |      1.09647e-15 |      1.73784e-15 | 1.24902e-09 |        2.33207e-14 |        4.57835e-14 | 1.00000e-16 | 1.33402e-13 | 1.00000e-16 |       1.00000e-16 |        1.00000e-16 |       1.61966e-13 |     9.09421e-16 |     2.71375e-15 |    1.00000e-16 |      3.39430e-13 |        2.47319e-13 |        2.84269e-13 |       4.24296e-13 |    1.00000e-16 |   1.00000e-16 |     1.00000e-16 |     1.00000e-16 |     1.00000e-16 |     1.00000e-16 |       3.08471e-13 |        1.59278e-13 | 1.00000e-16 | 1.00000e-16 |       1.41855e-15 |    2.84966e-16 |        1.00000e-16 |     1.00000e-16 |     1.00000e-16 |       1.00000e-16 |        1.00000e-16 |        1.00000e-16 |      1.00000e-16 | 1.00000e-16 |    1.00000e-16 |      1.00000e-16 | 1.36931e-13 |      1.00000e-16 |     1.00000e-16 |       1.00000e-16 |     1.00000e-16 |      1.00000e-16 |       1.00000e-16 |    1.00000e-16 | 3.99739e-16 |        1.00000e-16 |        1.00000e-16 |       1.00000e-16 |        1.00000e-16 |        1.00000e-16 |     1.00000e-16 |        1.00000e-16 |       1.00000e-16 |      1.00000e-16 |       1.00000e-16 |        1.00000e-16 |      1.00000e-16 |        1.00000e-16 |       1.00000e-16 |        1.00000e-16 |        1.00000e-16 | 6.59450e-10 | 1.00000e-16 | 1.00000e-16 | 4.14355e-06 | 5.39033e-11 | 1.00000e-16 | 1.00000e-16 | 1.00000e-16 | 6.00611e-09 | 1.20404e-06 | 1.00000e-16 | 1.00000e-16 | 1.00000e-16 | 1.00000e-16 | 1.00000e-16 | 0.271599 | 1.00000e-16 | 1.00000e-16 |        5.22635e-07 | 8.90860e-07 | 0.237702 | 1.00000e-16 | 1.00000e-16 | 1.00000e-16 | 1.00000e-16 | 1.00000e-16 | 1.00000e-16 | 1.00000e-16 | 2.41567e-16 | 1.00000e-16 | 1.00000e-16 | 2.77297e-12 | 0.000783732 | 1.94983e-16 | 1.00000e-16 | 3.78477e-15 | 1.00000e-16 | 1.00000e-16 | 1.00000e-16 | 1.00000e-16 | 1.00000e-16 | 0.600019 | 1.00000e-16 | 1.00000e-16 | 1.00000e-16 | 1.00000e-16 | 1.00000e-16 | 1.92279e-16 | 1.00000e-16 | 1.00000e-16 | 1.00000e-16 | 1.00000e-16 | 1.00000e-16 | 1.00000e-16 | 1.00000e-16 | 1.00000e-16 | 1.00000e-16 | 1.00000e-16 | 2.02367e-12 | 1.00000e-16 | 1.00000e-16 | 1.00000e-16 | 1.00000e-16 | 1.00000e-16 | 1.00000e-16 | 1.00000e-16 | 1.00000e-16 | 1.00000e-16 | 1.00000e-16 |    0.418804\n",
            " 1.00000 |     1041.36 |  1.80389 | 1.00000e-16 | 1.00000e-16 | 1.00000e-16 | 1.00000e-16 | 1.00000e-16 | 1.00000e-16 | 1.00000e-16 | 4.32498e-09 | 2.77272e-13 | 1.00000e-16 | 3.54258e-15 |   0.0724905 | 7.83111e-08 | 1.00000e-16 | 1.00000e-16 | 1.00000e-16 | 1.00000e-16 | 1.00000e-16 | 0.277374 | 1.00000e-16 | 0.267990 | 1.00000e-16 | 1.25146e-11 | 1.00000e-16 | 1.00000e-16 | 1.00000e-16 | 1.00000e-16 |       9.67729e-10 |        1.00000e-16 |     2.62995e-08 | 4.43246e-14 |  1.75260e-15 |   4.29747e-15 | 1.87110e-07 |     1.21734e-12 | 8.28473e-07 |        2.03957e-15 |       1.51259e-08 | 3.59441e-09 |  2.09202e-14 | 6.13372e-12 | 4.55064e-06 | 1.00000e-16 | 9.03575e-11 | 4.59621e-14 | 1.00000e-16 | 1.00000e-16 | 1.00000e-16 | 1.00000e-16 | 3.70229e-14 | 1.00000e-16 | 1.00000e-16 |       1.00000e-16 |       1.16959e-15 |    1.28576e-12 |     4.61866e-12 |    1.00000e-16 |   1.06252e-13 |       1.51331e-09 |    8.04639e-13 |       1.00000e-16 |      3.14043e-11 |       2.69644e-12 |      1.28809e-15 |      2.01151e-15 | 1.10473e-09 |        2.13626e-14 |        4.11551e-14 | 1.00000e-16 | 2.02679e-13 | 1.00000e-16 |       1.00000e-16 |        1.00000e-16 |       1.95349e-13 |     1.17576e-15 |     3.40093e-15 |    1.00000e-16 |      3.45941e-13 |        2.48655e-13 |        2.85446e-13 |       4.22889e-13 |    1.00000e-16 |   1.00000e-16 |     1.00000e-16 |     1.00000e-16 |     1.00000e-16 |     1.00000e-16 |       2.63239e-13 |        1.34325e-13 | 1.00000e-16 | 1.00000e-16 |       1.75480e-15 |    3.03548e-16 |        1.00000e-16 |     1.00000e-16 |     1.00000e-16 |       1.00000e-16 |        1.00000e-16 |        1.00000e-16 |      1.00000e-16 | 1.00000e-16 |    1.00000e-16 |      1.00000e-16 | 1.57657e-13 |      1.00000e-16 |     1.00000e-16 |       1.00000e-16 |     1.00000e-16 |      1.00000e-16 |       1.00000e-16 |    1.00000e-16 | 4.35473e-16 |        1.00000e-16 |        1.00000e-16 |       1.00000e-16 |        1.00000e-16 |        1.00000e-16 |     1.00000e-16 |        1.00000e-16 |       1.00000e-16 |      1.00000e-16 |       1.00000e-16 |        1.00000e-16 |      1.00000e-16 |        1.00000e-16 |       1.00000e-16 |        1.00000e-16 |        1.00000e-16 | 9.48551e-10 | 1.00000e-16 | 1.00000e-16 | 5.37788e-06 | 7.67190e-11 | 1.00000e-16 | 1.00000e-16 | 1.48938e-16 | 8.48373e-09 | 1.41094e-06 | 1.00000e-16 | 1.00000e-16 | 1.00000e-16 | 1.00000e-16 | 1.00000e-16 | 0.288904 | 1.00000e-16 | 1.00000e-16 |        6.01877e-07 | 9.09474e-07 | 0.229599 | 1.00000e-16 | 1.00000e-16 | 1.00000e-16 | 1.00000e-16 | 1.00000e-16 | 1.00000e-16 | 1.00000e-16 | 3.99381e-16 | 1.00000e-16 | 1.00000e-16 | 3.86234e-12 | 0.000788624 | 2.48522e-16 | 1.00000e-16 | 5.91787e-15 | 1.00000e-16 | 1.00000e-16 | 1.00000e-16 | 1.00000e-16 | 1.00000e-16 | 0.666728 | 1.00000e-16 | 1.00000e-16 | 1.00000e-16 | 1.00000e-16 | 1.00000e-16 | 2.38187e-16 | 1.00000e-16 | 1.00000e-16 | 1.00000e-16 | 1.00000e-16 | 1.00000e-16 | 1.00000e-16 | 1.00000e-16 | 1.00000e-16 | 1.00000e-16 | 1.00000e-16 | 2.87432e-12 | 1.00000e-16 | 1.00000e-16 | 1.00000e-16 | 1.00000e-16 | 1.00000e-16 | 1.00000e-16 | 1.00000e-16 | 1.00000e-16 | 1.00000e-16 | 1.00000e-16 |    0.382126\n",
            " 1.10000 |     1052.24 |  1.91635 | 1.00000e-16 | 1.00000e-16 | 1.00000e-16 | 1.00000e-16 | 1.00000e-16 | 1.00000e-16 | 1.00000e-16 | 5.36559e-09 | 3.47945e-13 | 1.00000e-16 | 4.62954e-15 |   0.0683155 | 7.80160e-08 | 1.00000e-16 | 1.00000e-16 | 1.00000e-16 | 1.00000e-16 | 1.00000e-16 | 0.317388 | 1.00000e-16 | 0.269555 | 1.00000e-16 | 1.55181e-11 | 1.00000e-16 | 1.00000e-16 | 1.00000e-16 | 1.00000e-16 |       1.33584e-09 |        1.00000e-16 |     3.20006e-08 | 5.48507e-14 |  1.77106e-15 |   6.38430e-15 | 2.14141e-07 |     1.54173e-12 | 9.08869e-07 |        2.42948e-15 |       1.57345e-08 | 3.36475e-09 |  2.03732e-14 | 7.23304e-12 | 4.17963e-06 | 1.00000e-16 | 8.55181e-11 | 4.61350e-14 | 1.00000e-16 | 1.00000e-16 | 1.00000e-16 | 1.00000e-16 | 5.91532e-14 | 1.00000e-16 | 1.00000e-16 |       1.00000e-16 |       1.81579e-15 |    1.67017e-12 |     5.95343e-12 |    1.00000e-16 |   1.32925e-13 |       1.57594e-09 |    8.71868e-13 |       1.00000e-16 |      3.02946e-11 |       2.71494e-12 |      1.46889e-15 |      2.26389e-15 | 9.78143e-10 |        1.94597e-14 |        3.68702e-14 | 1.00000e-16 | 2.92867e-13 | 1.00000e-16 |       1.00000e-16 |        1.00000e-16 |       2.28510e-13 |     1.46236e-15 |     4.11487e-15 |    1.00000e-16 |      3.47208e-13 |        2.46570e-13 |        2.82746e-13 |       4.16139e-13 |    1.00000e-16 |   1.00000e-16 |     1.00000e-16 |     1.00000e-16 |     1.00000e-16 |     1.00000e-16 |       2.24887e-13 |        1.13562e-13 | 1.00000e-16 | 1.00000e-16 |       2.09906e-15 |    3.16806e-16 |        1.00000e-16 |     1.00000e-16 |     1.00000e-16 |       1.00000e-16 |        1.00000e-16 |        1.00000e-16 |      1.00000e-16 | 1.00000e-16 |    1.00000e-16 |      1.00000e-16 | 1.76984e-13 |      1.00000e-16 |     1.00000e-16 |       1.00000e-16 |     1.00000e-16 |      1.00000e-16 |       1.00000e-16 |    1.00000e-16 | 4.63592e-16 |        1.00000e-16 |        1.00000e-16 |       1.00000e-16 |        1.00000e-16 |        1.00000e-16 |     1.00000e-16 |        1.00000e-16 |       1.00000e-16 |      1.00000e-16 |       1.00000e-16 |        1.00000e-16 |      1.00000e-16 |        1.00000e-16 |       1.00000e-16 |        1.00000e-16 |        1.00000e-16 | 1.31016e-09 | 1.00000e-16 | 1.00000e-16 | 6.77729e-06 | 1.04690e-10 | 1.00000e-16 | 1.00000e-16 | 2.39435e-16 | 1.15222e-08 | 1.62026e-06 | 1.00000e-16 | 1.00000e-16 | 1.00000e-16 | 1.00000e-16 | 1.00000e-16 | 0.304927 | 1.00000e-16 | 1.00000e-16 |        6.79628e-07 | 9.20889e-07 | 0.221923 | 1.00000e-16 | 1.00000e-16 | 1.00000e-16 | 1.00000e-16 | 1.00000e-16 | 1.00000e-16 | 1.00000e-16 | 6.23108e-16 | 1.00000e-16 | 1.00000e-16 | 5.17033e-12 | 0.000790250 | 3.06163e-16 | 1.00000e-16 | 8.78859e-15 | 1.00000e-16 | 1.00000e-16 | 1.00000e-16 | 1.00000e-16 | 1.00000e-16 | 0.733439 | 1.00000e-16 | 1.00000e-16 | 1.00000e-16 | 1.16523e-16 | 1.00000e-16 | 2.86083e-16 | 1.00000e-16 | 1.00000e-16 | 1.00000e-16 | 1.00000e-16 | 1.00000e-16 | 1.00000e-16 | 1.00000e-16 | 1.00000e-16 | 1.00000e-16 | 1.00000e-16 | 3.91535e-12 | 1.00000e-16 | 1.00000e-16 | 1.00000e-16 | 1.00000e-16 | 1.00000e-16 | 1.00000e-16 | 1.00000e-16 | 1.00000e-16 | 1.00000e-16 | 1.00000e-16 |    0.344721\n",
            " 1.20000 |     1062.18 |  2.02868 | 1.00000e-16 | 1.00000e-16 | 1.00000e-16 | 1.00000e-16 | 1.00000e-16 | 1.00000e-16 | 1.00000e-16 | 6.49183e-09 | 4.24358e-13 | 1.00000e-16 | 5.85540e-15 |   0.0645137 | 7.72535e-08 | 1.00000e-16 | 1.00000e-16 | 1.00000e-16 | 1.00000e-16 | 1.00000e-16 | 0.358256 | 1.00000e-16 | 0.270498 | 1.00000e-16 | 1.87481e-11 | 1.00000e-16 | 1.00000e-16 | 1.00000e-16 | 1.00000e-16 |       1.78142e-09 |        1.00000e-16 |     3.80318e-08 | 6.60354e-14 |  1.77063e-15 |   9.07630e-15 | 2.40912e-07 |     1.89590e-12 | 9.83303e-07 |        2.82318e-15 |       1.61957e-08 | 3.14456e-09 |  1.96829e-14 | 8.33363e-12 | 3.84375e-06 | 1.00000e-16 | 8.06063e-11 | 4.58346e-14 | 1.00000e-16 | 1.00000e-16 | 1.00000e-16 | 1.00000e-16 | 9.01317e-14 | 1.00000e-16 | 1.00000e-16 |       1.00000e-16 |       2.68533e-15 |    2.10199e-12 |     7.44107e-12 |    1.00000e-16 |   1.61480e-13 |       1.62174e-09 |    9.29687e-13 |       1.00000e-16 |      2.90456e-11 |       2.70479e-12 |      1.63672e-15 |      2.49297e-15 | 8.67512e-10 |        1.76633e-14 |        3.29727e-14 | 1.00000e-16 | 4.06459e-13 | 1.00000e-16 |       1.00000e-16 |        1.00000e-16 |       2.60955e-13 |     1.76414e-15 |     4.84287e-15 |    1.00000e-16 |      3.44501e-13 |        2.42011e-13 |        2.77255e-13 |       4.05658e-13 |    1.00000e-16 |   1.00000e-16 |     1.00000e-16 |     1.00000e-16 |     1.00000e-16 |     1.00000e-16 |       1.92504e-13 |        9.63062e-14 | 1.00000e-16 | 1.00000e-16 |       2.44544e-15 |    3.25539e-16 |        1.00000e-16 |     1.00000e-16 |     1.00000e-16 |       1.00000e-16 |        1.00000e-16 |        1.00000e-16 |      1.00000e-16 | 1.00000e-16 |    1.00000e-16 |      1.00000e-16 | 1.94793e-13 |      1.00000e-16 |     1.00000e-16 |       1.00000e-16 |     1.00000e-16 |      1.00000e-16 |       1.00000e-16 |    1.00000e-16 | 4.84885e-16 |        1.00000e-16 |        1.00000e-16 |       1.00000e-16 |        1.00000e-16 |        1.00000e-16 |     1.00000e-16 |        1.00000e-16 |       1.00000e-16 |      1.00000e-16 |       1.00000e-16 |        1.00000e-16 |      1.00000e-16 |        1.00000e-16 |       1.00000e-16 |        1.00000e-16 |        1.00000e-16 | 1.75136e-09 | 1.00000e-16 | 1.00000e-16 | 8.34031e-06 | 1.38104e-10 | 1.00000e-16 | 1.00000e-16 | 3.65772e-16 | 1.51621e-08 | 1.83061e-06 | 1.00000e-16 | 1.00000e-16 | 1.00000e-16 | 1.00000e-16 | 1.00000e-16 | 0.319820 | 1.00000e-16 | 1.00000e-16 |        7.55461e-07 | 9.26483e-07 | 0.214635 | 1.00000e-16 | 1.00000e-16 | 1.00000e-16 | 1.00000e-16 | 1.00000e-16 | 1.00000e-16 | 1.00000e-16 | 9.27842e-16 | 1.00000e-16 | 1.00000e-16 | 6.70446e-12 | 0.000789357 | 3.67108e-16 | 1.00000e-16 | 1.25215e-14 | 1.00000e-16 | 1.00000e-16 | 1.00000e-16 | 1.00000e-16 | 1.00000e-16 | 0.800151 | 1.00000e-16 | 1.00000e-16 | 1.00000e-16 | 1.56733e-16 | 1.00000e-16 | 3.35316e-16 | 1.00000e-16 | 1.00000e-16 | 1.00000e-16 | 1.00000e-16 | 1.00000e-16 | 1.00000e-16 | 1.00000e-16 | 1.00000e-16 | 1.00000e-16 | 1.00000e-16 | 5.15717e-12 | 1.00000e-16 | 1.00000e-16 | 1.00000e-16 | 1.00000e-16 | 1.00000e-16 | 1.00000e-16 | 1.00000e-16 | 1.00000e-16 | 1.00000e-16 | 1.00000e-16 |    0.306709\n",
            " 1.30000 |     1071.32 |  2.14087 | 1.00000e-16 | 1.00000e-16 | 1.00000e-16 | 1.00000e-16 | 1.00000e-16 | 1.00000e-16 | 1.00000e-16 | 7.69614e-09 | 5.05736e-13 | 1.00000e-16 | 7.21209e-15 |   0.0610380 | 7.61438e-08 | 1.00000e-16 | 1.00000e-16 | 1.00000e-16 | 1.00000e-16 | 1.00000e-16 | 0.399842 | 1.00000e-16 | 0.270906 | 1.00000e-16 | 2.21753e-11 | 1.00000e-16 | 1.00000e-16 | 1.00000e-16 | 1.00000e-16 |       2.30960e-09 |        1.00000e-16 |     4.43422e-08 | 7.77477e-14 |  1.75531e-15 |   1.24496e-14 | 2.67297e-07 |     2.27647e-12 | 1.05205e-06 |        3.21599e-15 |       1.65319e-08 | 2.93588e-09 |  1.89010e-14 | 9.42446e-12 | 3.54006e-06 | 1.00000e-16 | 7.57615e-11 | 4.51789e-14 | 1.00000e-16 | 1.00000e-16 | 1.00000e-16 | 1.00000e-16 | 1.32092e-13 | 1.00000e-16 | 1.00000e-16 |       1.00000e-16 |       3.81722e-15 |    2.57861e-12 |     9.07135e-12 |    1.32234e-16 |   1.91585e-13 |       1.65346e-09 |    9.78872e-13 |       1.00000e-16 |      2.77234e-11 |       2.67288e-12 |      1.79057e-15 |      2.69829e-15 | 7.70949e-10 |        1.59980e-14 |        2.94663e-14 | 1.00000e-16 | 5.45797e-13 | 1.00000e-16 |       1.00000e-16 |        1.00000e-16 |       2.92348e-13 |     2.07676e-15 |     5.57491e-15 |    1.00000e-16 |      3.38850e-13 |        2.35714e-13 |        2.69813e-13 |       3.92672e-13 |    1.00000e-16 |   1.00000e-16 |     1.00000e-16 |     1.00000e-16 |     1.00000e-16 |     1.00000e-16 |       1.65197e-13 |        8.19505e-14 | 1.00000e-16 | 1.00000e-16 |       2.78946e-15 |    3.30511e-16 |        1.00000e-16 |     1.00000e-16 |     1.00000e-16 |       1.00000e-16 |        1.00000e-16 |        1.00000e-16 |      1.00000e-16 | 1.00000e-16 |    1.00000e-16 |      1.00000e-16 | 2.11055e-13 |      1.00000e-16 |     1.00000e-16 |       1.00000e-16 |     1.00000e-16 |      1.00000e-16 |       1.00000e-16 |    1.00000e-16 | 5.00228e-16 |        1.00000e-16 |        1.00000e-16 |       1.00000e-16 |        1.00000e-16 |        1.00000e-16 |     1.00000e-16 |        1.00000e-16 |       1.00000e-16 |      1.00000e-16 |       1.00000e-16 |        1.00000e-16 |      1.00000e-16 |        1.00000e-16 |       1.00000e-16 |        1.00000e-16 |        1.00000e-16 | 2.27910e-09 | 1.00000e-16 | 1.00000e-16 | 1.00656e-05 | 1.77213e-10 | 1.00000e-16 | 1.00000e-16 | 5.35954e-16 | 1.94415e-08 | 2.04094e-06 | 1.00000e-16 | 1.00000e-16 | 1.00000e-16 | 1.00000e-16 | 1.00000e-16 | 0.333710 | 1.00000e-16 | 1.00000e-16 |        8.29107e-07 | 9.27367e-07 | 0.207701 | 1.00000e-16 | 1.00000e-16 | 1.00000e-16 | 1.00000e-16 | 1.00000e-16 | 1.00000e-16 | 1.00000e-16 | 1.32981e-15 | 1.00000e-16 | 1.00000e-16 | 8.47097e-12 | 0.000786506 | 4.30664e-16 | 1.00000e-16 | 1.72437e-14 | 1.00000e-16 | 1.00000e-16 | 1.00000e-16 | 1.00000e-16 | 1.00000e-16 | 0.866864 | 1.00000e-16 | 1.00000e-16 | 1.00000e-16 | 2.04606e-16 | 1.00000e-16 | 3.85364e-16 | 1.00000e-16 | 1.00000e-16 | 1.00000e-16 | 1.00000e-16 | 1.00000e-16 | 1.00000e-16 | 1.00000e-16 | 1.00000e-16 | 1.00000e-16 | 1.00000e-16 | 6.60868e-12 | 1.00000e-16 | 1.00000e-16 | 1.00000e-16 | 1.00000e-16 | 1.00000e-16 | 1.00000e-16 | 1.00000e-16 | 1.00000e-16 | 1.00000e-16 | 1.00000e-16 |    0.268190\n",
            " 1.40000 |     1079.81 |  2.25291 | 1.00000e-16 | 1.00000e-16 | 1.00000e-16 | 1.00000e-16 | 1.00000e-16 | 1.00000e-16 | 1.00000e-16 | 8.97191e-09 | 5.91383e-13 | 1.00000e-16 | 8.69140e-15 |   0.0578487 | 7.47791e-08 | 1.00000e-16 | 1.00000e-16 | 1.00000e-16 | 1.00000e-16 | 1.00000e-16 | 0.442036 | 1.00000e-16 | 0.270847 | 1.00000e-16 | 2.57729e-11 | 1.00000e-16 | 1.00000e-16 | 1.00000e-16 | 1.00000e-16 |       2.92521e-09 |        1.00000e-16 |     5.08885e-08 | 8.98723e-14 |  1.72843e-15 |   1.65788e-14 | 2.93213e-07 |     2.68032e-12 | 1.11544e-06 |        3.60438e-15 |       1.67629e-08 | 2.73963e-09 |  1.80657e-14 | 1.04976e-11 | 3.26547e-06 | 1.00000e-16 | 7.10706e-11 | 4.42615e-14 | 1.00000e-16 | 1.00000e-16 | 1.00000e-16 | 1.00000e-16 | 1.87416e-13 | 1.00000e-16 | 1.00000e-16 |       1.00000e-16 |       5.25171e-15 |    3.09746e-12 |     1.08345e-11 |    1.71215e-16 |   2.22950e-13 |       1.67348e-09 |    1.02027e-12 |       1.00000e-16 |      2.63743e-11 |       2.62475e-12 |      1.93021e-15 |      2.88038e-15 | 6.86649e-10 |        1.44726e-14 |        2.63331e-14 | 1.00000e-16 | 7.13091e-13 | 1.00000e-16 |       1.00000e-16 |        1.00000e-16 |       3.22469e-13 |     2.39657e-15 |     6.30326e-15 |    1.00000e-16 |      3.31073e-13 |        2.28245e-13 |        2.61067e-13 |       3.78099e-13 |    1.00000e-16 |   1.00000e-16 |     1.00000e-16 |     1.00000e-16 |     1.00000e-16 |     1.00000e-16 |       1.42160e-13 |        6.99820e-14 | 1.00000e-16 | 1.00000e-16 |       3.12781e-15 |    3.32408e-16 |        1.00000e-16 |     1.00000e-16 |     1.00000e-16 |       1.00000e-16 |        1.00000e-16 |        1.00000e-16 |      1.00000e-16 | 1.00000e-16 |    1.00000e-16 |      1.00000e-16 | 2.25801e-13 |      1.00000e-16 |     1.00000e-16 |       1.00000e-16 |     1.00000e-16 |      1.00000e-16 |       1.00000e-16 |    1.00000e-16 | 5.10486e-16 |        1.00000e-16 |        1.00000e-16 |       1.00000e-16 |        1.00000e-16 |        1.00000e-16 |     1.00000e-16 |        1.00000e-16 |       1.00000e-16 |      1.00000e-16 |       1.00000e-16 |        1.00000e-16 |      1.00000e-16 |        1.00000e-16 |       1.00000e-16 |        1.00000e-16 |        1.00000e-16 | 2.90028e-09 | 1.00000e-16 | 1.00000e-16 | 1.19520e-05 | 2.22234e-10 | 1.00000e-16 | 1.00000e-16 | 7.58630e-16 | 2.43973e-08 | 2.25044e-06 | 1.00000e-16 | 1.00000e-16 | 1.00000e-16 | 1.00000e-16 | 1.00000e-16 | 0.346703 | 1.00000e-16 | 1.00000e-16 |        9.00408e-07 | 9.24436e-07 | 0.201091 | 1.00000e-16 | 1.00000e-16 | 1.00000e-16 | 1.00000e-16 | 1.00000e-16 | 1.00000e-16 | 1.00000e-16 | 1.84633e-15 | 1.00000e-16 | 1.00000e-16 | 1.04752e-11 | 0.000782124 | 4.96235e-16 | 1.00000e-16 | 2.30850e-14 | 1.00000e-16 | 1.00000e-16 | 1.00000e-16 | 1.00000e-16 | 1.00000e-16 | 0.933578 | 1.00000e-16 | 1.00000e-16 | 1.00000e-16 | 2.60575e-16 | 1.00000e-16 | 4.35817e-16 | 1.00000e-16 | 1.00000e-16 | 1.00000e-16 | 1.00000e-16 | 1.00000e-16 | 1.00000e-16 | 1.00000e-16 | 1.00000e-16 | 1.00000e-16 | 1.00000e-16 | 8.27774e-12 | 1.00000e-16 | 1.00000e-16 | 1.00000e-16 | 1.00000e-16 | 1.00000e-16 | 1.00000e-16 | 1.00000e-16 | 1.00000e-16 | 1.00000e-16 | 1.00000e-16 |    0.229242\n",
            " 1.50000 |     1087.73 |  2.36481 | 1.00000e-16 | 1.00000e-16 | 1.00000e-16 | 1.00000e-16 | 1.00000e-16 | 1.00000e-16 | 1.00000e-16 | 1.03135e-08 | 6.80686e-13 | 1.00000e-16 | 1.02853e-14 |   0.0549125 | 7.32305e-08 | 1.00000e-16 | 1.00000e-16 | 1.00000e-16 | 1.00000e-16 | 1.00000e-16 | 0.484746 | 1.00000e-16 | 0.270381 | 1.00000e-16 | 2.95171e-11 | 1.00000e-16 | 1.00000e-16 | 1.00000e-16 | 1.00000e-16 |       3.63292e-09 |        1.00000e-16 |     5.76338e-08 | 1.02309e-13 |  1.69270e-15 |   2.15378e-14 | 3.18606e-07 |     3.10465e-12 | 1.17386e-06 |        3.98571e-15 |       1.69055e-08 | 2.55599e-09 |  1.72050e-14 | 1.15476e-11 | 3.01701e-06 | 1.00000e-16 | 6.65851e-11 | 4.31562e-14 | 1.00000e-16 | 1.00000e-16 | 1.00000e-16 | 1.00000e-16 | 2.58750e-13 | 1.00000e-16 | 1.00000e-16 |       1.00000e-16 |       7.03023e-15 |    3.65615e-12 |     1.27215e-11 |    2.16528e-16 |   2.55331e-13 |       1.68383e-09 |    1.05472e-12 |       1.00000e-16 |      2.50303e-11 |       2.56475e-12 |      2.05589e-15 |      3.04040e-15 | 6.12972e-10 |        1.30862e-14 |        2.35450e-14 | 1.00000e-16 | 9.10437e-13 | 1.00000e-16 |       1.00000e-16 |        1.00000e-16 |       3.51189e-13 |     2.72059e-15 |     7.02213e-15 |    1.11940e-16 |      3.21810e-13 |        2.20031e-13 |        2.51499e-13 |       3.62618e-13 |    1.00000e-16 |   1.00000e-16 |     1.00000e-16 |     1.00000e-16 |     1.00000e-16 |     1.00000e-16 |       1.22695e-13 |        5.99748e-14 | 1.00000e-16 | 1.00000e-16 |       3.45815e-15 |    3.31827e-16 |        1.00000e-16 |     1.00000e-16 |     1.00000e-16 |       1.00000e-16 |        1.00000e-16 |        1.00000e-16 |      1.00000e-16 | 1.00000e-16 |    1.00000e-16 |      1.00000e-16 | 2.39097e-13 |      1.00000e-16 |     1.00000e-16 |       1.00000e-16 |     1.00000e-16 |      1.00000e-16 |       1.00000e-16 |    1.00000e-16 | 5.16461e-16 |        1.00000e-16 |        1.00000e-16 |       1.00000e-16 |        1.00000e-16 |        1.00000e-16 |     1.00000e-16 |        1.00000e-16 |       1.00000e-16 |      1.00000e-16 |       1.00000e-16 |        1.00000e-16 |      1.00000e-16 |        1.00000e-16 |       1.00000e-16 |        1.00000e-16 |        1.00000e-16 | 3.62178e-09 | 1.00000e-16 | 1.00000e-16 | 1.39988e-05 | 2.73366e-10 | 1.00000e-16 | 1.00000e-16 | 1.04308e-15 | 3.00656e-08 | 2.45852e-06 | 1.00000e-16 | 1.00000e-16 | 1.00000e-16 | 1.00000e-16 | 1.00000e-16 | 0.358894 | 1.00000e-16 | 1.00000e-16 |        9.69281e-07 | 9.18418e-07 | 0.194782 | 1.00000e-16 | 1.00000e-16 | 1.00000e-16 | 1.00000e-16 | 1.00000e-16 | 1.00000e-16 | 1.00000e-16 | 2.49581e-15 | 1.00000e-16 | 1.00000e-16 | 1.27221e-11 | 0.000776543 | 5.63318e-16 | 1.00000e-16 | 3.01777e-14 | 1.00000e-16 | 1.00000e-16 | 1.00000e-16 | 1.00000e-16 | 1.00000e-16 |  1.00029 | 1.00000e-16 | 1.00000e-16 | 1.00000e-16 | 3.25042e-16 | 1.00000e-16 | 4.86353e-16 | 1.00000e-16 | 1.00000e-16 | 1.00000e-16 | 1.00000e-16 | 1.00000e-16 | 1.00000e-16 | 1.00000e-16 | 1.00000e-16 | 1.00000e-16 | 1.00000e-16 | 1.01714e-11 | 1.00000e-16 | 1.00000e-16 | 1.00000e-16 | 1.00000e-16 | 1.00000e-16 | 1.00000e-16 | 1.00000e-16 | 1.00000e-16 | 1.00000e-16 | 1.00000e-16 |    0.189933\n",
            " 1.60000 |     1095.17 |  2.47656 | 1.00000e-16 | 1.00000e-16 | 1.00000e-16 | 1.00000e-16 | 1.00000e-16 | 1.00000e-16 | 1.00000e-16 | 1.17159e-08 | 7.73107e-13 | 1.00000e-16 | 1.19862e-14 |   0.0522009 | 7.15527e-08 | 1.00000e-16 | 1.00000e-16 | 1.00000e-16 | 1.00000e-16 | 1.00000e-16 | 0.527897 | 1.00000e-16 | 0.269556 | 1.00000e-16 | 3.33866e-11 | 1.00000e-16 | 1.00000e-16 | 1.00000e-16 | 1.00000e-16 |       4.43729e-09 |        1.00000e-16 |     6.45465e-08 | 1.14973e-13 |  1.65033e-15 |   2.74001e-14 | 3.43448e-07 |     3.54697e-12 | 1.22767e-06 |        4.35807e-15 |       1.69739e-08 | 2.38475e-09 |  1.63391e-14 | 1.25707e-11 | 2.79192e-06 | 1.00000e-16 | 6.23332e-11 | 4.19203e-14 | 1.00000e-16 | 1.00000e-16 | 1.00000e-16 | 1.00000e-16 | 3.49014e-13 | 1.00000e-16 | 1.00000e-16 |       1.00000e-16 |       9.19554e-15 |    4.25245e-12 |     1.47243e-11 |    2.68449e-16 |   2.88522e-13 |       1.68625e-09 |    1.08303e-12 |       1.00000e-16 |      2.37129e-11 |       2.49635e-12 |      2.16823e-15 |      3.17983e-15 | 5.48470e-10 |        1.18325e-14 |        2.10698e-14 | 1.00000e-16 | 1.13983e-12 | 1.00000e-16 |       1.00000e-16 |        1.00000e-16 |       3.78444e-13 |     3.04643e-15 |     7.72731e-15 |    1.24243e-16 |      3.11554e-13 |        2.11390e-13 |        2.41473e-13 |       3.46725e-13 |    1.00000e-16 |   1.00000e-16 |     1.00000e-16 |     1.00000e-16 |     1.00000e-16 |     1.00000e-16 |       1.06213e-13 |        5.15798e-14 | 1.00000e-16 | 1.00000e-16 |       3.77886e-15 |    3.29276e-16 |        1.00000e-16 |     1.00000e-16 |     1.00000e-16 |       1.00000e-16 |        1.00000e-16 |        1.00000e-16 |      1.00000e-16 | 1.00000e-16 |    1.00000e-16 |      1.00000e-16 | 2.51029e-13 |      1.00000e-16 |     1.00000e-16 |       1.00000e-16 |     1.00000e-16 |      1.00000e-16 |       1.00000e-16 |    1.00000e-16 | 5.18873e-16 |        1.00000e-16 |        1.00000e-16 |       1.00000e-16 |        1.00000e-16 |        1.00000e-16 |     1.00000e-16 |        1.00000e-16 |       1.00000e-16 |      1.00000e-16 |       1.00000e-16 |        1.00000e-16 |      1.00000e-16 |        1.00000e-16 |       1.00000e-16 |        1.00000e-16 |        1.00000e-16 | 4.45060e-09 | 1.00000e-16 | 1.00000e-16 | 1.62055e-05 | 3.30789e-10 | 1.00000e-16 | 1.00000e-16 | 1.39924e-15 | 3.64823e-08 | 2.66472e-06 | 1.00000e-16 | 1.00000e-16 | 1.00000e-16 | 1.00000e-16 | 1.00000e-16 | 0.370359 | 1.00000e-16 | 1.00000e-16 |        1.03570e-06 | 9.09903e-07 | 0.188748 | 1.00000e-16 | 1.00000e-16 | 1.00000e-16 | 1.00000e-16 | 1.00000e-16 | 1.00000e-16 | 1.00000e-16 | 3.29781e-15 | 1.00000e-16 | 1.00000e-16 | 1.52162e-11 | 0.000770020 | 6.31488e-16 | 1.00000e-16 | 3.86574e-14 | 1.00000e-16 | 1.00000e-16 | 1.00000e-16 | 1.00000e-16 | 1.00000e-16 |  1.06701 | 1.00000e-16 | 1.00000e-16 | 1.00000e-16 | 3.98392e-16 | 1.00000e-16 | 5.36726e-16 | 1.00000e-16 | 1.00000e-16 | 1.00000e-16 | 1.00000e-16 | 1.00000e-16 | 1.00000e-16 | 1.00000e-16 | 1.00000e-16 | 1.00000e-16 | 1.00000e-16 | 1.22961e-11 | 1.00000e-16 | 1.00000e-16 | 1.00000e-16 | 1.00000e-16 | 1.00000e-16 | 1.00000e-16 | 1.00000e-16 | 1.00000e-16 | 1.00000e-16 | 1.00000e-16 |    0.150317\n",
            " 1.70000 |     1102.18 |  2.58818 | 1.00000e-16 | 1.00000e-16 | 1.00000e-16 | 1.00000e-16 | 1.00000e-16 | 1.00000e-16 | 1.00000e-16 | 1.31751e-08 | 8.68180e-13 | 1.00000e-16 | 1.37870e-14 |   0.0496895 | 6.97879e-08 | 1.00000e-16 | 1.15564e-16 | 1.00000e-16 | 1.00000e-16 | 1.00000e-16 | 0.571424 | 1.00000e-16 | 0.268414 | 1.00000e-16 | 3.73628e-11 | 1.00000e-16 | 1.00000e-16 | 1.00000e-16 | 1.00000e-16 |       5.34285e-09 |        1.00000e-16 |     7.16003e-08 | 1.27791e-13 |  1.60309e-15 |   3.42393e-14 | 3.67724e-07 |     4.00507e-12 | 1.27724e-06 |        4.72013e-15 |       1.69804e-08 | 2.22542e-09 |  1.54824e-14 | 1.35646e-11 | 2.58770e-06 | 1.00000e-16 | 5.83270e-11 | 4.05985e-14 | 1.00000e-16 | 1.00000e-16 | 1.00000e-16 | 1.28447e-16 | 4.61424e-13 | 1.00000e-16 | 1.00000e-16 |       1.00000e-16 |       1.17919e-14 |    4.88441e-12 |     1.68357e-11 |    3.27236e-16 |   3.22352e-13 |       1.68218e-09 |    1.10593e-12 |       1.00000e-16 |      2.24363e-11 |       2.42222e-12 |      2.26801e-15 |      3.30032e-15 | 4.91882e-10 |        1.07025e-14 |        1.88751e-14 | 1.00000e-16 | 1.40319e-12 | 1.00000e-16 |       1.00000e-16 |        1.00000e-16 |       4.04217e-13 |     3.37222e-15 |     8.41584e-15 |    1.36402e-16 |      3.00685e-13 |        2.02560e-13 |        2.31255e-13 |       3.30775e-13 |    1.00000e-16 |   1.00000e-16 |     1.00000e-16 |     1.00000e-16 |     1.00000e-16 |     1.00000e-16 |       9.22190e-14 |        4.45125e-14 | 1.00000e-16 | 1.00000e-16 |       4.08891e-15 |    3.25179e-16 |        1.00000e-16 |     1.00000e-16 |     1.00000e-16 |       1.00000e-16 |        1.00000e-16 |        1.00000e-16 |      1.00000e-16 | 1.00000e-16 |    1.00000e-16 |      1.00000e-16 | 2.61693e-13 |      1.00895e-16 |     1.00000e-16 |       1.00000e-16 |     1.00000e-16 |      1.00000e-16 |       1.00000e-16 |    1.00000e-16 | 5.18350e-16 |        1.00000e-16 |        1.00000e-16 |       1.00000e-16 |        1.00000e-16 |        1.00000e-16 |     1.00000e-16 |        1.00000e-16 |       1.00000e-16 |      1.00000e-16 |       1.00000e-16 |        1.00000e-16 |      1.00000e-16 |        1.00000e-16 |       1.00000e-16 |        1.00000e-16 |        1.00000e-16 | 5.39384e-09 | 1.00000e-16 | 1.00000e-16 | 1.85721e-05 | 3.94676e-10 | 1.00000e-16 | 1.00000e-16 | 1.83770e-15 | 4.36832e-08 | 2.86870e-06 | 1.00000e-16 | 1.00000e-16 | 1.00000e-16 | 1.00000e-16 | 1.00000e-16 | 0.381168 | 1.00000e-16 | 1.00000e-16 |        1.09968e-06 | 8.99374e-07 | 0.182972 | 1.00000e-16 | 1.00000e-16 | 1.00000e-16 | 1.00000e-16 | 1.00000e-16 | 1.00000e-16 | 1.00000e-16 | 4.27300e-15 | 1.00000e-16 | 1.00000e-16 | 1.79622e-11 | 0.000762761 | 7.00396e-16 | 1.00000e-16 | 4.86630e-14 | 1.00000e-16 | 1.00000e-16 | 1.00000e-16 | 1.00000e-16 | 1.00000e-16 |  1.13372 | 1.00000e-16 | 1.00000e-16 | 1.00000e-16 | 4.81001e-16 | 1.00000e-16 | 5.86749e-16 | 1.00000e-16 | 1.00000e-16 | 1.00000e-16 | 1.00000e-16 | 1.00000e-16 | 1.00000e-16 | 1.00000e-16 | 1.00000e-16 | 1.00000e-16 | 1.00000e-16 | 1.46579e-11 | 1.00000e-16 | 1.00000e-16 | 1.00000e-16 | 1.00000e-16 | 1.00000e-16 | 1.00000e-16 | 1.00000e-16 | 1.00000e-16 | 1.00000e-16 | 1.00000e-16 |    0.110440\n",
            " 1.80000 |     1108.84 |  2.69966 | 1.00000e-16 | 1.00000e-16 | 1.00000e-16 | 1.00000e-16 | 1.00000e-16 | 1.00000e-16 | 1.18960e-16 | 1.46875e-08 | 9.65505e-13 | 1.00000e-16 | 1.56813e-14 |   0.0473574 | 6.79686e-08 | 1.00000e-16 | 1.61726e-16 | 1.00000e-16 | 1.00000e-16 | 1.00000e-16 | 0.615272 | 1.00000e-16 | 0.266992 | 1.00000e-16 | 4.14289e-11 | 1.00000e-16 | 1.00000e-16 | 1.00000e-16 | 1.00000e-16 |       6.35418e-09 |        1.00000e-16 |     7.87725e-08 | 1.40700e-13 |  1.55242e-15 |   4.21299e-14 | 3.91433e-07 |     4.47704e-12 | 1.32292e-06 |        5.07099e-15 |       1.69352e-08 | 2.07739e-09 |  1.46450e-14 | 1.45282e-11 | 2.40209e-06 | 1.00000e-16 | 5.45686e-11 | 3.92251e-14 | 1.00000e-16 | 1.00000e-16 | 1.00000e-16 | 1.72197e-16 | 5.99512e-13 | 1.00000e-16 | 1.00000e-16 |       1.00000e-16 |       1.48651e-14 |    5.55027e-12 |     1.90493e-11 |    3.93136e-16 |   3.56683e-13 |       1.67282e-09 |    1.12409e-12 |       1.00000e-16 |      2.12095e-11 |       2.34445e-12 |      2.35612e-15 |      3.40355e-15 | 4.42125e-10 |        9.68624e-15 |        1.69297e-14 | 1.00000e-16 | 1.70235e-12 | 1.00000e-16 |       1.00000e-16 |        1.00000e-16 |       4.28526e-13 |     3.69648e-15 |     9.08576e-15 |    1.48372e-16 |      2.89489e-13 |        1.93713e-13 |        2.21038e-13 |       3.15024e-13 |    1.00000e-16 |   1.00000e-16 |     1.00000e-16 |     1.00000e-16 |     1.00000e-16 |     1.00000e-16 |       8.03038e-14 |        3.85413e-14 | 1.00000e-16 | 1.00000e-16 |       4.38772e-15 |    3.19886e-16 |        1.00000e-16 |     1.00000e-16 |     1.00000e-16 |       1.00000e-16 |        1.00000e-16 |        1.00000e-16 |      1.00000e-16 | 1.00000e-16 |    1.00000e-16 |      1.00000e-16 | 2.71190e-13 |      1.03655e-16 |     1.00000e-16 |       1.00000e-16 |     1.00000e-16 |      1.00000e-16 |       1.00000e-16 |    1.00000e-16 | 5.15432e-16 |        1.00000e-16 |        1.00000e-16 |       1.00000e-16 |        1.00000e-16 |        1.00000e-16 |     1.00000e-16 |        1.00000e-16 |       1.00000e-16 |      1.00000e-16 |       1.00000e-16 |        1.00000e-16 |      1.00000e-16 |        1.00000e-16 |       1.00000e-16 |        1.00000e-16 |        1.00000e-16 | 6.45879e-09 | 1.00000e-16 | 1.00000e-16 | 2.10988e-05 | 4.65190e-10 | 1.00000e-16 | 1.00000e-16 | 2.36973e-15 | 5.17049e-08 | 3.07018e-06 | 1.00000e-16 | 1.00000e-16 | 1.00000e-16 | 1.00000e-16 | 1.00000e-16 | 0.391381 | 1.00000e-16 | 1.00000e-16 |        1.16126e-06 | 8.87226e-07 | 0.177434 | 1.00000e-16 | 1.00000e-16 | 1.00000e-16 | 1.00000e-16 | 1.00000e-16 | 1.00000e-16 | 1.00000e-16 | 5.44331e-15 | 1.15790e-16 | 1.00000e-16 | 2.09648e-11 | 0.000754926 | 7.69751e-16 | 1.00000e-16 | 6.03376e-14 | 1.00000e-16 | 1.00000e-16 | 1.00000e-16 | 1.00000e-16 | 1.00000e-16 |  1.20044 | 1.00000e-16 | 1.00000e-16 | 1.00000e-16 | 5.73238e-16 | 1.00000e-16 | 6.36283e-16 | 1.00000e-16 | 1.00000e-16 | 1.00000e-16 | 1.00000e-16 | 1.00000e-16 | 1.00000e-16 | 1.00000e-16 | 1.00000e-16 | 1.00000e-16 | 1.00000e-16 | 1.72629e-11 | 1.00000e-16 | 1.00000e-16 | 1.00000e-16 | 1.00000e-16 | 1.00000e-16 | 1.00000e-16 | 1.00000e-16 | 1.00000e-16 | 1.00000e-16 | 1.00000e-16 |   0.0703433\n",
            " 1.90000 |     1115.17 |  2.81100 | 1.00000e-16 | 1.00000e-16 | 1.00000e-16 | 1.00000e-16 | 1.00000e-16 | 1.00000e-16 | 1.54545e-16 | 1.62504e-08 | 1.06474e-12 | 1.00000e-16 | 1.76632e-14 |   0.0451865 | 6.61202e-08 | 1.00000e-16 | 2.21970e-16 | 1.00000e-16 | 1.00000e-16 | 1.00000e-16 | 0.659396 | 1.00000e-16 | 0.265321 | 1.00000e-16 | 4.55705e-11 | 1.00000e-16 | 1.00000e-16 | 1.00000e-16 | 1.00000e-16 |       7.47592e-09 |        1.19040e-16 |     8.60443e-08 | 1.53648e-13 |  1.49947e-15 |   5.11479e-14 | 4.14580e-07 |     4.96121e-12 | 1.36504e-06 |        5.41012e-15 |       1.68468e-08 | 1.93997e-09 |  1.38339e-14 | 1.54609e-11 | 2.23310e-06 | 1.00000e-16 | 5.10533e-11 | 3.78263e-14 | 1.00000e-16 | 1.00000e-16 | 1.00000e-16 | 2.26755e-16 | 7.67148e-13 | 1.00000e-16 | 1.00000e-16 |       1.00000e-16 |       1.84631e-14 |    6.24855e-12 |     2.13600e-11 |    4.66393e-16 |   3.91402e-13 |       1.65920e-09 |    1.13812e-12 |       1.00000e-16 |      2.00376e-11 |       2.26466e-12 |      2.43350e-15 |      3.49117e-15 | 3.98271e-10 |        8.77319e-15 |        1.52047e-14 | 1.00000e-16 | 2.03914e-12 | 1.00000e-16 |       1.00000e-16 |        1.00000e-16 |       4.51411e-13 |     4.01811e-15 |     9.73585e-15 |    1.60121e-16 |      2.78183e-13 |        1.84974e-13 |        2.10963e-13 |       2.99647e-13 |    1.00000e-16 |   1.00000e-16 |     1.00000e-16 |     1.00000e-16 |     1.00000e-16 |     1.00000e-16 |       7.01281e-14 |        3.34780e-14 | 1.00000e-16 | 1.00000e-16 |       4.67504e-15 |    3.13686e-16 |        1.00000e-16 |     1.00000e-16 |     1.00000e-16 |       1.00000e-16 |        1.00000e-16 |        1.00000e-16 |      1.00000e-16 | 1.00000e-16 |    1.00000e-16 |      1.00000e-16 | 2.79618e-13 |      1.05904e-16 |     1.00000e-16 |       1.00000e-16 |     1.00000e-16 |      1.00000e-16 |       1.00000e-16 |    1.00000e-16 | 5.10581e-16 |        1.00000e-16 |        1.00000e-16 |       1.00000e-16 |        1.00000e-16 |        1.00000e-16 |     1.00000e-16 |        1.00000e-16 |       1.00000e-16 |      1.00000e-16 |       1.00000e-16 |        1.00000e-16 |      1.00000e-16 |        1.00000e-16 |       1.00000e-16 |        1.00000e-16 |        1.00000e-16 | 7.65298e-09 | 1.00000e-16 | 1.00000e-16 | 2.37862e-05 | 5.42495e-10 | 1.00000e-16 | 1.00000e-16 | 3.00735e-15 | 6.05847e-08 | 3.26900e-06 | 1.00000e-16 | 1.00000e-16 | 1.00000e-16 | 1.00000e-16 | 1.00000e-16 | 0.401048 | 1.00000e-16 | 1.00000e-16 |        1.22049e-06 | 8.73786e-07 | 0.172120 | 1.00000e-16 | 1.00000e-16 | 1.00000e-16 | 1.00000e-16 | 1.00000e-16 | 1.00000e-16 | 1.00000e-16 | 6.83191e-15 | 1.50024e-16 | 1.00000e-16 | 2.42287e-11 | 0.000746646 | 8.39312e-16 | 1.00000e-16 | 7.38284e-14 | 1.00000e-16 | 1.00000e-16 | 1.00000e-16 | 1.00000e-16 | 1.00000e-16 |  1.26715 | 1.00000e-16 | 1.00000e-16 | 1.00000e-16 | 6.75474e-16 | 1.00000e-16 | 6.85228e-16 | 1.00000e-16 | 1.00000e-16 | 1.00000e-16 | 1.00000e-16 | 1.00000e-16 | 1.00000e-16 | 1.00000e-16 | 1.00000e-16 | 1.00000e-16 | 1.00000e-16 | 2.01166e-11 | 1.00000e-16 | 1.00000e-16 | 1.00000e-16 | 1.00000e-16 | 1.00000e-16 | 1.00000e-16 | 1.00000e-16 | 1.00000e-16 | 1.00000e-16 | 1.00000e-16 |   0.0300589\n",
            " 2.00000 |     1125.38 |  2.92058 | 1.00000e-16 | 1.00000e-16 | 1.00000e-16 | 1.00000e-16 | 1.00000e-16 | 1.00000e-16 | 2.12906e-16 | 1.74975e-08 | 1.20982e-12 | 1.00000e-16 | 2.07585e-14 |   0.0387942 | 6.20980e-08 | 1.00000e-16 | 3.26433e-16 | 1.00000e-16 | 1.00000e-16 | 1.00000e-16 | 0.697230 | 1.00000e-16 | 0.263938 | 1.00000e-16 | 5.37483e-11 | 1.00000e-16 | 1.00000e-16 | 1.00000e-16 | 1.00000e-16 |       8.06248e-09 |        1.53607e-16 |     8.74743e-08 | 1.65638e-13 |  1.49663e-15 |   5.84964e-14 | 3.80019e-07 |     5.20630e-12 | 1.21626e-06 |        5.39248e-15 |       1.50241e-08 | 1.65996e-09 |  1.27884e-14 | 1.45974e-11 | 1.71585e-06 | 1.00000e-16 | 4.20364e-11 | 3.26809e-14 | 1.00000e-16 | 1.00000e-16 | 1.00000e-16 | 3.03533e-16 | 9.20964e-13 | 1.00000e-16 | 1.00000e-16 |       1.00000e-16 |       2.00654e-14 |    5.86052e-12 |     1.99059e-11 |    4.75405e-16 |   3.55588e-13 |       1.29503e-09 |    9.17885e-13 |       1.00000e-16 |      1.53557e-11 |       1.79794e-12 |      2.04366e-15 |      2.89989e-15 | 2.71506e-10 |        6.39971e-15 |        1.09434e-14 | 1.00000e-16 | 2.29259e-12 | 1.00000e-16 |       1.00000e-16 |        1.00000e-16 |       3.55336e-13 |     3.32469e-15 |     7.87418e-15 |    1.30978e-16 |      1.92594e-13 |        1.26779e-13 |        1.44482e-13 |       2.04115e-13 |    1.00000e-16 |   1.00000e-16 |     1.00000e-16 |     1.00000e-16 |     1.00000e-16 |     1.00000e-16 |       4.24484e-14 |        2.00928e-14 | 1.00000e-16 | 1.00000e-16 |       3.43411e-15 |    2.05545e-16 |        1.00000e-16 |     1.00000e-16 |     1.00000e-16 |       1.00000e-16 |        1.00000e-16 |        1.00000e-16 |      1.00000e-16 | 1.00000e-16 |    1.00000e-16 |      1.00000e-16 | 1.78660e-13 |      1.00000e-16 |     1.00000e-16 |       1.00000e-16 |     1.00000e-16 |      1.00000e-16 |       1.00000e-16 |    1.00000e-16 | 2.85530e-16 |        1.00000e-16 |        1.00000e-16 |       1.00000e-16 |        1.00000e-16 |        1.00000e-16 |     1.00000e-16 |        1.00000e-16 |       1.00000e-16 |      1.00000e-16 |       1.00000e-16 |        1.00000e-16 |      1.00000e-16 |        1.00000e-16 |       1.00000e-16 |        1.00000e-16 |        1.00000e-16 | 9.85183e-09 | 1.00000e-16 | 1.00000e-16 | 2.58136e-05 | 6.61887e-10 | 1.00000e-16 | 1.00000e-16 | 3.84629e-15 | 6.99091e-08 | 3.43654e-06 | 1.00000e-16 | 1.00000e-16 | 1.00000e-16 | 1.00000e-16 | 1.00000e-16 | 0.413457 | 1.00000e-16 | 1.00000e-16 |        1.27344e-06 | 8.72241e-07 | 0.172520 | 1.00000e-16 | 1.00000e-16 | 1.00000e-16 | 1.00000e-16 | 1.00000e-16 | 1.00000e-16 | 1.00000e-16 | 9.24614e-15 | 2.21636e-16 | 1.00000e-16 | 3.01108e-11 | 0.000730865 | 1.01776e-15 | 1.00000e-16 | 1.04710e-13 | 1.00000e-16 | 1.00000e-16 | 1.00000e-16 | 1.00000e-16 | 1.00000e-16 |  1.33387 | 1.00000e-16 | 1.00000e-16 | 1.00000e-16 | 8.62072e-16 | 1.00000e-16 | 7.71463e-16 | 1.00000e-16 | 1.00000e-16 | 1.00000e-16 | 1.00000e-16 | 1.00000e-16 | 1.00000e-16 | 1.00000e-16 | 1.00000e-16 | 1.00000e-16 | 1.00000e-16 | 2.67513e-11 | 1.00000e-16 | 1.00000e-16 | 1.00000e-16 | 1.00000e-16 | 1.00000e-16 | 1.00000e-16 | 1.00000e-16 | 1.00000e-16 | 1.00000e-16 | 1.00000e-16 | 1.14590e-15\n",
            " 2.10000 |     1151.35 |  3.02119 | 1.00000e-16 | 1.00000e-16 | 1.00000e-16 | 1.00000e-16 | 1.00000e-16 | 1.00000e-16 | 3.75788e-16 | 1.70324e-08 | 1.53084e-12 | 1.00000e-16 | 2.85499e-14 |   0.0218772 | 4.97309e-08 | 1.00000e-16 | 6.55398e-16 | 1.00000e-16 | 1.00000e-16 | 1.00000e-16 | 0.713443 | 1.00000e-16 | 0.264646 | 1.00000e-16 | 8.29306e-11 | 1.00000e-16 | 1.00000e-16 | 1.00000e-16 | 1.00000e-16 |       6.48150e-09 |        1.92043e-16 |     6.92289e-08 | 1.72494e-13 |  1.67158e-15 |   5.49727e-14 | 2.05353e-07 |     4.50831e-12 | 6.25427e-07 |        4.16200e-15 |       8.81629e-09 | 1.00205e-09 |  1.06355e-14 | 8.75911e-12 | 6.27265e-07 | 1.00000e-16 | 2.07468e-11 | 1.81579e-14 | 1.00000e-16 | 1.00000e-16 | 1.00000e-16 | 4.58105e-16 | 9.25857e-13 | 1.00000e-16 | 1.00000e-16 |       1.00000e-16 |       1.38419e-14 |    2.84594e-12 |     9.51510e-12 |    2.83393e-16 |   1.61554e-13 |       4.09534e-10 |    3.14678e-13 |       1.00000e-16 |      5.28508e-12 |       6.75166e-13 |      7.83091e-16 |      1.08142e-15 | 6.29869e-11 |        1.99711e-15 |        3.30444e-15 | 1.00000e-16 | 2.15226e-12 | 1.00000e-16 |       1.00000e-16 |        1.00000e-16 |       9.55227e-14 |     1.01032e-15 |     2.26201e-15 |    1.00000e-16 |      3.86271e-14 |        2.48020e-14 |        2.82143e-14 |       3.93339e-14 |    1.00000e-16 |   1.00000e-16 |     1.00000e-16 |     1.00000e-16 |     1.00000e-16 |     1.00000e-16 |       6.26146e-15 |        2.90259e-15 | 1.00000e-16 | 1.00000e-16 |       6.47926e-16 |    1.00000e-16 |        1.00000e-16 |     1.00000e-16 |     1.00000e-16 |       1.00000e-16 |        1.00000e-16 |        1.00000e-16 |      1.00000e-16 | 1.00000e-16 |    1.00000e-16 |      1.00000e-16 | 1.98985e-14 |      1.00000e-16 |     1.00000e-16 |       1.00000e-16 |     1.00000e-16 |      1.00000e-16 |       1.00000e-16 |    1.00000e-16 | 1.00000e-16 |        1.00000e-16 |        1.00000e-16 |       1.00000e-16 |        1.00000e-16 |        1.00000e-16 |     1.00000e-16 |        1.00000e-16 |       1.00000e-16 |      1.00000e-16 |       1.00000e-16 |        1.00000e-16 |      1.00000e-16 |        1.00000e-16 |       1.00000e-16 |        1.00000e-16 |        1.00000e-16 | 1.74834e-08 | 1.00000e-16 | 1.00000e-16 | 2.48142e-05 | 9.74835e-10 | 1.00000e-16 | 1.00000e-16 | 5.29513e-15 | 7.81644e-08 | 3.47784e-06 | 1.23361e-16 | 1.00000e-16 | 1.00000e-16 | 1.00000e-16 | 1.00000e-16 | 0.429550 | 1.00000e-16 | 1.00000e-16 |        1.29092e-06 | 9.03242e-07 | 0.190358 | 1.00000e-16 | 1.00000e-16 | 1.00000e-16 | 1.00000e-16 | 1.00000e-16 | 1.00000e-16 | 1.00000e-16 | 1.72295e-14 | 5.47196e-16 | 1.00000e-16 | 4.91326e-11 | 0.000670294 | 1.80121e-15 | 1.00000e-16 | 2.63112e-13 | 1.00000e-16 | 1.00000e-16 | 1.00000e-16 | 1.00000e-16 | 1.00000e-16 |  1.40061 | 1.00000e-16 | 1.00000e-16 | 1.00000e-16 | 1.48927e-15 | 1.00000e-16 | 1.00187e-15 | 1.00000e-16 | 1.00000e-16 | 1.00000e-16 | 1.00000e-16 | 1.00000e-16 | 1.00000e-16 | 1.00000e-16 | 1.00000e-16 | 1.00000e-16 | 1.00000e-16 | 5.85338e-11 | 1.00000e-16 | 1.00000e-16 | 1.00000e-16 | 1.00000e-16 | 1.00000e-16 | 1.00000e-16 | 1.00000e-16 | 1.00000e-16 | 1.00000e-16 | 1.00000e-16 | 2.05861e-16\n",
            " 2.20000 |     1185.93 |  3.11237 | 1.00000e-16 | 1.00000e-16 | 1.00000e-16 | 1.00000e-16 | 1.00000e-16 | 1.00000e-16 | 7.23742e-16 | 1.52552e-08 | 1.94950e-12 | 1.00000e-16 | 4.04230e-14 |  0.00969980 | 3.50506e-08 | 1.00000e-16 | 1.52452e-15 | 1.00000e-16 | 1.00000e-16 | 1.00000e-16 | 0.723274 | 1.00000e-16 | 0.266997 | 1.00000e-16 | 1.42322e-10 | 1.00000e-16 | 1.00000e-16 | 1.00000e-16 | 1.00000e-16 |       4.51935e-09 |        2.33882e-16 |     4.83018e-08 | 1.73870e-13 |  1.91831e-15 |   4.60551e-14 | 8.54341e-08 |     3.47809e-12 | 2.41314e-07 |        2.73934e-15 |       4.10302e-09 | 4.93757e-10 |  8.02382e-15 | 4.05254e-12 | 1.53084e-07 | 1.00000e-16 | 7.55344e-12 | 7.67800e-15 | 1.00000e-16 | 1.00000e-16 | 1.00000e-16 | 7.41715e-16 | 8.78328e-13 | 1.00000e-16 | 1.00000e-16 |       1.00000e-16 |       7.67492e-15 |    9.99139e-13 |     3.27423e-12 |    1.28921e-16 |   5.14582e-14 |       8.13909e-11 |    6.92770e-14 |       1.00000e-16 |      1.19318e-12 |       1.70228e-13 |      1.95736e-16 |      2.61124e-16 | 8.23943e-12 |        3.87875e-16 |        6.15794e-16 | 1.00000e-16 | 1.91134e-12 | 1.00000e-16 |       1.00000e-16 |        1.00000e-16 |       1.51308e-14 |     1.86764e-16 |     3.89381e-16 |    1.00000e-16 |      4.11151e-15 |        2.55766e-15 |        2.90338e-15 |       3.98032e-15 |    1.00000e-16 |   1.00000e-16 |     1.00000e-16 |     1.00000e-16 |     1.00000e-16 |     1.00000e-16 |       4.40135e-16 |        1.98733e-16 | 1.00000e-16 | 1.00000e-16 |       1.00000e-16 |    1.00000e-16 |        1.00000e-16 |     1.00000e-16 |     1.00000e-16 |       1.00000e-16 |        1.00000e-16 |        1.00000e-16 |      1.00000e-16 | 1.00000e-16 |    1.00000e-16 |      1.00000e-16 | 9.89748e-16 |      1.00000e-16 |     1.00000e-16 |       1.00000e-16 |     1.00000e-16 |      1.00000e-16 |       1.00000e-16 |    1.00000e-16 | 1.00000e-16 |        1.00000e-16 |        1.00000e-16 |       1.00000e-16 |        1.00000e-16 |        1.00000e-16 |     1.00000e-16 |        1.00000e-16 |       1.00000e-16 |      1.00000e-16 |       1.00000e-16 |        1.00000e-16 |      1.00000e-16 |        1.00000e-16 |       1.00000e-16 |        1.00000e-16 |        1.00000e-16 | 3.51688e-08 | 1.00000e-16 | 1.00000e-16 | 2.24565e-05 | 1.54507e-09 | 1.00000e-16 | 1.00000e-16 | 7.53794e-15 | 8.56219e-08 | 3.42811e-06 | 4.01739e-16 | 1.00000e-16 | 1.00000e-16 | 1.00000e-16 | 1.00000e-16 | 0.433125 | 1.00000e-16 | 1.00000e-16 |        1.25911e-06 | 9.24578e-07 | 0.211292 | 1.00000e-16 | 1.00000e-16 | 1.00000e-16 | 1.00000e-16 | 1.00000e-16 | 1.00000e-16 | 1.00000e-16 | 3.72416e-14 | 1.66813e-15 | 1.00000e-16 | 8.75452e-11 | 0.000568860 | 3.58325e-15 | 1.00000e-16 | 8.48440e-13 | 1.00000e-16 | 1.00000e-16 | 1.00000e-16 | 1.00000e-16 | 1.00000e-16 |  1.46738 | 1.00000e-16 | 1.00000e-16 | 1.00000e-16 | 2.85061e-15 | 1.00000e-16 | 1.30141e-15 | 2.32337e-16 | 1.00000e-16 | 1.00000e-16 | 1.00000e-16 | 1.00000e-16 | 1.00000e-16 | 1.00000e-16 | 1.00000e-16 | 1.00000e-16 | 1.00000e-16 | 1.56485e-10 | 1.00000e-16 | 1.00000e-16 | 1.00000e-16 | 1.00000e-16 | 1.00000e-16 | 1.00000e-16 | 1.00000e-16 | 1.00000e-16 | 1.00000e-16 | 1.00000e-16 | 1.00000e-16\n",
            " 2.30000 |     1230.67 |  3.19196 | 1.00000e-16 | 1.00000e-16 | 1.00000e-16 | 1.00000e-16 | 1.00000e-16 | 1.00000e-16 | 1.50548e-15 | 1.24016e-08 | 2.47659e-12 | 1.00000e-16 | 5.84397e-14 |  0.00332515 | 2.14816e-08 | 1.00000e-16 | 4.08849e-15 | 1.00000e-16 | 1.00000e-16 | 1.00000e-16 | 0.724938 | 1.00000e-16 | 0.271712 | 1.00000e-16 | 2.71885e-10 | 1.00000e-16 | 1.00000e-16 | 1.00000e-16 | 1.00000e-16 |       2.68708e-09 |        2.72896e-16 |     2.93337e-08 | 1.68357e-13 |  2.26530e-15 |   3.37371e-14 | 2.68307e-08 |     2.35552e-12 | 6.82988e-08 |        1.51109e-15 |       1.48738e-09 | 1.96043e-10 |  5.44943e-15 | 1.41029e-12 | 2.42542e-08 | 1.00000e-16 | 1.98260e-12 | 2.41510e-15 | 1.00000e-16 | 1.00000e-16 | 1.00000e-16 | 1.27991e-15 | 7.77735e-13 | 1.00000e-16 | 1.00000e-16 |       1.00000e-16 |       3.33485e-15 |    2.46535e-13 |     7.88437e-13 |    1.00000e-16 |   1.11457e-14 |       9.82851e-12 |    9.47250e-15 |       1.00000e-16 |      1.71605e-13 |       2.79961e-14 |      1.00000e-16 |      1.00000e-16 | 5.84565e-13 |        1.00000e-16 |        1.00000e-16 | 1.00000e-16 | 1.59167e-12 | 1.00000e-16 |       1.00000e-16 |        1.00000e-16 |       1.35799e-15 |     1.00000e-16 |     1.00000e-16 |    1.00000e-16 |      2.22101e-16 |        1.32928e-16 |        1.50543e-16 |       2.02239e-16 |    1.00000e-16 |   1.00000e-16 |     1.00000e-16 |     1.00000e-16 |     1.00000e-16 |     1.00000e-16 |       1.00000e-16 |        1.00000e-16 | 1.00000e-16 | 1.00000e-16 |       1.00000e-16 |    1.00000e-16 |        1.00000e-16 |     1.00000e-16 |     1.00000e-16 |       1.00000e-16 |        1.00000e-16 |        1.00000e-16 |      1.00000e-16 | 1.00000e-16 |    1.00000e-16 |      1.00000e-16 | 1.00000e-16 |      1.00000e-16 |     1.00000e-16 |       1.00000e-16 |     1.00000e-16 |      1.00000e-16 |       1.00000e-16 |    1.00000e-16 | 1.00000e-16 |        1.00000e-16 |        1.00000e-16 |       1.00000e-16 |        1.00000e-16 |        1.00000e-16 |     1.00000e-16 |        1.00000e-16 |       1.00000e-16 |      1.00000e-16 |       1.00000e-16 |        1.00000e-16 |      1.00000e-16 |        1.00000e-16 |       1.00000e-16 |        1.00000e-16 |        1.00000e-16 | 8.00715e-08 | 1.00000e-16 | 1.00000e-16 | 1.89735e-05 | 2.62528e-09 | 1.00000e-16 | 1.00000e-16 | 1.09919e-14 | 9.11484e-08 | 3.27822e-06 | 1.67027e-15 | 1.00000e-16 | 1.00000e-16 | 1.00000e-16 | 1.00000e-16 | 0.421692 | 1.00000e-16 | 1.00000e-16 |        1.17358e-06 | 9.33923e-07 | 0.235666 | 1.00000e-16 | 1.00000e-16 | 1.00000e-16 | 1.00000e-16 | 1.00000e-16 | 1.00000e-16 | 1.00000e-16 | 9.33420e-14 | 6.27278e-15 | 1.00000e-16 | 1.69616e-10 | 0.000443321 | 7.99879e-15 | 1.00000e-16 | 3.53116e-12 | 1.00000e-16 | 1.00000e-16 | 1.00000e-16 | 1.00000e-16 | 1.00000e-16 |  1.53416 | 1.00000e-16 | 1.00000e-16 | 1.00000e-16 | 6.02493e-15 | 1.00000e-16 | 1.67614e-15 | 9.50241e-16 | 1.00000e-16 | 1.00000e-16 | 1.00000e-16 | 1.00000e-16 | 1.00000e-16 | 1.00000e-16 | 1.00000e-16 | 1.00000e-16 | 1.00000e-16 | 5.12523e-10 | 1.00000e-16 | 1.00000e-16 | 1.00000e-16 | 1.00000e-16 | 1.00000e-16 | 1.00000e-16 | 1.00000e-16 | 1.00000e-16 | 1.00000e-16 | 1.00000e-16 | 1.00000e-16\n",
            " 2.40000 |     1281.36 |  3.26341 | 1.00000e-16 | 1.00000e-16 | 1.00000e-16 | 1.00000e-16 | 1.00000e-16 | 1.00000e-16 | 3.10695e-15 | 9.46145e-09 | 3.06446e-12 | 1.00000e-16 | 8.29215e-14 |  0.00101630 | 1.22566e-08 | 1.00000e-16 | 1.12334e-14 | 1.00000e-16 | 1.00000e-16 | 1.00000e-16 | 0.720216 | 1.00000e-16 | 0.278747 | 1.00000e-16 | 5.34676e-10 | 1.00000e-16 | 1.00000e-16 | 1.00000e-16 | 1.00000e-16 |       1.46371e-09 |        3.01219e-16 |     1.65899e-08 | 1.57881e-13 |  2.69968e-15 |   2.26392e-14 | 7.41390e-09 |     1.47989e-12 | 1.67482e-08 |        7.58261e-16 |       4.80286e-10 | 7.08483e-11 |  3.51528e-15 | 4.25346e-13 | 3.17488e-09 | 1.00000e-16 | 4.47656e-13 | 6.59219e-16 | 1.00000e-16 | 1.00000e-16 | 1.00000e-16 | 2.20746e-15 | 6.56761e-13 | 1.55106e-16 | 1.00000e-16 |       1.00000e-16 |       1.27027e-15 |    5.13885e-14 |     1.60164e-13 |    1.00000e-16 |   2.00800e-15 |       9.49671e-13 |    1.04326e-15 |       1.00000e-16 |      2.02277e-14 |       3.80040e-15 |      1.00000e-16 |      1.00000e-16 | 3.17259e-14 |        1.00000e-16 |        1.00000e-16 | 1.00000e-16 | 1.27432e-12 | 1.00000e-16 |       1.00000e-16 |        1.00000e-16 |       1.00000e-16 |     1.00000e-16 |     1.00000e-16 |    1.00000e-16 |      1.00000e-16 |        1.00000e-16 |        1.00000e-16 |       1.00000e-16 |    1.00000e-16 |   1.00000e-16 |     1.00000e-16 |     1.00000e-16 |     1.00000e-16 |     1.00000e-16 |       1.00000e-16 |        1.00000e-16 | 1.00000e-16 | 1.00000e-16 |       1.00000e-16 |    1.00000e-16 |        1.00000e-16 |     1.00000e-16 |     1.00000e-16 |       1.00000e-16 |        1.00000e-16 |        1.00000e-16 |      1.00000e-16 | 1.00000e-16 |    1.00000e-16 |      1.00000e-16 | 1.00000e-16 |      1.00000e-16 |     1.00000e-16 |       1.00000e-16 |     1.00000e-16 |      1.00000e-16 |       1.00000e-16 |    1.00000e-16 | 1.00000e-16 |        1.00000e-16 |        1.00000e-16 |       1.00000e-16 |        1.00000e-16 |        1.00000e-16 |     1.00000e-16 |        1.00000e-16 |       1.00000e-16 |      1.00000e-16 |       1.00000e-16 |        1.00000e-16 |      1.00000e-16 |        1.00000e-16 |       1.00000e-16 |        1.00000e-16 |        1.00000e-16 | 1.87295e-07 | 1.00000e-16 | 1.00000e-16 | 1.53810e-05 | 4.49344e-09 | 1.00000e-16 | 1.00000e-16 | 1.57298e-14 | 9.41527e-08 | 3.07287e-06 | 7.45567e-15 | 1.00000e-16 | 1.00000e-16 | 1.00000e-16 | 1.00000e-16 | 0.400362 | 1.00000e-16 | 1.00000e-16 |        1.05987e-06 | 9.33591e-07 | 0.261786 | 1.00000e-16 | 5.07439e-16 | 1.00000e-16 | 1.00000e-16 | 1.00000e-16 | 1.00000e-16 | 1.00000e-16 | 2.42814e-13 | 2.48138e-14 | 1.00000e-16 | 3.31357e-10 | 0.000329936 | 1.82524e-14 | 1.00000e-16 | 1.59322e-11 | 1.00000e-16 | 1.00000e-16 | 1.00000e-16 | 1.00000e-16 | 1.00000e-16 |  1.60093 | 1.00000e-16 | 1.00000e-16 | 1.00000e-16 | 1.29122e-14 | 1.00000e-16 | 2.09492e-15 | 4.21445e-15 | 1.00000e-16 | 1.00000e-16 | 1.00000e-16 | 1.00000e-16 | 1.00000e-16 | 1.00000e-16 | 6.65103e-16 | 1.00000e-16 | 1.00000e-16 | 1.78030e-09 | 1.00000e-16 | 1.00000e-16 | 2.14203e-16 | 1.00000e-16 | 1.00000e-16 | 1.00000e-16 | 1.00000e-16 | 1.00000e-16 | 1.00000e-16 | 1.00000e-16 | 1.00000e-16\n",
            " 2.50000 |     1332.81 |  3.33160 | 1.00000e-16 | 1.00000e-16 | 1.00000e-16 | 1.00000e-16 | 1.00000e-16 | 1.00000e-16 | 5.94181e-15 | 7.06944e-09 | 3.64403e-12 | 1.00000e-16 | 1.12255e-13 | 0.000320123 | 7.00595e-09 | 1.00000e-16 | 2.85133e-14 | 1.00000e-16 | 1.00000e-16 | 1.00000e-16 | 0.712136 | 1.00000e-16 | 0.287527 | 1.00000e-16 | 1.00764e-09 | 1.00000e-16 | 1.00000e-16 | 1.00000e-16 | 1.00000e-16 |       7.91251e-10 |        3.15377e-16 |     9.39558e-09 | 1.45429e-13 |  3.18753e-15 |   1.47669e-14 | 2.10824e-09 |     9.18897e-13 | 4.22406e-09 |        3.78742e-16 |       1.58619e-10 | 2.63478e-11 |  2.27825e-15 | 1.29309e-13 | 4.38440e-10 | 1.00000e-16 | 1.04268e-13 | 1.83405e-16 | 1.00000e-16 | 1.00000e-16 | 1.00000e-16 | 3.60807e-15 | 5.44210e-13 | 3.36468e-16 | 1.00000e-16 |       1.00000e-16 |       4.80053e-16 |    1.09625e-14 |     3.33463e-14 |    1.00000e-16 |   3.71212e-16 |       9.71701e-14 |    1.20746e-16 |       1.00000e-16 |      2.52243e-15 |       5.41242e-16 |      1.00000e-16 |      1.00000e-16 | 1.86468e-15 |        1.00000e-16 |        1.00000e-16 | 1.00000e-16 | 1.01044e-12 | 1.00000e-16 |       1.00000e-16 |        1.00000e-16 |       1.00000e-16 |     1.00000e-16 |     1.00000e-16 |    1.00000e-16 |      1.00000e-16 |        1.00000e-16 |        1.00000e-16 |       1.00000e-16 |    1.00000e-16 |   1.00000e-16 |     1.00000e-16 |     1.00000e-16 |     1.00000e-16 |     1.00000e-16 |       1.00000e-16 |        1.00000e-16 | 1.00000e-16 | 1.00000e-16 |       1.00000e-16 |    1.00000e-16 |        1.00000e-16 |     1.00000e-16 |     1.00000e-16 |       1.00000e-16 |        1.00000e-16 |        1.00000e-16 |      1.00000e-16 | 1.00000e-16 |    1.00000e-16 |      1.00000e-16 | 1.00000e-16 |      1.00000e-16 |     1.00000e-16 |       1.00000e-16 |     1.00000e-16 |      1.00000e-16 |       1.00000e-16 |    1.00000e-16 | 1.00000e-16 |        1.00000e-16 |        1.00000e-16 |       1.00000e-16 |        1.00000e-16 |        1.00000e-16 |     1.00000e-16 |        1.00000e-16 |       1.00000e-16 |      1.00000e-16 |       1.00000e-16 |        1.00000e-16 |      1.00000e-16 |        1.00000e-16 |       1.00000e-16 |        1.00000e-16 |        1.00000e-16 | 4.12747e-07 | 1.00000e-16 | 1.00000e-16 | 1.23538e-05 | 7.34605e-09 | 1.00000e-16 | 1.00000e-16 | 2.14158e-14 | 9.49022e-08 | 2.86035e-06 | 3.04459e-14 | 1.00000e-16 | 1.00000e-16 | 1.00000e-16 | 1.00000e-16 | 0.375896 | 1.00000e-16 | 1.00000e-16 |        9.45071e-07 | 9.27845e-07 | 0.287774 | 1.00000e-16 | 2.38240e-15 | 1.00000e-16 | 1.00000e-16 | 2.33498e-16 | 1.00000e-16 | 1.00000e-16 | 5.92788e-13 | 8.94385e-14 | 1.00000e-16 | 6.11967e-10 | 0.000244843 | 3.92083e-14 | 1.00000e-16 | 6.61769e-11 | 1.00000e-16 | 1.00000e-16 | 1.00000e-16 | 1.00000e-16 | 1.00000e-16 |  1.66768 | 1.00000e-16 | 1.00000e-16 | 1.00000e-16 | 2.60575e-14 | 1.00000e-16 | 2.51335e-15 | 1.72526e-14 | 1.00000e-16 | 1.00000e-16 | 1.00000e-16 | 1.00000e-16 | 1.00000e-16 | 1.00000e-16 | 4.92204e-15 | 1.00000e-16 | 1.00000e-16 | 5.74114e-09 | 1.00000e-16 | 1.00000e-16 | 1.82823e-15 | 1.00000e-16 | 1.00000e-16 | 1.00000e-16 | 1.00000e-16 | 1.00000e-16 | 1.00000e-16 | 1.00000e-16 | 1.00000e-16\n",
            " 2.60000 |     1382.84 |  3.39880 | 1.00000e-16 | 1.00000e-16 | 1.00000e-16 | 1.00000e-16 | 1.00000e-16 | 1.00000e-16 | 1.03844e-14 | 5.26699e-09 | 4.16730e-12 | 1.00000e-16 | 1.44454e-13 | 0.000108960 | 4.11750e-09 | 1.00000e-16 | 6.51317e-14 | 1.00000e-16 | 1.00000e-16 | 1.00000e-16 | 0.702196 | 1.00000e-16 | 0.297680 | 1.00000e-16 | 1.78447e-09 | 1.00000e-16 | 1.00000e-16 | 1.00000e-16 | 1.00000e-16 |       4.36987e-10 |        3.15684e-16 |     5.46500e-09 | 1.32528e-13 |  3.70848e-15 |   9.59621e-15 | 6.49440e-10 |     5.77489e-13 | 1.15978e-09 |        1.94510e-16 |       5.60915e-11 | 1.04889e-11 |  1.51204e-15 | 4.17557e-14 | 6.91525e-11 | 1.00000e-16 | 2.66070e-14 | 1.00000e-16 | 1.00000e-16 | 1.00000e-16 | 1.00000e-16 | 5.52195e-15 | 4.47830e-13 | 6.64071e-16 | 1.00000e-16 |       1.00000e-16 |       1.88171e-16 |    2.55262e-15 |     7.59541e-15 |    1.00000e-16 |   1.00000e-16 |       1.15348e-14 |    1.00000e-16 |       1.00000e-16 |      3.61446e-16 |       1.00000e-16 |      1.00000e-16 |      1.00000e-16 | 1.32786e-16 |        1.00000e-16 |        1.00000e-16 | 1.00000e-16 | 8.02451e-13 | 1.00000e-16 |       1.00000e-16 |        1.00000e-16 |       1.00000e-16 |     1.00000e-16 |     1.00000e-16 |    1.00000e-16 |      1.00000e-16 |        1.00000e-16 |        1.00000e-16 |       1.00000e-16 |    1.00000e-16 |   1.00000e-16 |     1.00000e-16 |     1.00000e-16 |     1.00000e-16 |     1.00000e-16 |       1.00000e-16 |        1.00000e-16 | 1.00000e-16 | 1.00000e-16 |       1.00000e-16 |    1.00000e-16 |        1.00000e-16 |     1.00000e-16 |     1.00000e-16 |       1.00000e-16 |        1.00000e-16 |        1.00000e-16 |      1.00000e-16 | 1.00000e-16 |    1.00000e-16 |      1.00000e-16 | 1.00000e-16 |      1.00000e-16 |     1.00000e-16 |       1.00000e-16 |     1.00000e-16 |      1.00000e-16 |       1.00000e-16 |    1.00000e-16 | 1.00000e-16 |        1.00000e-16 |        1.00000e-16 |       1.00000e-16 |        1.00000e-16 |        1.00000e-16 |     1.00000e-16 |        1.00000e-16 |       1.00000e-16 |      1.00000e-16 |       1.00000e-16 |        1.00000e-16 |      1.00000e-16 |        1.00000e-16 |       1.00000e-16 |        1.00000e-16 |        1.00000e-16 | 8.37715e-07 | 1.00000e-16 | 1.00000e-16 | 9.95363e-06 | 1.13263e-08 | 1.00000e-16 | 1.00000e-16 | 2.76134e-14 | 9.38167e-08 | 2.65833e-06 | 1.08781e-13 | 1.00000e-16 | 1.00000e-16 | 1.00000e-16 | 1.00000e-16 | 0.351310 | 1.00000e-16 | 1.00000e-16 |        8.39109e-07 | 9.18945e-07 | 0.312874 | 1.00000e-16 | 9.68038e-15 | 1.00000e-16 | 1.00000e-16 | 1.14474e-15 | 1.00000e-16 | 1.00000e-16 | 1.32152e-12 | 2.82683e-13 | 1.00000e-16 | 1.05242e-09 | 0.000184072 | 7.76510e-14 | 1.00000e-16 | 2.41500e-10 | 1.00000e-16 | 1.00000e-16 | 1.00000e-16 | 1.00000e-16 | 1.00000e-16 |  1.73443 | 1.00000e-16 | 1.00000e-16 | 1.00000e-16 | 4.86283e-14 | 1.00000e-16 | 2.89968e-15 | 6.22339e-14 | 1.00000e-16 | 1.00000e-16 | 1.00000e-16 | 1.00000e-16 | 1.00000e-16 | 1.00000e-16 | 3.02170e-14 | 1.00000e-16 | 1.00000e-16 | 1.65644e-08 | 1.00000e-16 | 1.00000e-16 | 1.28836e-14 | 1.00000e-16 | 1.00000e-16 | 1.00000e-16 | 1.00000e-16 | 1.00000e-16 | 1.00000e-16 | 1.00000e-16 | 1.00000e-16\n",
            " 2.70000 |     1430.89 |  3.46569 | 1.00000e-16 | 1.00000e-16 | 1.00000e-16 | 1.00000e-16 | 1.00000e-16 | 1.00000e-16 | 1.67047e-14 | 3.92893e-09 | 4.60441e-12 | 1.00000e-16 | 1.77569e-13 | 4.01256e-05 | 2.49420e-09 | 1.00000e-16 | 1.34716e-13 | 1.00000e-16 | 1.00000e-16 | 1.00000e-16 | 0.690896 | 1.00000e-16 | 0.309051 | 1.00000e-16 | 2.97810e-09 | 1.00000e-16 | 1.00000e-16 | 1.00000e-16 | 1.00000e-16 |       2.47383e-10 |        3.04052e-16 |     3.27133e-09 | 1.19767e-13 |  4.25256e-15 |   6.24633e-15 | 2.17032e-10 |     3.68583e-13 | 3.47409e-10 |        1.03070e-16 |       2.12761e-11 | 4.47135e-12 |  1.02871e-15 | 1.43806e-14 | 1.24773e-11 | 1.00000e-16 | 7.45557e-15 | 1.00000e-16 | 1.00000e-16 | 1.00000e-16 | 1.00000e-16 | 7.94815e-15 | 3.66953e-13 | 1.19939e-15 | 1.00000e-16 |       1.00000e-16 |       1.00000e-16 |    6.50855e-16 |     1.89858e-15 |    1.00000e-16 |   1.00000e-16 |       1.59188e-15 |    1.00000e-16 |       1.00000e-16 |      1.00000e-16 |       1.00000e-16 |      1.00000e-16 |      1.00000e-16 | 1.00000e-16 |        1.00000e-16 |        1.00000e-16 | 1.00000e-16 | 6.39248e-13 | 1.00000e-16 |       1.00000e-16 |        1.00000e-16 |       1.00000e-16 |     1.00000e-16 |     1.00000e-16 |    1.00000e-16 |      1.00000e-16 |        1.00000e-16 |        1.00000e-16 |       1.00000e-16 |    1.00000e-16 |   1.00000e-16 |     1.00000e-16 |     1.00000e-16 |     1.00000e-16 |     1.00000e-16 |       1.00000e-16 |        1.00000e-16 | 1.00000e-16 | 1.00000e-16 |       1.00000e-16 |    1.00000e-16 |        1.00000e-16 |     1.00000e-16 |     1.00000e-16 |       1.00000e-16 |        1.00000e-16 |        1.00000e-16 |      1.00000e-16 | 1.00000e-16 |    1.00000e-16 |      1.00000e-16 | 1.00000e-16 |      1.00000e-16 |     1.00000e-16 |       1.00000e-16 |     1.00000e-16 |      1.00000e-16 |       1.00000e-16 |    1.00000e-16 | 1.00000e-16 |        1.00000e-16 |        1.00000e-16 |       1.00000e-16 |        1.00000e-16 |        1.00000e-16 |     1.00000e-16 |        1.00000e-16 |       1.00000e-16 |      1.00000e-16 |       1.00000e-16 |        1.00000e-16 |      1.00000e-16 |        1.00000e-16 |       1.00000e-16 |        1.00000e-16 |        1.00000e-16 | 1.57295e-06 | 1.00000e-16 | 1.00000e-16 | 8.06139e-06 | 1.65337e-08 | 1.00000e-16 | 1.00000e-16 | 3.38829e-14 | 9.12357e-08 | 2.46954e-06 | 3.42042e-13 | 2.95054e-16 | 1.00000e-16 | 1.69865e-16 | 1.00000e-16 | 0.327488 | 1.00000e-16 | 1.00000e-16 |        7.43514e-07 | 9.07682e-07 | 0.336900 | 1.00000e-16 | 3.42506e-14 | 1.00000e-16 | 1.00000e-16 | 4.76024e-15 | 1.00000e-16 | 1.00000e-16 | 2.70174e-12 | 7.88799e-13 | 1.00000e-16 | 1.69372e-09 | 0.000140484 | 1.42486e-13 | 1.00000e-16 | 7.78021e-10 | 1.00000e-16 | 1.00000e-16 | 1.00000e-16 | 1.00000e-16 | 1.00000e-16 |  1.80116 | 1.00000e-16 | 1.00000e-16 | 1.00000e-16 | 8.43438e-14 | 1.00000e-16 | 3.23290e-15 | 1.98688e-13 | 1.00000e-16 | 1.00000e-16 | 1.00000e-16 | 1.00000e-16 | 1.00000e-16 | 1.43370e-16 | 1.55021e-13 | 1.00000e-16 | 1.00000e-16 | 4.29705e-08 | 1.00000e-16 | 1.00000e-16 | 7.54548e-14 | 1.00000e-16 | 1.00000e-16 | 1.00000e-16 | 1.00000e-16 | 1.00000e-16 | 1.00000e-16 | 1.00000e-16 | 1.00000e-16\n",
            " 2.80000 |     1476.92 |  3.53249 | 2.13884e-16 | 1.00000e-16 | 1.00000e-16 | 1.00000e-16 | 1.00000e-16 | 1.00000e-16 | 2.49935e-14 | 2.93457e-09 | 4.93717e-12 | 1.00000e-16 | 2.09711e-13 | 1.58356e-05 | 1.55183e-09 | 1.00000e-16 | 2.55408e-13 | 1.00000e-16 | 1.00000e-16 | 1.00000e-16 | 0.678405 | 1.00000e-16 | 0.321568 | 1.00000e-16 | 4.71801e-09 | 1.00000e-16 | 1.00000e-16 | 1.00000e-16 | 1.00000e-16 |       1.43094e-10 |        2.83125e-16 |     2.00770e-09 | 1.07415e-13 |  4.81308e-15 |   4.07179e-15 | 7.78785e-11 |     2.38427e-13 | 1.12319e-10 |        1.00000e-16 |       8.58141e-12 | 2.02343e-12 |  7.15027e-16 | 5.24089e-15 | 2.53329e-12 | 1.00000e-16 | 2.26792e-15 | 1.00000e-16 | 1.00000e-16 | 1.00000e-16 | 1.00000e-16 | 1.08376e-14 | 2.99407e-13 | 2.00370e-15 | 1.00000e-16 |       1.00000e-16 |       1.00000e-16 |    1.79647e-16 |     5.14741e-16 |    1.00000e-16 |   1.00000e-16 |       2.50668e-16 |    1.00000e-16 |       1.00000e-16 |      1.00000e-16 |       1.00000e-16 |      1.00000e-16 |      1.00000e-16 | 1.00000e-16 |        1.00000e-16 |        1.00000e-16 | 1.00000e-16 | 5.10283e-13 | 1.00000e-16 |       1.00000e-16 |        1.00000e-16 |       1.00000e-16 |     1.00000e-16 |     1.00000e-16 |    1.00000e-16 |      1.00000e-16 |        1.00000e-16 |        1.00000e-16 |       1.00000e-16 |    1.00000e-16 |   1.00000e-16 |     1.00000e-16 |     1.00000e-16 |     1.00000e-16 |     1.00000e-16 |       1.00000e-16 |        1.00000e-16 | 1.00000e-16 | 1.00000e-16 |       1.00000e-16 |    1.00000e-16 |        1.00000e-16 |     1.00000e-16 |     1.00000e-16 |       1.00000e-16 |        1.00000e-16 |        1.00000e-16 |      1.00000e-16 | 1.00000e-16 |    1.00000e-16 |      1.00000e-16 | 1.00000e-16 |      1.00000e-16 |     1.00000e-16 |       1.00000e-16 |     1.00000e-16 |      1.00000e-16 |       1.00000e-16 |    1.00000e-16 | 1.00000e-16 |        1.00000e-16 |        1.00000e-16 |       1.00000e-16 |        1.00000e-16 |        1.00000e-16 |     1.00000e-16 |        1.00000e-16 |       1.00000e-16 |      1.00000e-16 |       1.00000e-16 |        1.00000e-16 |      1.00000e-16 |        1.00000e-16 |       1.00000e-16 |        1.00000e-16 |        1.00000e-16 | 2.75908e-06 | 1.00000e-16 | 1.00000e-16 | 6.55784e-06 | 2.30061e-08 | 1.00000e-16 | 1.00000e-16 | 3.98003e-14 | 8.74528e-08 | 2.29301e-06 | 9.61742e-13 | 1.15463e-15 | 1.00000e-16 | 8.25145e-16 | 1.00000e-16 | 0.304660 | 1.00000e-16 | 1.00000e-16 |        6.57680e-07 | 8.94309e-07 | 0.359825 | 1.00000e-16 | 1.07380e-13 | 1.00000e-16 | 1.00000e-16 | 1.71369e-14 | 1.00000e-16 | 1.00000e-16 | 5.11896e-12 | 1.97382e-12 | 1.00000e-16 | 2.57259e-09 | 0.000108675 | 2.44610e-13 | 2.13884e-16 | 2.24728e-09 | 1.00000e-16 | 1.00000e-16 | 1.00000e-16 | 1.00000e-16 | 1.00000e-16 |  1.86789 | 1.00000e-16 | 1.00000e-16 | 1.00000e-16 | 1.37224e-13 | 1.00000e-16 | 3.49913e-15 | 5.69934e-13 | 1.00000e-16 | 1.00000e-16 | 1.00000e-16 | 1.00000e-16 | 1.00000e-16 | 3.10036e-16 | 6.79622e-13 | 1.00000e-16 | 1.00000e-16 | 1.01577e-07 | 1.00000e-16 | 1.00000e-16 | 3.75834e-13 | 1.00000e-16 | 1.00000e-16 | 1.00000e-16 | 1.00000e-16 | 1.00000e-16 | 1.00000e-16 | 1.00000e-16 | 1.00000e-16\n",
            " 2.90000 |     1521.03 |  3.59925 | 4.30701e-16 | 1.00000e-16 | 1.00000e-16 | 1.00000e-16 | 1.00000e-16 | 1.00000e-16 | 3.51127e-14 | 2.19273e-09 | 5.15660e-12 | 1.00000e-16 | 2.39146e-13 | 6.62762e-06 | 9.87411e-10 | 1.00000e-16 | 4.49047e-13 | 1.00000e-16 | 1.00000e-16 | 1.00000e-16 | 0.664796 | 1.00000e-16 | 0.335189 | 1.00000e-16 | 7.14569e-09 | 1.00000e-16 | 1.00000e-16 | 1.00000e-16 | 1.00000e-16 |       8.42161e-11 |        2.55798e-16 |     1.25769e-09 | 9.56274e-14 |  5.38390e-15 |   2.65435e-15 | 2.96708e-11 |     1.55854e-13 | 3.87256e-11 |        1.00000e-16 |       3.64479e-12 | 9.62931e-13 |  5.05766e-16 | 2.00246e-15 | 5.68449e-13 | 1.00000e-16 | 7.39410e-16 | 1.00000e-16 | 1.00000e-16 | 1.00000e-16 | 1.00000e-16 | 1.40928e-14 | 2.43116e-13 | 3.12750e-15 | 1.00000e-16 |       1.00000e-16 |       1.00000e-16 |    1.00000e-16 |     1.49379e-16 |    1.00000e-16 |   1.00000e-16 |       1.00000e-16 |    1.00000e-16 |       1.00000e-16 |      1.00000e-16 |       1.00000e-16 |      1.00000e-16 |      1.00000e-16 | 1.00000e-16 |        1.00000e-16 |        1.00000e-16 | 1.00000e-16 | 4.07566e-13 | 1.00000e-16 |       1.00000e-16 |        1.00000e-16 |       1.00000e-16 |     1.00000e-16 |     1.00000e-16 |    1.00000e-16 |      1.00000e-16 |        1.00000e-16 |        1.00000e-16 |       1.00000e-16 |    1.00000e-16 |   1.00000e-16 |     1.00000e-16 |     1.00000e-16 |     1.00000e-16 |     1.00000e-16 |       1.00000e-16 |        1.00000e-16 | 1.00000e-16 | 1.00000e-16 |       1.00000e-16 |    1.00000e-16 |        1.00000e-16 |     1.00000e-16 |     1.00000e-16 |       1.00000e-16 |        1.00000e-16 |        1.00000e-16 |      1.00000e-16 | 1.00000e-16 |    1.00000e-16 |      1.00000e-16 | 1.00000e-16 |      1.00000e-16 |     1.00000e-16 |       1.00000e-16 |     1.00000e-16 |      1.00000e-16 |       1.00000e-16 |    1.00000e-16 | 1.00000e-16 |        1.00000e-16 |        1.00000e-16 |       1.00000e-16 |        1.00000e-16 |        1.00000e-16 |     1.00000e-16 |        1.00000e-16 |       1.00000e-16 |      1.00000e-16 |       1.00000e-16 |        1.00000e-16 |      1.00000e-16 |        1.00000e-16 |       1.00000e-16 |        1.00000e-16 |        1.00000e-16 | 4.56359e-06 | 1.00000e-16 | 1.00000e-16 | 5.35163e-06 | 3.07085e-08 | 1.00000e-16 | 1.00000e-16 | 4.49875e-14 | 8.27377e-08 | 2.12725e-06 | 2.45648e-12 | 4.00941e-15 | 1.00000e-16 | 3.47828e-15 | 1.00000e-16 | 0.282877 | 1.00000e-16 | 1.00000e-16 |        5.80640e-07 | 8.78909e-07 | 0.381661 | 1.00000e-16 | 3.03468e-13 | 1.00000e-16 | 1.00000e-16 | 5.44901e-14 | 1.00000e-16 | 1.00000e-16 | 9.08097e-12 | 4.49655e-12 | 1.00000e-16 | 3.71712e-09 | 8.50309e-05 | 3.96498e-13 | 4.30701e-16 | 5.91023e-09 | 1.00000e-16 | 2.19415e-16 | 1.00000e-16 | 1.00000e-16 | 1.00000e-16 |  1.93462 | 1.00000e-16 | 1.00000e-16 | 1.00000e-16 | 2.11243e-13 | 1.00000e-16 | 3.69034e-15 | 1.49108e-12 | 1.00000e-16 | 1.00000e-16 | 1.00000e-16 | 1.00000e-16 | 1.00000e-16 | 6.20101e-16 | 2.60305e-12 | 1.00000e-16 | 1.00000e-16 | 2.21690e-07 | 1.00000e-16 | 1.00000e-16 | 1.62916e-12 | 1.00000e-16 | 1.00000e-16 | 1.00000e-16 | 1.00000e-16 | 1.00000e-16 | 1.00000e-16 | 1.00000e-16 | 1.00000e-16\n",
            " 3.00000 |     1563.32 |  3.66599 | 8.86070e-16 | 1.00000e-16 | 1.00000e-16 | 1.00000e-16 | 1.00000e-16 | 1.00000e-16 | 4.66866e-14 | 1.63737e-09 | 5.26146e-12 | 1.00000e-16 | 2.64404e-13 | 2.91435e-06 | 6.39972e-10 | 1.00000e-16 | 7.39404e-13 | 1.00000e-16 | 1.00000e-16 | 1.00000e-16 | 0.650108 | 1.00000e-16 | 0.349881 | 1.00000e-16 | 1.04091e-08 | 1.00000e-16 | 1.00000e-16 | 1.00000e-16 | 1.00000e-16 |       5.02340e-11 |        2.24856e-16 |     8.00883e-10 | 8.45058e-14 |  5.95862e-15 |   1.72764e-15 | 1.18825e-11 |     1.02657e-13 | 1.40874e-11 |        1.00000e-16 |       1.61606e-12 | 4.77895e-13 |  3.62767e-16 | 7.95390e-16 | 1.38744e-13 | 1.00000e-16 | 2.55440e-16 | 1.00000e-16 | 1.00000e-16 | 1.00000e-16 | 1.00000e-16 | 1.75747e-14 | 1.96324e-13 | 4.59990e-15 | 1.00000e-16 |       1.00000e-16 |       1.00000e-16 |    1.00000e-16 |     1.00000e-16 |    1.00000e-16 |   1.00000e-16 |       1.00000e-16 |    1.00000e-16 |       1.00000e-16 |      1.00000e-16 |       1.00000e-16 |      1.00000e-16 |      1.00000e-16 | 1.00000e-16 |        1.00000e-16 |        1.00000e-16 | 1.00000e-16 | 3.25241e-13 | 1.00000e-16 |       1.00000e-16 |        1.00000e-16 |       1.00000e-16 |     1.00000e-16 |     1.00000e-16 |    1.00000e-16 |      1.00000e-16 |        1.00000e-16 |        1.00000e-16 |       1.00000e-16 |    1.00000e-16 |   1.00000e-16 |     1.00000e-16 |     1.00000e-16 |     1.00000e-16 |     1.00000e-16 |       1.00000e-16 |        1.00000e-16 | 1.00000e-16 | 1.00000e-16 |       1.00000e-16 |    1.00000e-16 |        1.00000e-16 |     1.00000e-16 |     1.00000e-16 |       1.00000e-16 |        1.00000e-16 |        1.00000e-16 |      1.00000e-16 | 1.00000e-16 |    1.00000e-16 |      1.00000e-16 | 1.00000e-16 |      1.00000e-16 |     1.00000e-16 |       1.00000e-16 |     1.00000e-16 |      1.00000e-16 |       1.00000e-16 |    1.00000e-16 | 1.00000e-16 |        1.00000e-16 |        1.00000e-16 |       1.00000e-16 |        1.00000e-16 |        1.00000e-16 |     1.00000e-16 |        1.00000e-16 |       1.00000e-16 |      1.00000e-16 |       1.00000e-16 |        1.00000e-16 |      1.00000e-16 |        1.00000e-16 |       1.00000e-16 |        1.00000e-16 |        1.00000e-16 | 7.17473e-06 | 1.00000e-16 | 1.00000e-16 | 4.37574e-06 | 3.95303e-08 | 1.00000e-16 | 1.00000e-16 | 4.91413e-14 | 7.73399e-08 | 1.97095e-06 | 5.77691e-12 | 1.25655e-14 | 1.00000e-16 | 1.29826e-14 | 1.00000e-16 | 0.262141 | 1.00000e-16 | 1.00000e-16 |        5.11471e-07 | 8.61511e-07 | 0.402432 | 1.00000e-16 | 7.84555e-13 | 2.53477e-16 | 1.00000e-16 | 1.55691e-13 | 1.00000e-16 | 1.00000e-16 | 1.52159e-11 | 9.44679e-12 | 1.00000e-16 | 5.14335e-09 | 6.71574e-05 | 6.11582e-13 | 7.32593e-16 | 1.43415e-08 | 1.00000e-16 | 9.16435e-16 | 1.00000e-16 | 1.00000e-16 | 1.00000e-16 |  2.00134 | 1.00000e-16 | 1.00000e-16 | 1.00000e-16 | 3.09953e-13 | 1.00000e-16 | 3.80371e-15 | 3.60436e-12 | 1.00000e-16 | 1.00000e-16 | 1.00000e-16 | 1.00000e-16 | 1.00000e-16 | 1.15934e-15 | 8.87775e-12 | 1.00000e-16 | 1.00000e-16 | 4.51766e-07 | 1.00000e-16 | 1.00000e-16 | 6.26922e-12 | 1.00000e-16 | 1.00000e-16 | 1.00000e-16 | 1.00000e-16 | 1.00000e-16 | 1.00000e-16 | 1.00000e-16 | 1.00000e-16\n",
            " 3.10000 |     1603.90 |  3.73272 | 1.74618e-15 | 1.00000e-16 | 1.00000e-16 | 1.00000e-16 | 1.00000e-16 | 1.00000e-16 | 5.91334e-14 | 1.22066e-09 | 5.25682e-12 | 1.00000e-16 | 2.84365e-13 | 1.33582e-06 | 4.21052e-10 | 1.00000e-16 | 1.14963e-12 | 1.00000e-16 | 1.00000e-16 | 1.00000e-16 | 0.634373 | 1.00000e-16 | 0.365619 | 1.00000e-16 | 1.46567e-08 | 1.00000e-16 | 1.00000e-16 | 1.00000e-16 | 1.00000e-16 |       3.02655e-11 |        1.92720e-16 |     5.16594e-10 | 7.41197e-14 |  6.53042e-15 |   1.12101e-15 | 4.95968e-12 |     6.79624e-14 | 5.35778e-12 |        1.00000e-16 |       7.42479e-13 | 2.45592e-13 |  2.63038e-16 | 3.26058e-16 | 3.63385e-14 | 1.00000e-16 | 1.00000e-16 | 1.00000e-16 | 1.00000e-16 | 1.00000e-16 | 1.00000e-16 | 2.11153e-14 | 1.57565e-13 | 6.41986e-15 | 1.00000e-16 |       1.00000e-16 |       1.00000e-16 |    1.00000e-16 |     1.00000e-16 |    1.00000e-16 |   1.00000e-16 |       1.00000e-16 |    1.00000e-16 |       1.00000e-16 |      1.00000e-16 |       1.00000e-16 |      1.00000e-16 |      1.00000e-16 | 1.00000e-16 |        1.00000e-16 |        1.00000e-16 | 1.00000e-16 | 2.58978e-13 | 1.00000e-16 |       1.00000e-16 |        1.00000e-16 |       1.00000e-16 |     1.00000e-16 |     1.00000e-16 |    1.00000e-16 |      1.00000e-16 |        1.00000e-16 |        1.00000e-16 |       1.00000e-16 |    1.00000e-16 |   1.00000e-16 |     1.00000e-16 |     1.00000e-16 |     1.00000e-16 |     1.00000e-16 |       1.00000e-16 |        1.00000e-16 | 1.00000e-16 | 1.00000e-16 |       1.00000e-16 |    1.00000e-16 |        1.00000e-16 |     1.00000e-16 |     1.00000e-16 |       1.00000e-16 |        1.00000e-16 |        1.00000e-16 |      1.00000e-16 | 1.00000e-16 |    1.00000e-16 |      1.00000e-16 | 1.00000e-16 |      1.00000e-16 |     1.00000e-16 |       1.00000e-16 |     1.00000e-16 |      1.00000e-16 |       1.00000e-16 |    1.00000e-16 | 1.00000e-16 |        1.00000e-16 |        1.00000e-16 |       1.00000e-16 |        1.00000e-16 |        1.00000e-16 |     1.00000e-16 |        1.00000e-16 |       1.00000e-16 |      1.00000e-16 |       1.00000e-16 |        1.00000e-16 |      1.00000e-16 |        1.00000e-16 |       1.00000e-16 |        1.00000e-16 |        1.00000e-16 | 1.07931e-05 | 1.00000e-16 | 1.00000e-16 | 3.58079e-06 | 4.92901e-08 | 1.00000e-16 | 1.00000e-16 | 5.20531e-14 | 7.14850e-08 | 1.82308e-06 | 1.26499e-11 | 3.60489e-14 | 1.00000e-16 | 4.36341e-14 | 1.00000e-16 | 0.242436 | 1.00000e-16 | 1.00000e-16 |        4.49362e-07 | 8.42136e-07 | 0.422158 | 1.00000e-16 | 1.87838e-12 | 7.01959e-16 | 1.00000e-16 | 4.05516e-13 | 1.00000e-16 | 1.00000e-16 | 2.42568e-11 | 1.85006e-11 | 1.00000e-16 | 6.85301e-09 | 5.34473e-05 | 9.03476e-13 | 1.14422e-15 | 3.24673e-08 | 1.00000e-16 | 3.43125e-15 | 1.00000e-16 | 1.00000e-16 | 1.00000e-16 |  2.06806 | 1.00000e-16 | 1.00000e-16 | 1.00000e-16 | 4.36126e-13 | 1.00000e-16 | 3.84087e-15 | 8.13790e-12 | 1.00000e-16 | 1.00000e-16 | 1.00000e-16 | 1.00000e-16 | 1.00000e-16 | 2.04402e-15 | 2.73926e-11 | 1.00000e-16 | 1.00000e-16 | 8.67695e-07 | 1.00000e-16 | 1.00000e-16 | 2.17752e-11 | 1.00000e-16 | 1.00000e-16 | 1.00000e-16 | 1.00000e-16 | 1.00000e-16 | 1.00000e-16 | 1.00000e-16 | 1.00000e-16\n",
            " 3.20000 |     1642.88 |  3.79945 | 3.29318e-15 | 1.00000e-16 | 1.00000e-16 | 1.00000e-16 | 1.00000e-16 | 1.00000e-16 | 7.17299e-14 | 9.07670e-10 | 5.15259e-12 | 1.00000e-16 | 2.98298e-13 | 6.33959e-07 | 2.80370e-10 | 1.00000e-16 | 1.69927e-12 | 1.00000e-16 | 1.26588e-16 | 1.00000e-16 | 0.617615 | 1.00000e-16 | 0.382378 | 1.00000e-16 | 2.00308e-08 | 1.00000e-16 | 1.00000e-16 | 1.00000e-16 | 1.00000e-16 |       1.83635e-11 |        1.61318e-16 |     3.36501e-10 | 6.45132e-14 |  7.09196e-15 |   7.24135e-16 | 2.14202e-12 |     4.51224e-14 | 2.11393e-12 |        1.00000e-16 |       3.51240e-13 | 1.29904e-13 |  1.92294e-16 | 1.37089e-16 | 1.00966e-14 | 1.00000e-16 | 1.00000e-16 | 1.00000e-16 | 1.00000e-16 | 1.00000e-16 | 1.00000e-16 | 2.45331e-14 | 1.25603e-13 | 8.55111e-15 | 1.00000e-16 |       1.00000e-16 |       1.00000e-16 |    1.00000e-16 |     1.00000e-16 |    1.00000e-16 |   1.00000e-16 |       1.00000e-16 |    1.00000e-16 |       1.00000e-16 |      1.00000e-16 |       1.00000e-16 |      1.00000e-16 |      1.00000e-16 | 1.00000e-16 |        1.00000e-16 |        1.00000e-16 | 1.00000e-16 | 2.05516e-13 | 1.00000e-16 |       1.00000e-16 |        1.00000e-16 |       1.00000e-16 |     1.00000e-16 |     1.00000e-16 |    1.00000e-16 |      1.00000e-16 |        1.00000e-16 |        1.00000e-16 |       1.00000e-16 |    1.00000e-16 |   1.00000e-16 |     1.00000e-16 |     1.00000e-16 |     1.00000e-16 |     1.00000e-16 |       1.00000e-16 |        1.00000e-16 | 1.00000e-16 | 1.00000e-16 |       1.00000e-16 |    1.00000e-16 |        1.00000e-16 |     1.00000e-16 |     1.00000e-16 |       1.00000e-16 |        1.00000e-16 |        1.00000e-16 |      1.00000e-16 | 1.00000e-16 |    1.00000e-16 |      1.00000e-16 | 1.00000e-16 |      1.00000e-16 |     1.00000e-16 |       1.00000e-16 |     1.00000e-16 |      1.00000e-16 |       1.00000e-16 |    1.00000e-16 | 1.00000e-16 |        1.00000e-16 |        1.00000e-16 |       1.00000e-16 |        1.00000e-16 |        1.00000e-16 |     1.00000e-16 |        1.00000e-16 |       1.00000e-16 |      1.00000e-16 |       1.00000e-16 |        1.00000e-16 |      1.00000e-16 |        1.00000e-16 |       1.00000e-16 |        1.00000e-16 |        1.00000e-16 | 1.56213e-05 | 1.00000e-16 | 1.00000e-16 | 2.92983e-06 | 5.97457e-08 | 1.00000e-16 | 1.00000e-16 | 5.36158e-14 | 6.53727e-08 | 1.68286e-06 | 2.60344e-11 | 9.57962e-14 | 1.00000e-16 | 1.33919e-13 | 1.00000e-16 | 0.223745 | 1.00000e-16 | 1.00000e-16 |        3.93616e-07 | 8.20815e-07 | 0.440864 | 1.00000e-16 | 4.20749e-12 | 1.75089e-15 | 1.00000e-16 | 9.74404e-13 | 1.00000e-16 | 1.00000e-16 | 3.70134e-11 | 3.40769e-11 | 1.00000e-16 | 8.83269e-09 | 4.27981e-05 | 1.28512e-12 | 1.66888e-15 | 6.92107e-08 | 1.00000e-16 | 1.16870e-14 | 1.00000e-16 | 1.00000e-16 | 1.00000e-16 |  2.13478 | 1.00000e-16 | 1.00000e-16 | 1.00000e-16 | 5.91445e-13 | 1.00000e-16 | 3.80697e-15 | 1.73172e-11 | 1.00000e-16 | 1.00000e-16 | 1.00000e-16 | 1.00000e-16 | 1.00000e-16 | 3.42357e-15 | 7.74864e-11 | 1.00000e-16 | 1.00000e-16 | 1.58305e-06 | 1.00000e-16 | 1.00000e-16 | 6.92183e-11 | 1.00000e-16 | 1.00000e-16 | 1.00000e-16 | 1.00000e-16 | 1.00000e-16 | 1.00000e-16 | 1.00000e-16 | 1.00000e-16\n",
            " 3.30000 |     1680.35 |  3.86617 | 6.03756e-15 | 1.00000e-16 | 1.00000e-16 | 1.00000e-16 | 1.00000e-16 | 1.00000e-16 | 8.36925e-14 | 6.72618e-10 | 4.96200e-12 | 1.00000e-16 | 3.05866e-13 | 3.09747e-07 | 1.88466e-10 | 1.00000e-16 | 2.40111e-12 | 1.00000e-16 | 1.66832e-16 | 1.00000e-16 | 0.599860 | 1.00000e-16 | 0.400134 | 1.00000e-16 | 2.66615e-08 | 1.00000e-16 | 1.00000e-16 | 1.00000e-16 | 1.00000e-16 |       1.11913e-11 |        1.32040e-16 |     2.20758e-10 | 5.57091e-14 |  7.63550e-15 |   4.65056e-16 | 9.51326e-13 |     2.99843e-14 | 8.59531e-13 |        1.00000e-16 |       1.70161e-13 | 7.03590e-14 |  1.41406e-16 | 1.00000e-16 | 2.94709e-15 | 1.00000e-16 | 1.00000e-16 | 1.00000e-16 | 1.00000e-16 | 1.00000e-16 | 1.00000e-16 | 2.76481e-14 | 9.93834e-14 | 1.09214e-14 | 1.00000e-16 |       1.00000e-16 |       1.00000e-16 |    1.00000e-16 |     1.00000e-16 |    1.00000e-16 |   1.00000e-16 |       1.00000e-16 |    1.00000e-16 |       1.00000e-16 |      1.00000e-16 |       1.00000e-16 |      1.00000e-16 |      1.00000e-16 | 1.00000e-16 |        1.00000e-16 |        1.00000e-16 | 1.00000e-16 | 1.62354e-13 | 1.00000e-16 |       1.00000e-16 |        1.00000e-16 |       1.00000e-16 |     1.00000e-16 |     1.00000e-16 |    1.00000e-16 |      1.00000e-16 |        1.00000e-16 |        1.00000e-16 |       1.00000e-16 |    1.00000e-16 |   1.00000e-16 |     1.00000e-16 |     1.00000e-16 |     1.00000e-16 |     1.00000e-16 |       1.00000e-16 |        1.00000e-16 | 1.00000e-16 | 1.00000e-16 |       1.00000e-16 |    1.00000e-16 |        1.00000e-16 |     1.00000e-16 |     1.00000e-16 |       1.00000e-16 |        1.00000e-16 |        1.00000e-16 |      1.00000e-16 | 1.00000e-16 |    1.00000e-16 |      1.00000e-16 | 1.00000e-16 |      1.00000e-16 |     1.00000e-16 |       1.00000e-16 |     1.00000e-16 |      1.00000e-16 |       1.00000e-16 |    1.00000e-16 | 1.00000e-16 |        1.00000e-16 |        1.00000e-16 |       1.00000e-16 |        1.00000e-16 |        1.00000e-16 |     1.00000e-16 |        1.00000e-16 |       1.00000e-16 |      1.00000e-16 |       1.00000e-16 |        1.00000e-16 |      1.00000e-16 |        1.00000e-16 |       1.00000e-16 |        1.00000e-16 |        1.00000e-16 | 2.18534e-05 | 1.00000e-16 | 1.00000e-16 | 2.39474e-06 | 7.06075e-08 | 1.00000e-16 | 1.00000e-16 | 5.38196e-14 | 5.91742e-08 | 1.54969e-06 | 5.07538e-11 | 2.38146e-13 | 1.00000e-16 | 3.79752e-13 | 1.00000e-16 | 0.206046 | 1.00000e-16 | 1.00000e-16 |        3.43627e-07 | 7.97595e-07 | 0.458574 | 1.00000e-16 | 8.89298e-12 | 3.94329e-15 | 1.00000e-16 | 2.18169e-12 | 1.00000e-16 | 1.00000e-16 | 5.43298e-11 | 5.94747e-11 | 1.00000e-16 | 1.10540e-08 | 3.44374e-05 | 1.76795e-12 | 2.26737e-15 | 1.40003e-07 | 1.00000e-16 | 3.66604e-14 | 1.00000e-16 | 1.00000e-16 | 1.00000e-16 |  2.20150 | 1.00000e-16 | 1.00000e-16 | 1.00000e-16 | 7.76276e-13 | 1.00000e-16 | 3.70972e-15 | 3.49957e-11 | 1.00000e-16 | 1.00000e-16 | 1.00000e-16 | 1.00000e-16 | 1.02381e-16 | 5.48084e-15 | 2.03183e-10 | 1.00000e-16 | 1.00000e-16 | 2.76137e-06 | 1.00000e-16 | 1.06266e-16 | 2.03716e-10 | 1.00000e-16 | 1.00000e-16 | 1.00000e-16 | 1.00000e-16 | 1.00000e-16 | 1.00000e-16 | 1.00000e-16 | 1.00000e-16\n",
            " 3.40000 |     1716.41 |  3.93290 | 1.07314e-14 | 1.00000e-16 | 1.00000e-16 | 1.00000e-16 | 1.00000e-16 | 1.00000e-16 | 9.42625e-14 | 4.96307e-10 | 4.70026e-12 | 1.00000e-16 | 3.07096e-13 | 1.55042e-07 | 1.27603e-10 | 1.00000e-16 | 3.25849e-12 | 1.00000e-16 | 2.15473e-16 | 1.00000e-16 | 0.581134 | 1.00000e-16 | 0.418861 | 1.00000e-16 | 3.46599e-08 | 1.00000e-16 | 1.00000e-16 | 1.00000e-16 | 1.00000e-16 |       6.83448e-12 |        1.05772e-16 |     1.45515e-10 | 4.77128e-14 |  8.15297e-15 |   2.96553e-16 | 4.32155e-13 |     1.99060e-14 | 3.58091e-13 |        1.00000e-16 |       8.40234e-14 | 3.88485e-14 |  1.04385e-16 | 1.00000e-16 | 8.96130e-16 | 1.00000e-16 | 1.00000e-16 | 1.00000e-16 | 1.00000e-16 | 1.00000e-16 | 1.00000e-16 | 3.02968e-14 | 7.80039e-14 | 1.34263e-14 | 1.00000e-16 |       1.00000e-16 |       1.00000e-16 |    1.00000e-16 |     1.00000e-16 |    1.00000e-16 |   1.00000e-16 |       1.00000e-16 |    1.00000e-16 |       1.00000e-16 |      1.00000e-16 |       1.00000e-16 |      1.00000e-16 |      1.00000e-16 | 1.00000e-16 |        1.00000e-16 |        1.00000e-16 | 1.00000e-16 | 1.27537e-13 | 1.00000e-16 |       1.00000e-16 |        1.00000e-16 |       1.00000e-16 |     1.00000e-16 |     1.00000e-16 |    1.00000e-16 |      1.00000e-16 |        1.00000e-16 |        1.00000e-16 |       1.00000e-16 |    1.00000e-16 |   1.00000e-16 |     1.00000e-16 |     1.00000e-16 |     1.00000e-16 |     1.00000e-16 |       1.00000e-16 |        1.00000e-16 | 1.00000e-16 | 1.00000e-16 |       1.00000e-16 |    1.00000e-16 |        1.00000e-16 |     1.00000e-16 |     1.00000e-16 |       1.00000e-16 |        1.00000e-16 |        1.00000e-16 |      1.00000e-16 | 1.00000e-16 |    1.00000e-16 |      1.00000e-16 | 1.00000e-16 |      1.00000e-16 |     1.00000e-16 |       1.00000e-16 |     1.00000e-16 |      1.00000e-16 |       1.00000e-16 |    1.00000e-16 | 1.00000e-16 |        1.00000e-16 |        1.00000e-16 |       1.00000e-16 |        1.00000e-16 |        1.00000e-16 |     1.00000e-16 |        1.00000e-16 |       1.00000e-16 |      1.00000e-16 |       1.00000e-16 |        1.00000e-16 |      1.00000e-16 |        1.00000e-16 |       1.00000e-16 |        1.00000e-16 |        1.00000e-16 | 2.96633e-05 | 1.00000e-16 | 1.00000e-16 | 1.95375e-06 | 8.15536e-08 | 1.00000e-16 | 1.00000e-16 | 5.27400e-14 | 5.30328e-08 | 1.42312e-06 | 9.43417e-11 | 5.58477e-13 | 1.00000e-16 | 1.00483e-12 | 1.00000e-16 | 0.189314 | 1.00000e-16 | 1.00000e-16 |        2.98866e-07 | 7.72541e-07 | 0.475311 | 1.00000e-16 | 1.78640e-11 | 8.16411e-15 | 1.00000e-16 | 4.58998e-12 | 1.00000e-16 | 1.00000e-16 | 7.70330e-11 | 9.89713e-11 | 1.00000e-16 | 1.34751e-08 | 2.78137e-05 | 2.36105e-12 | 2.90915e-15 | 2.70502e-07 | 1.00000e-16 | 1.07018e-13 | 1.00000e-16 | 1.00000e-16 | 1.00000e-16 |  2.26821 | 1.00000e-16 | 1.00000e-16 | 1.00000e-16 | 9.89533e-13 | 1.00000e-16 | 3.55854e-15 | 6.75926e-11 | 1.00000e-16 | 1.00000e-16 | 1.00000e-16 | 1.00000e-16 | 2.05976e-16 | 8.42983e-15 | 4.98510e-10 | 1.00000e-16 | 1.00000e-16 | 4.63063e-06 | 1.00000e-16 | 2.26414e-16 | 5.60570e-10 | 1.00000e-16 | 1.00000e-16 | 1.00000e-16 | 1.00000e-16 | 1.00000e-16 | 1.00000e-16 | 1.00000e-16 | 1.00000e-16\n",
            " 3.50000 |     1751.12 |  3.99962 | 1.85747e-14 | 1.00000e-16 | 1.00000e-16 | 1.00000e-16 | 1.00000e-16 | 1.00000e-16 | 1.02782e-13 | 3.64340e-10 | 4.38333e-12 | 1.00000e-16 | 3.02327e-13 | 7.91618e-08 | 8.68436e-11 | 1.00000e-16 | 4.26323e-12 | 1.00000e-16 | 2.73410e-16 | 1.00000e-16 | 0.561463 | 1.00000e-16 | 0.438533 | 1.00000e-16 | 4.41119e-08 | 1.00000e-16 | 1.00000e-16 | 1.00000e-16 | 1.00000e-16 |       4.17322e-12 |        1.00000e-16 |     9.61645e-11 | 4.05145e-14 |  8.63607e-15 |   1.87519e-16 | 1.99844e-13 |     1.31802e-14 | 1.52079e-13 |        1.00000e-16 |       4.21124e-14 | 2.17813e-14 |  1.00000e-16 | 1.00000e-16 | 2.81777e-16 | 1.00000e-16 | 1.00000e-16 | 1.00000e-16 | 1.00000e-16 | 1.00000e-16 | 1.00000e-16 | 3.23434e-14 | 6.06869e-14 | 1.59371e-14 | 1.00000e-16 |       1.00000e-16 |       1.00000e-16 |    1.00000e-16 |     1.00000e-16 |    1.00000e-16 |   1.00000e-16 |       1.00000e-16 |    1.00000e-16 |       1.00000e-16 |      1.00000e-16 |       1.00000e-16 |      1.00000e-16 |      1.00000e-16 | 1.00000e-16 |        1.00000e-16 |        1.00000e-16 | 1.00000e-16 | 9.95151e-14 | 1.00000e-16 |       1.00000e-16 |        1.00000e-16 |       1.00000e-16 |     1.00000e-16 |     1.00000e-16 |    1.00000e-16 |      1.00000e-16 |        1.00000e-16 |        1.00000e-16 |       1.00000e-16 |    1.00000e-16 |   1.00000e-16 |     1.00000e-16 |     1.00000e-16 |     1.00000e-16 |     1.00000e-16 |       1.00000e-16 |        1.00000e-16 | 1.00000e-16 | 1.00000e-16 |       1.00000e-16 |    1.00000e-16 |        1.00000e-16 |     1.00000e-16 |     1.00000e-16 |       1.00000e-16 |        1.00000e-16 |        1.00000e-16 |      1.00000e-16 | 1.00000e-16 |    1.00000e-16 |      1.00000e-16 | 1.00000e-16 |      1.00000e-16 |     1.00000e-16 |       1.00000e-16 |     1.00000e-16 |      1.00000e-16 |       1.00000e-16 |    1.00000e-16 | 1.00000e-16 |        1.00000e-16 |        1.00000e-16 |       1.00000e-16 |        1.00000e-16 |        1.00000e-16 |     1.00000e-16 |        1.00000e-16 |       1.00000e-16 |      1.00000e-16 |       1.00000e-16 |        1.00000e-16 |      1.00000e-16 |        1.00000e-16 |       1.00000e-16 |        1.00000e-16 |        1.00000e-16 | 3.91946e-05 | 1.00000e-16 | 1.00000e-16 | 1.58977e-06 | 9.22452e-08 | 1.00000e-16 | 1.00000e-16 | 5.05199e-14 | 4.70645e-08 | 1.30282e-06 | 1.68141e-10 | 1.24429e-12 | 1.00000e-16 | 2.50186e-12 | 1.00000e-16 | 0.173523 | 1.00000e-16 | 1.00000e-16 |        2.58858e-07 | 7.45738e-07 | 0.491104 | 1.00000e-16 | 3.43140e-11 | 1.56705e-14 | 1.00000e-16 | 9.13844e-12 | 1.00000e-16 | 1.00000e-16 | 1.05872e-10 | 1.57860e-10 | 1.00000e-16 | 1.60422e-08 | 2.25256e-05 | 3.07055e-12 | 3.54207e-15 | 5.01983e-07 | 1.00000e-16 | 2.93311e-13 | 1.00000e-16 | 1.00000e-16 | 1.00000e-16 |  2.33493 | 1.00000e-16 | 1.00000e-16 | 1.00000e-16 | 1.22864e-12 | 1.00000e-16 | 3.36367e-15 | 1.25458e-10 | 1.00000e-16 | 1.00000e-16 | 1.00000e-16 | 1.00000e-16 | 3.93697e-16 | 1.25105e-14 | 1.15352e-09 | 1.00000e-16 | 1.00000e-16 | 7.50004e-06 | 1.00000e-16 | 4.64499e-16 | 1.45432e-09 | 1.00000e-16 | 1.00000e-16 | 1.00000e-16 | 1.00000e-16 | 1.00000e-16 | 1.00000e-16 | 1.00000e-16 | 1.00000e-16\n",
            " 3.60000 |     1784.58 |  4.06635 | 3.12359e-14 | 1.00000e-16 | 1.00000e-16 | 1.00000e-16 | 1.14377e-16 | 1.00000e-16 | 1.08749e-13 | 2.65862e-10 | 4.02701e-12 | 1.00000e-16 | 2.92147e-13 | 4.10718e-08 | 5.93009e-11 | 1.00000e-16 | 5.39446e-12 | 1.00000e-16 | 3.39451e-16 | 1.00000e-16 | 0.540877 | 1.00000e-16 | 0.459120 | 1.00000e-16 | 5.50726e-08 | 1.00000e-16 | 1.00000e-16 | 1.00000e-16 | 1.00000e-16 |       2.54256e-12 |        1.00000e-16 |     6.35852e-11 | 3.40918e-14 |  9.07638e-15 |   1.17419e-16 | 9.36743e-14 |     8.68919e-15 | 6.55366e-14 |        1.00000e-16 |       2.13424e-14 | 1.23574e-14 |  1.00000e-16 | 1.00000e-16 | 1.00000e-16 | 1.00000e-16 | 1.00000e-16 | 1.00000e-16 | 1.00000e-16 | 1.00000e-16 | 1.00000e-16 | 3.36886e-14 | 4.67633e-14 | 1.83116e-14 | 1.00000e-16 |       1.00000e-16 |       1.00000e-16 |    1.00000e-16 |     1.00000e-16 |    1.00000e-16 |   1.00000e-16 |       1.00000e-16 |    1.00000e-16 |       1.00000e-16 |      1.00000e-16 |       1.00000e-16 |      1.00000e-16 |      1.00000e-16 | 1.00000e-16 |        1.00000e-16 |        1.00000e-16 | 1.00000e-16 | 7.70426e-14 | 1.00000e-16 |       1.00000e-16 |        1.00000e-16 |       1.00000e-16 |     1.00000e-16 |     1.00000e-16 |    1.00000e-16 |      1.00000e-16 |        1.00000e-16 |        1.00000e-16 |       1.00000e-16 |    1.00000e-16 |   1.00000e-16 |     1.00000e-16 |     1.00000e-16 |     1.00000e-16 |     1.00000e-16 |       1.00000e-16 |        1.00000e-16 | 1.00000e-16 | 1.00000e-16 |       1.00000e-16 |    1.00000e-16 |        1.00000e-16 |     1.00000e-16 |     1.00000e-16 |       1.00000e-16 |        1.00000e-16 |        1.00000e-16 |      1.00000e-16 | 1.00000e-16 |    1.00000e-16 |      1.00000e-16 | 1.00000e-16 |      1.00000e-16 |     1.00000e-16 |       1.00000e-16 |     1.00000e-16 |      1.00000e-16 |       1.00000e-16 |    1.00000e-16 | 1.00000e-16 |        1.00000e-16 |        1.00000e-16 |       1.00000e-16 |        1.00000e-16 |        1.00000e-16 |     1.00000e-16 |        1.00000e-16 |       1.00000e-16 |      1.00000e-16 |       1.00000e-16 |        1.00000e-16 |      1.00000e-16 |        1.00000e-16 |       1.00000e-16 |        1.00000e-16 |        1.00000e-16 | 5.05509e-05 | 1.00000e-16 | 1.00000e-16 | 1.28916e-06 | 1.02342e-07 | 1.00000e-16 | 1.00000e-16 | 4.73501e-14 | 4.13601e-08 | 1.18853e-06 | 2.88702e-10 | 2.65006e-12 | 1.00000e-16 | 5.90408e-12 | 1.00000e-16 | 0.158647 | 1.00000e-16 | 1.00000e-16 |        2.23181e-07 | 7.17284e-07 | 0.505979 | 1.00000e-16 | 6.33588e-11 | 2.82579e-14 | 1.00000e-16 | 1.73220e-11 | 1.00000e-16 | 1.00000e-16 | 1.41454e-10 | 2.42412e-10 | 1.00000e-16 | 1.86928e-08 | 1.82763e-05 | 3.89898e-12 | 4.13422e-15 | 8.99007e-07 | 1.00000e-16 | 7.60547e-13 | 1.00000e-16 | 1.00000e-16 | 1.00000e-16 |  2.40164 | 1.00000e-16 | 1.00000e-16 | 1.00000e-16 | 1.48956e-12 | 1.00000e-16 | 3.13551e-15 | 2.24822e-10 | 1.00000e-16 | 1.00000e-16 | 1.00000e-16 | 1.00000e-16 | 7.18914e-16 | 1.79809e-14 | 2.53445e-09 | 1.00000e-16 | 1.00000e-16 | 1.17794e-05 | 1.00000e-16 | 9.16814e-16 | 3.58292e-09 | 1.00000e-16 | 1.00000e-16 | 1.00000e-16 | 1.00000e-16 | 1.00000e-16 | 1.00000e-16 | 1.00000e-16 | 1.00000e-16\n"
          ]
        }
      ]
    },
    {
      "cell_type": "markdown",
      "metadata": {
        "id": "kWCNcOoKtTHY"
      },
      "source": [
        "We now plot the calculated temperatures of the exit stream as a function of the fuel-to-air mass ratio."
      ]
    },
    {
      "cell_type": "code",
      "execution_count": null,
      "metadata": {
        "id": "sOvt_YC8tTHY",
        "outputId": "83d9f862-e6cf-496f-9fb9-1fc4484747a1",
        "colab": {
          "base_uri": "https://localhost:8080/",
          "height": 1000
        }
      },
      "outputs": [
        {
          "output_type": "display_data",
          "data": {
            "text/html": [
              "<html>\n",
              "<head><meta charset=\"utf-8\" /></head>\n",
              "<body>\n",
              "    <div>            <script src=\"https://cdnjs.cloudflare.com/ajax/libs/mathjax/2.7.5/MathJax.js?config=TeX-AMS-MML_SVG\"></script><script type=\"text/javascript\">if (window.MathJax && window.MathJax.Hub && window.MathJax.Hub.Config) {window.MathJax.Hub.Config({SVG: {font: \"STIX-Web\"}});}</script>                <script type=\"text/javascript\">window.PlotlyConfig = {MathJaxConfig: 'local'};</script>\n",
              "        <script charset=\"utf-8\" src=\"https://cdn.plot.ly/plotly-2.35.2.min.js\"></script>                <div id=\"591e978b-5c7a-46be-b925-d82552c002c8\" class=\"plotly-graph-div\" style=\"height:1000px; width:100%;\"></div>            <script type=\"text/javascript\">                                    window.PLOTLYENV=window.PLOTLYENV || {};                                    if (document.getElementById(\"591e978b-5c7a-46be-b925-d82552c002c8\")) {                    Plotly.newPlot(                        \"591e978b-5c7a-46be-b925-d82552c002c8\",                        [{\"mode\":\"lines+markers\",\"name\":\"\",\"x\":[0.7,0.7999999999999999,0.8999999999999999,1.0,1.1,1.2,1.3,1.4,1.5,1.6,1.7,1.8,1.9000000000000001,2.0,2.1,2.2,2.3,2.4000000000000004,2.5,2.6,2.7,2.8,2.9000000000000004,3.0,3.1000000000000005,3.2,3.3,3.4000000000000004,3.5,3.6000000000000005],\"y\":[1000.5681719732752,1015.8547156919581,1029.325423594642,1041.3617265058595,1052.2423543973737,1062.1761163180217,1071.322849338003,1079.807226056129,1087.7281087647214,1095.165043625287,1102.182868828921,1108.8350490261835,1115.16613085316,1125.3801166737,1151.3482612163104,1185.933369460944,1230.6680253158765,1281.3603916345196,1332.8149696819708,1382.8357810038915,1430.8866046290789,1476.9249663678336,1521.0337745415106,1563.323205658517,1603.9043230202274,1642.881912420985,1680.3527868199644,1716.4057362468532,1751.1219800051622,1784.5757546979112],\"type\":\"scatter\"}],                        {\"template\":{\"data\":{\"scatter\":[{\"line\":{\"width\":4},\"marker\":{\"size\":10,\"symbol\":\"circle\"},\"type\":\"scatter\"}]},\"layout\":{\"colorway\":[\"#4C78A8\",\"#F58518\",\"#E45756\",\"#72B7B2\",\"#54A24B\",\"#EECA3B\",\"#B279A2\",\"#FF9DA6\",\"#9D755D\",\"#BAB0AC\"],\"font\":{\"color\":\"#2e2e2e\",\"family\":\"Arial\",\"size\":16},\"legend\":{\"title\":{\"text\":\"\"}},\"margin\":{\"b\":100,\"l\":100,\"pad\":5,\"r\":100,\"t\":100},\"paper_bgcolor\":\"#f7f7f7\",\"plot_bgcolor\":\"#f7f7f7\",\"title\":{\"font\":{\"color\":\"#636363\",\"size\":24},\"x\":0.0,\"xref\":\"paper\",\"yanchor\":\"middle\",\"yref\":\"paper\"},\"xaxis\":{\"exponentformat\":\"power\",\"showexponent\":\"last\",\"title\":{\"font\":{\"size\":20}},\"zerolinecolor\":\"#2e2e2e\",\"zerolinewidth\":0},\"yaxis\":{\"exponentformat\":\"power\",\"showexponent\":\"last\",\"title\":{\"font\":{\"size\":20}},\"zerolinecolor\":\"#2e2e2e\",\"zerolinewidth\":0}}},\"height\":1000,\"xaxis\":{\"title\":{\"text\":\"Air:Fuel (mass ratio)\"}},\"yaxis\":{\"title\":{\"text\":\"Temperature [K]\"}}},                        {\"responsive\": true}                    ).then(function(){\n",
              "                            \n",
              "var gd = document.getElementById('591e978b-5c7a-46be-b925-d82552c002c8');\n",
              "var x = new MutationObserver(function (mutations, observer) {{\n",
              "        var display = window.getComputedStyle(gd).display;\n",
              "        if (!display || display === 'none') {{\n",
              "            console.log([gd, 'removed!']);\n",
              "            Plotly.purge(gd);\n",
              "            observer.disconnect();\n",
              "        }}\n",
              "}});\n",
              "\n",
              "// Listen for the removal of the full notebook cells\n",
              "var notebookContainer = gd.closest('#notebook-container');\n",
              "if (notebookContainer) {{\n",
              "    x.observe(notebookContainer, {childList: true});\n",
              "}}\n",
              "\n",
              "// Listen for the clearing of the current output cell\n",
              "var outputEl = gd.closest('.output');\n",
              "if (outputEl) {{\n",
              "    x.observe(outputEl, {childList: true});\n",
              "}}\n",
              "\n",
              "                        })                };                            </script>        </div>\n",
              "</body>\n",
              "</html>"
            ]
          },
          "metadata": {}
        }
      ],
      "source": [
        "from reaktplot import *\n",
        "\n",
        "fig = Figure()\n",
        "fig.xaxisTitle(\"Air:Fuel (mass ratio)\")\n",
        "fig.yaxisTitle(\"Temperature [K]\")\n",
        "fig.drawLineWithMarkers(fAirs, table[\"Temperature\"], name=\"\")\n",
        "fig.height(1000)\n",
        "fig.show()"
      ]
    }
  ],
  "metadata": {
    "kernelspec": {
      "display_name": "Python 3",
      "name": "python3"
    },
    "language_info": {
      "codemirror_mode": {
        "name": "ipython",
        "version": 3
      },
      "file_extension": ".py",
      "mimetype": "text/x-python",
      "name": "python",
      "nbconvert_exporter": "python",
      "pygments_lexer": "ipython3",
      "version": "3.10.9"
    },
    "orig_nbformat": 4,
    "colab": {
      "provenance": [],
      "include_colab_link": true
    }
  },
  "nbformat": 4,
  "nbformat_minor": 0
}