{
  "nbformat": 4,
  "nbformat_minor": 0,
  "metadata": {
    "colab": {
      "provenance": [],
      "authorship_tag": "ABX9TyM5vLj1m3cEmhOnzL8HMfXd"
    },
    "kernelspec": {
      "name": "python3",
      "display_name": "Python 3"
    },
    "language_info": {
      "name": "python"
    }
  },
  "cells": [
    {
      "cell_type": "markdown",
      "source": [
        "##s-CO2 Corrosion Severity Prediction##\n",
        "\n",
        "Contains the code for the AMPP 2024 Conference and Expo paper \"Predicting Corrosion Severity of Pipeline Steels in Supercritical CO2 Environments using Supervised Machine Learning\""
      ],
      "metadata": {
        "id": "mjz_MCOFlEvz"
      }
    },
    {
      "cell_type": "markdown",
      "source": [
        "**Data Set Characteristics**"
      ],
      "metadata": {
        "id": "aDu5c5iNlcdZ"
      }
    },
    {
      "cell_type": "code",
      "source": [
        "# Description summmary or original data set\n",
        "import pandas as pd\n",
        "from google.colab import files\n",
        "import io\n",
        "\n",
        "uploaded = files.upload()\n",
        "\n",
        "Original_DS = pd.read_csv(io.BytesIO(uploaded['s-CO2-DS.csv']))\n",
        "\n",
        "print(Original_DS.describe())"
      ],
      "metadata": {
        "colab": {
          "base_uri": "https://localhost:8080/",
          "height": 577
        },
        "id": "RaTn2AtSlZJS",
        "outputId": "16be7ed6-6be7-41bc-eab9-4d41d6a83291"
      },
      "execution_count": 1,
      "outputs": [
        {
          "output_type": "display_data",
          "data": {
            "text/plain": [
              "<IPython.core.display.HTML object>"
            ],
            "text/html": [
              "\n",
              "     <input type=\"file\" id=\"files-52077a2b-8859-43b3-ad06-db9968dfcf06\" name=\"files[]\" multiple disabled\n",
              "        style=\"border:none\" />\n",
              "     <output id=\"result-52077a2b-8859-43b3-ad06-db9968dfcf06\">\n",
              "      Upload widget is only available when the cell has been executed in the\n",
              "      current browser session. Please rerun this cell to enable.\n",
              "      </output>\n",
              "      <script>// Copyright 2017 Google LLC\n",
              "//\n",
              "// Licensed under the Apache License, Version 2.0 (the \"License\");\n",
              "// you may not use this file except in compliance with the License.\n",
              "// You may obtain a copy of the License at\n",
              "//\n",
              "//      http://www.apache.org/licenses/LICENSE-2.0\n",
              "//\n",
              "// Unless required by applicable law or agreed to in writing, software\n",
              "// distributed under the License is distributed on an \"AS IS\" BASIS,\n",
              "// WITHOUT WARRANTIES OR CONDITIONS OF ANY KIND, either express or implied.\n",
              "// See the License for the specific language governing permissions and\n",
              "// limitations under the License.\n",
              "\n",
              "/**\n",
              " * @fileoverview Helpers for google.colab Python module.\n",
              " */\n",
              "(function(scope) {\n",
              "function span(text, styleAttributes = {}) {\n",
              "  const element = document.createElement('span');\n",
              "  element.textContent = text;\n",
              "  for (const key of Object.keys(styleAttributes)) {\n",
              "    element.style[key] = styleAttributes[key];\n",
              "  }\n",
              "  return element;\n",
              "}\n",
              "\n",
              "// Max number of bytes which will be uploaded at a time.\n",
              "const MAX_PAYLOAD_SIZE = 100 * 1024;\n",
              "\n",
              "function _uploadFiles(inputId, outputId) {\n",
              "  const steps = uploadFilesStep(inputId, outputId);\n",
              "  const outputElement = document.getElementById(outputId);\n",
              "  // Cache steps on the outputElement to make it available for the next call\n",
              "  // to uploadFilesContinue from Python.\n",
              "  outputElement.steps = steps;\n",
              "\n",
              "  return _uploadFilesContinue(outputId);\n",
              "}\n",
              "\n",
              "// This is roughly an async generator (not supported in the browser yet),\n",
              "// where there are multiple asynchronous steps and the Python side is going\n",
              "// to poll for completion of each step.\n",
              "// This uses a Promise to block the python side on completion of each step,\n",
              "// then passes the result of the previous step as the input to the next step.\n",
              "function _uploadFilesContinue(outputId) {\n",
              "  const outputElement = document.getElementById(outputId);\n",
              "  const steps = outputElement.steps;\n",
              "\n",
              "  const next = steps.next(outputElement.lastPromiseValue);\n",
              "  return Promise.resolve(next.value.promise).then((value) => {\n",
              "    // Cache the last promise value to make it available to the next\n",
              "    // step of the generator.\n",
              "    outputElement.lastPromiseValue = value;\n",
              "    return next.value.response;\n",
              "  });\n",
              "}\n",
              "\n",
              "/**\n",
              " * Generator function which is called between each async step of the upload\n",
              " * process.\n",
              " * @param {string} inputId Element ID of the input file picker element.\n",
              " * @param {string} outputId Element ID of the output display.\n",
              " * @return {!Iterable<!Object>} Iterable of next steps.\n",
              " */\n",
              "function* uploadFilesStep(inputId, outputId) {\n",
              "  const inputElement = document.getElementById(inputId);\n",
              "  inputElement.disabled = false;\n",
              "\n",
              "  const outputElement = document.getElementById(outputId);\n",
              "  outputElement.innerHTML = '';\n",
              "\n",
              "  const pickedPromise = new Promise((resolve) => {\n",
              "    inputElement.addEventListener('change', (e) => {\n",
              "      resolve(e.target.files);\n",
              "    });\n",
              "  });\n",
              "\n",
              "  const cancel = document.createElement('button');\n",
              "  inputElement.parentElement.appendChild(cancel);\n",
              "  cancel.textContent = 'Cancel upload';\n",
              "  const cancelPromise = new Promise((resolve) => {\n",
              "    cancel.onclick = () => {\n",
              "      resolve(null);\n",
              "    };\n",
              "  });\n",
              "\n",
              "  // Wait for the user to pick the files.\n",
              "  const files = yield {\n",
              "    promise: Promise.race([pickedPromise, cancelPromise]),\n",
              "    response: {\n",
              "      action: 'starting',\n",
              "    }\n",
              "  };\n",
              "\n",
              "  cancel.remove();\n",
              "\n",
              "  // Disable the input element since further picks are not allowed.\n",
              "  inputElement.disabled = true;\n",
              "\n",
              "  if (!files) {\n",
              "    return {\n",
              "      response: {\n",
              "        action: 'complete',\n",
              "      }\n",
              "    };\n",
              "  }\n",
              "\n",
              "  for (const file of files) {\n",
              "    const li = document.createElement('li');\n",
              "    li.append(span(file.name, {fontWeight: 'bold'}));\n",
              "    li.append(span(\n",
              "        `(${file.type || 'n/a'}) - ${file.size} bytes, ` +\n",
              "        `last modified: ${\n",
              "            file.lastModifiedDate ? file.lastModifiedDate.toLocaleDateString() :\n",
              "                                    'n/a'} - `));\n",
              "    const percent = span('0% done');\n",
              "    li.appendChild(percent);\n",
              "\n",
              "    outputElement.appendChild(li);\n",
              "\n",
              "    const fileDataPromise = new Promise((resolve) => {\n",
              "      const reader = new FileReader();\n",
              "      reader.onload = (e) => {\n",
              "        resolve(e.target.result);\n",
              "      };\n",
              "      reader.readAsArrayBuffer(file);\n",
              "    });\n",
              "    // Wait for the data to be ready.\n",
              "    let fileData = yield {\n",
              "      promise: fileDataPromise,\n",
              "      response: {\n",
              "        action: 'continue',\n",
              "      }\n",
              "    };\n",
              "\n",
              "    // Use a chunked sending to avoid message size limits. See b/62115660.\n",
              "    let position = 0;\n",
              "    do {\n",
              "      const length = Math.min(fileData.byteLength - position, MAX_PAYLOAD_SIZE);\n",
              "      const chunk = new Uint8Array(fileData, position, length);\n",
              "      position += length;\n",
              "\n",
              "      const base64 = btoa(String.fromCharCode.apply(null, chunk));\n",
              "      yield {\n",
              "        response: {\n",
              "          action: 'append',\n",
              "          file: file.name,\n",
              "          data: base64,\n",
              "        },\n",
              "      };\n",
              "\n",
              "      let percentDone = fileData.byteLength === 0 ?\n",
              "          100 :\n",
              "          Math.round((position / fileData.byteLength) * 100);\n",
              "      percent.textContent = `${percentDone}% done`;\n",
              "\n",
              "    } while (position < fileData.byteLength);\n",
              "  }\n",
              "\n",
              "  // All done.\n",
              "  yield {\n",
              "    response: {\n",
              "      action: 'complete',\n",
              "    }\n",
              "  };\n",
              "}\n",
              "\n",
              "scope.google = scope.google || {};\n",
              "scope.google.colab = scope.google.colab || {};\n",
              "scope.google.colab._files = {\n",
              "  _uploadFiles,\n",
              "  _uploadFilesContinue,\n",
              "};\n",
              "})(self);\n",
              "</script> "
            ]
          },
          "metadata": {}
        },
        {
          "output_type": "stream",
          "name": "stdout",
          "text": [
            "Saving s-CO2-DS.csv to s-CO2-DS.csv\n",
            "           chrome        temp       press         H2O            O2  \\\n",
            "count  255.000000  255.000000  255.000000  255.000000    255.000000   \n",
            "mean     0.088584   48.266667    9.256549   29.497224   5208.745105   \n",
            "std      0.125709   20.371343    1.260215   62.878972  11634.587322   \n",
            "min      0.000000   25.000000    8.000000    0.080000      0.000000   \n",
            "25%      0.013000   40.000000    8.000000    0.963600      0.000000   \n",
            "50%      0.040000   50.000000   10.000000    2.730000     20.000000   \n",
            "75%      0.110000   50.000000   10.000000   34.000000   1000.000000   \n",
            "max      0.540000  200.000000   18.200000  400.000000  47000.000000   \n",
            "\n",
            "                SO2          NO2          H2S      rotate         time  \\\n",
            "count    255.000000   255.000000   255.000000  255.000000   255.000000   \n",
            "mean    2034.764706    34.301961   122.745098    0.388235   191.009804   \n",
            "std     5961.856609   127.005235   335.780196    0.488307   254.140300   \n",
            "min        0.000000     0.000000     0.000000    0.000000     1.500000   \n",
            "25%        0.000000     0.000000     0.000000    0.000000    48.000000   \n",
            "50%        0.000000     0.000000     0.000000    0.000000   120.000000   \n",
            "75%      500.000000     0.000000     0.000000    1.000000   168.000000   \n",
            "max    50000.000000  1000.000000  2000.000000    1.000000  1512.000000   \n",
            "\n",
            "               CR    severity  \n",
            "count  255.000000  255.000000  \n",
            "mean     0.499406    2.141176  \n",
            "std      1.804655    1.172046  \n",
            "min      0.000000    1.000000  \n",
            "25%      0.024500    1.000000  \n",
            "50%      0.077000    2.000000  \n",
            "75%      0.330000    3.000000  \n",
            "max     26.000000    4.000000  \n"
          ]
        }
      ]
    },
    {
      "cell_type": "markdown",
      "source": [
        "**Upload Normalized Data Set**"
      ],
      "metadata": {
        "id": "i5dMitt7lhkP"
      }
    },
    {
      "cell_type": "code",
      "source": [
        "# Import functions\n",
        "import numpy as np\n",
        "from sklearn.ensemble import RandomForestClassifier\n",
        "from sklearn.neighbors import KNeighborsClassifier\n",
        "from sklearn.svm import SVC\n",
        "from sklearn.model_selection import train_test_split, cross_val_score, RandomizedSearchCV, RepeatedKFold, GridSearchCV\n",
        "from sklearn.metrics import mean_squared_error, accuracy_score, r2_score, confusion_matrix\n",
        "from sklearn.tree import export_graphviz\n",
        "from IPython.display import Image\n",
        "from google.colab import files\n",
        "\n",
        "# Import data set\n",
        "uploaded = files.upload()    # Used to upload data set csv\n",
        "\n",
        "df = pd.read_csv(io.BytesIO(uploaded['s-CO2-DS-norm.csv']))\n",
        "\n",
        "# Remove unnecessary features (Material, Refs)\n",
        "X = df.drop([\"material\", \"chrome\", \"rotate\", \"CR\", \"severity\", \"Refs.\"], axis=1)\n",
        "y = df[\"severity\"]\n",
        "\n",
        "# Seperate into testing and training sets\n",
        "X_train, X_test, y_train, y_test = train_test_split(X, y, test_size=0.20, random_state=11)"
      ],
      "metadata": {
        "colab": {
          "base_uri": "https://localhost:8080/",
          "height": 525
        },
        "id": "dDWvzd3Alk9E",
        "outputId": "05caf7c2-cd34-4a1f-992d-c10983d98aec"
      },
      "execution_count": 2,
      "outputs": [
        {
          "output_type": "display_data",
          "data": {
            "text/plain": [
              "<IPython.core.display.HTML object>"
            ],
            "text/html": [
              "\n",
              "     <input type=\"file\" id=\"files-aad61b4a-83a2-4cae-a56b-c9afc6a04036\" name=\"files[]\" multiple disabled\n",
              "        style=\"border:none\" />\n",
              "     <output id=\"result-aad61b4a-83a2-4cae-a56b-c9afc6a04036\">\n",
              "      Upload widget is only available when the cell has been executed in the\n",
              "      current browser session. Please rerun this cell to enable.\n",
              "      </output>\n",
              "      <script>// Copyright 2017 Google LLC\n",
              "//\n",
              "// Licensed under the Apache License, Version 2.0 (the \"License\");\n",
              "// you may not use this file except in compliance with the License.\n",
              "// You may obtain a copy of the License at\n",
              "//\n",
              "//      http://www.apache.org/licenses/LICENSE-2.0\n",
              "//\n",
              "// Unless required by applicable law or agreed to in writing, software\n",
              "// distributed under the License is distributed on an \"AS IS\" BASIS,\n",
              "// WITHOUT WARRANTIES OR CONDITIONS OF ANY KIND, either express or implied.\n",
              "// See the License for the specific language governing permissions and\n",
              "// limitations under the License.\n",
              "\n",
              "/**\n",
              " * @fileoverview Helpers for google.colab Python module.\n",
              " */\n",
              "(function(scope) {\n",
              "function span(text, styleAttributes = {}) {\n",
              "  const element = document.createElement('span');\n",
              "  element.textContent = text;\n",
              "  for (const key of Object.keys(styleAttributes)) {\n",
              "    element.style[key] = styleAttributes[key];\n",
              "  }\n",
              "  return element;\n",
              "}\n",
              "\n",
              "// Max number of bytes which will be uploaded at a time.\n",
              "const MAX_PAYLOAD_SIZE = 100 * 1024;\n",
              "\n",
              "function _uploadFiles(inputId, outputId) {\n",
              "  const steps = uploadFilesStep(inputId, outputId);\n",
              "  const outputElement = document.getElementById(outputId);\n",
              "  // Cache steps on the outputElement to make it available for the next call\n",
              "  // to uploadFilesContinue from Python.\n",
              "  outputElement.steps = steps;\n",
              "\n",
              "  return _uploadFilesContinue(outputId);\n",
              "}\n",
              "\n",
              "// This is roughly an async generator (not supported in the browser yet),\n",
              "// where there are multiple asynchronous steps and the Python side is going\n",
              "// to poll for completion of each step.\n",
              "// This uses a Promise to block the python side on completion of each step,\n",
              "// then passes the result of the previous step as the input to the next step.\n",
              "function _uploadFilesContinue(outputId) {\n",
              "  const outputElement = document.getElementById(outputId);\n",
              "  const steps = outputElement.steps;\n",
              "\n",
              "  const next = steps.next(outputElement.lastPromiseValue);\n",
              "  return Promise.resolve(next.value.promise).then((value) => {\n",
              "    // Cache the last promise value to make it available to the next\n",
              "    // step of the generator.\n",
              "    outputElement.lastPromiseValue = value;\n",
              "    return next.value.response;\n",
              "  });\n",
              "}\n",
              "\n",
              "/**\n",
              " * Generator function which is called between each async step of the upload\n",
              " * process.\n",
              " * @param {string} inputId Element ID of the input file picker element.\n",
              " * @param {string} outputId Element ID of the output display.\n",
              " * @return {!Iterable<!Object>} Iterable of next steps.\n",
              " */\n",
              "function* uploadFilesStep(inputId, outputId) {\n",
              "  const inputElement = document.getElementById(inputId);\n",
              "  inputElement.disabled = false;\n",
              "\n",
              "  const outputElement = document.getElementById(outputId);\n",
              "  outputElement.innerHTML = '';\n",
              "\n",
              "  const pickedPromise = new Promise((resolve) => {\n",
              "    inputElement.addEventListener('change', (e) => {\n",
              "      resolve(e.target.files);\n",
              "    });\n",
              "  });\n",
              "\n",
              "  const cancel = document.createElement('button');\n",
              "  inputElement.parentElement.appendChild(cancel);\n",
              "  cancel.textContent = 'Cancel upload';\n",
              "  const cancelPromise = new Promise((resolve) => {\n",
              "    cancel.onclick = () => {\n",
              "      resolve(null);\n",
              "    };\n",
              "  });\n",
              "\n",
              "  // Wait for the user to pick the files.\n",
              "  const files = yield {\n",
              "    promise: Promise.race([pickedPromise, cancelPromise]),\n",
              "    response: {\n",
              "      action: 'starting',\n",
              "    }\n",
              "  };\n",
              "\n",
              "  cancel.remove();\n",
              "\n",
              "  // Disable the input element since further picks are not allowed.\n",
              "  inputElement.disabled = true;\n",
              "\n",
              "  if (!files) {\n",
              "    return {\n",
              "      response: {\n",
              "        action: 'complete',\n",
              "      }\n",
              "    };\n",
              "  }\n",
              "\n",
              "  for (const file of files) {\n",
              "    const li = document.createElement('li');\n",
              "    li.append(span(file.name, {fontWeight: 'bold'}));\n",
              "    li.append(span(\n",
              "        `(${file.type || 'n/a'}) - ${file.size} bytes, ` +\n",
              "        `last modified: ${\n",
              "            file.lastModifiedDate ? file.lastModifiedDate.toLocaleDateString() :\n",
              "                                    'n/a'} - `));\n",
              "    const percent = span('0% done');\n",
              "    li.appendChild(percent);\n",
              "\n",
              "    outputElement.appendChild(li);\n",
              "\n",
              "    const fileDataPromise = new Promise((resolve) => {\n",
              "      const reader = new FileReader();\n",
              "      reader.onload = (e) => {\n",
              "        resolve(e.target.result);\n",
              "      };\n",
              "      reader.readAsArrayBuffer(file);\n",
              "    });\n",
              "    // Wait for the data to be ready.\n",
              "    let fileData = yield {\n",
              "      promise: fileDataPromise,\n",
              "      response: {\n",
              "        action: 'continue',\n",
              "      }\n",
              "    };\n",
              "\n",
              "    // Use a chunked sending to avoid message size limits. See b/62115660.\n",
              "    let position = 0;\n",
              "    do {\n",
              "      const length = Math.min(fileData.byteLength - position, MAX_PAYLOAD_SIZE);\n",
              "      const chunk = new Uint8Array(fileData, position, length);\n",
              "      position += length;\n",
              "\n",
              "      const base64 = btoa(String.fromCharCode.apply(null, chunk));\n",
              "      yield {\n",
              "        response: {\n",
              "          action: 'append',\n",
              "          file: file.name,\n",
              "          data: base64,\n",
              "        },\n",
              "      };\n",
              "\n",
              "      let percentDone = fileData.byteLength === 0 ?\n",
              "          100 :\n",
              "          Math.round((position / fileData.byteLength) * 100);\n",
              "      percent.textContent = `${percentDone}% done`;\n",
              "\n",
              "    } while (position < fileData.byteLength);\n",
              "  }\n",
              "\n",
              "  // All done.\n",
              "  yield {\n",
              "    response: {\n",
              "      action: 'complete',\n",
              "    }\n",
              "  };\n",
              "}\n",
              "\n",
              "scope.google = scope.google || {};\n",
              "scope.google.colab = scope.google.colab || {};\n",
              "scope.google.colab._files = {\n",
              "  _uploadFiles,\n",
              "  _uploadFilesContinue,\n",
              "};\n",
              "})(self);\n",
              "</script> "
            ]
          },
          "metadata": {}
        },
        {
          "output_type": "stream",
          "name": "stdout",
          "text": [
            "Saving s-CO2-DS-norm.csv to s-CO2-DS-norm.csv\n",
            "         temp     press      H2O        O2    SO2   NO2  H2S      time\n",
            "0    0.142857  0.196078  0.00105  0.000000  0.004  0.00  0.0  0.110228\n",
            "1    0.142857  0.196078  0.00105  0.000000  0.000  0.20  0.0  0.110228\n",
            "2    0.142857  0.196078  0.00105  0.000000  0.000  0.20  0.0  0.014896\n",
            "3    0.142857  0.196078  0.00105  0.010638  0.000  0.00  0.0  0.110228\n",
            "4    0.142857  0.196078  0.00105  0.000000  0.000  0.05  0.0  0.014896\n",
            "..        ...       ...      ...       ...    ...   ...  ...       ...\n",
            "250  0.200000  0.147059  0.00230  0.000000  1.000  0.00  0.5  1.000000\n",
            "251  0.114286  0.196078  0.00221  0.638298  0.002  0.00  0.0  0.078451\n",
            "252  0.114286  0.196078  0.00221  0.638298  0.002  0.00  0.0  0.157895\n",
            "253  0.114286  0.196078  0.00221  0.638298  0.002  0.00  0.0  0.237339\n",
            "254  0.114286  0.196078  0.00221  0.638298  0.002  0.00  0.0  0.316783\n",
            "\n",
            "[255 rows x 8 columns]\n",
            "0      1\n",
            "1      1\n",
            "2      3\n",
            "3      1\n",
            "4      2\n",
            "      ..\n",
            "250    4\n",
            "251    3\n",
            "252    3\n",
            "253    3\n",
            "254    3\n",
            "Name: severity, Length: 255, dtype: int64\n"
          ]
        }
      ]
    },
    {
      "cell_type": "markdown",
      "source": [
        "##Random Forest Model##"
      ],
      "metadata": {
        "id": "l9I_4oiKlUtN"
      }
    },
    {
      "cell_type": "markdown",
      "source": [
        "**Initial Model**"
      ],
      "metadata": {
        "id": "BlEp-O_dmJj1"
      }
    },
    {
      "cell_type": "code",
      "execution_count": 3,
      "metadata": {
        "colab": {
          "base_uri": "https://localhost:8080/"
        },
        "id": "gNirCETEk9zW",
        "outputId": "b24df829-8571-4783-f34c-0c6c8c5bfcdc"
      },
      "outputs": [
        {
          "output_type": "stream",
          "name": "stdout",
          "text": [
            "MSE train =  0.06862745098039216\n",
            "R-squared score for training is  0.9485924112607099\n",
            "MSE test =  0.47058823529411764\n",
            "R-squared score for testing is  0.6838842975206613\n"
          ]
        }
      ],
      "source": [
        "# Create and train RV model\n",
        "RF_model = RandomForestClassifier(random_state=11)\n",
        "\n",
        "RF_model.fit(X_train, y_train)\n",
        "\n",
        "# Test model against training and test set\n",
        "RF_pred_train = RF_model.predict(X_train)\n",
        "RF_pred_test = RF_model.predict(X_test)\n",
        "\n",
        "# Errors for the training and testing of model to check for overfitting\n",
        "MSE_train = mean_squared_error(y_train, RF_pred_train)\n",
        "r2_train = r2_score(y_train, RF_pred_train)\n",
        "print('MSE train = ', MSE_train)\n",
        "print(\"R-squared score for training is \", r2_train)\n",
        "\n",
        "MSE_test = mean_squared_error(y_test, RF_pred_test)\n",
        "r2_test = r2_score(y_test, RF_pred_test)\n",
        "print('MSE test = ', MSE_test)\n",
        "print(\"R-squared score for testing is \", r2_test)\n"
      ]
    },
    {
      "cell_type": "markdown",
      "source": [
        "**Hyperparameter Optimization**"
      ],
      "metadata": {
        "id": "CL66tMNYmMZi"
      }
    },
    {
      "cell_type": "code",
      "source": [
        "# Hyperparameter optimization\n",
        "RF_param = {'max_depth': [5,6,7,8,9,10,20,30,40,50],\n",
        "            'n_estimators': [5,7,10,15,20,25,30,35,40,45,50,55,60,65,70,75,80,85,90,95,100]}\n",
        "\n",
        "RF_model_tuned = GridSearchCV(RandomForestClassifier(random_state=11), RF_param, verbose = 1, cv=3, n_jobs = -1)\n",
        "\n",
        "RF_model_tuned.fit(X_train, y_train)\n",
        "\n",
        "# Print best hyperparameters\n",
        "print('Best hyperparameters: ', RF_model_tuned.best_estimator_)\n",
        "\n",
        "# Test optimized model with the training and test set\n",
        "RF_Best_Train = RF_model_tuned.predict(X_train)\n",
        "RF_Best_test = RF_model_tuned.predict(X_test)\n",
        "\n",
        "MSE_best_train = mean_squared_error(y_train, RF_Best_Train)\n",
        "r2_best_train = r2_score(y_train, RF_Best_Train)\n",
        "print('Training Results:')\n",
        "print('Best MSE = ', MSE_best_train)\n",
        "print(\"R-squared score for best model is \", r2_best_train)\n",
        "\n",
        "MSE_best_test = mean_squared_error(y_test, RF_Best_test)\n",
        "r2_best_test = r2_score(y_test, RF_Best_test)\n",
        "print('Test Results: ')\n",
        "print('Best MSE = ', MSE_best_test)\n",
        "print(\"R-squared score for best model is \", r2_best_test)\n",
        "\n",
        "RF_accurate = accuracy_score(y_test, RF_Best_test)\n",
        "print('Model accuracy: ', RF_accurate)\n",
        "\n",
        "print(X_test, y_test, RF_Best_test)"
      ],
      "metadata": {
        "colab": {
          "base_uri": "https://localhost:8080/"
        },
        "id": "RG1vKQbrmSXh",
        "outputId": "d866b650-4d38-42a1-cc74-38d17d69610d"
      },
      "execution_count": 4,
      "outputs": [
        {
          "output_type": "stream",
          "name": "stdout",
          "text": [
            "Fitting 3 folds for each of 210 candidates, totalling 630 fits\n",
            "Best hyperparameters:  RandomForestClassifier(max_depth=9, n_estimators=30, random_state=11)\n",
            "Training Results:\n",
            "Best MSE =  0.08823529411764706\n",
            "R-squared score for best model is  0.93390452876377\n",
            "Test Results: \n",
            "Best MSE =  0.45098039215686275\n",
            "R-squared score for best model is  0.697055785123967\n",
            "Model accuracy:  0.7058823529411765\n",
            "         temp     press       H2O        O2      SO2    NO2   H2S      time\n",
            "137  0.142857  0.196078  0.001700  0.021277  0.40000  0.000  0.00  0.078451\n",
            "144  0.142857  0.196078  0.003201  0.023404  0.40000  0.000  0.00  0.014896\n",
            "26   0.000000  0.196078  0.001025  0.000000  0.00000  0.191  0.00  0.316783\n",
            "174  0.114286  0.098039  0.227120  0.664894  0.00000  0.000  0.00  0.330023\n",
            "198  0.057143  0.000000  0.227118  0.000000  0.00000  0.000  0.00  0.078451\n",
            "170  0.114286  0.047059  0.227120  0.000000  0.00000  0.000  0.00  0.330023\n",
            "217  0.114286  0.196078  0.227118  0.000000  0.00000  0.000  0.00  0.078451\n",
            "135  0.142857  0.196078  0.000000  0.021277  0.40000  0.000  0.00  0.078451\n",
            "214  0.142857  0.196078  0.004801  0.004255  0.00400  0.000  0.10  0.046673\n",
            "83   0.200000  0.294118  0.000050  1.000000  0.00140  0.000  0.00  0.110228\n",
            "22   0.000000  0.196078  0.001025  0.000000  0.00276  0.191  0.00  0.110228\n",
            "143  0.142857  0.196078  0.003201  0.023404  0.40000  0.000  0.00  0.126117\n",
            "139  0.142857  0.196078  0.001075  0.021277  0.40000  0.000  0.00  0.078451\n",
            "39   0.057143  0.000000  0.006801  0.000000  0.00000  0.000  0.00  0.030785\n",
            "173  0.114286  0.029412  0.227120  0.702128  0.00000  0.000  0.00  0.330023\n",
            "203  0.114286  0.000000  0.227118  0.000000  0.00000  0.000  0.00  0.078451\n",
            "163  0.142857  0.000000  0.004801  0.021277  0.06000  0.000  0.00  0.046673\n",
            "180  0.114286  0.047059  0.227120  0.000000  0.00000  0.000  0.00  0.330023\n",
            "36   0.314286  0.539216  0.124825  0.000000  0.00000  0.000  0.00  0.062562\n",
            "224  0.114286  0.196078  0.002210  0.000000  0.00000  0.000  0.05  0.078451\n",
            "99   0.142857  0.196078  0.008127  0.000000  0.00000  0.000  0.00  0.014896\n",
            "238  0.057143  0.000000  0.002073  0.010638  0.01000  0.500  0.00  0.046673\n",
            "134  0.142857  0.196078  0.003201  0.021277  0.40000  0.000  0.00  0.078451\n",
            "3    0.142857  0.196078  0.001050  0.010638  0.00000  0.000  0.00  0.110228\n",
            "215  0.142857  0.196078  0.010635  0.004255  0.00000  0.000  0.10  0.046673\n",
            "52   0.057143  0.000000  0.002801  0.000426  0.00200  0.000  0.00  0.030785\n",
            "229  1.000000  0.196078  0.027715  0.000000  0.00000  0.000  0.05  0.078451\n",
            "175  0.114286  0.098039  0.227120  0.664894  0.00000  0.000  0.00  0.330023\n",
            "54   0.057143  0.000000  0.004226  0.000426  0.00200  0.000  0.00  0.030785\n",
            "207  0.114286  0.196078  0.227118  0.638298  0.00000  0.000  0.00  0.078451\n",
            "61   0.142857  0.000000  0.084817  0.000000  0.00000  0.000  0.00  0.030785\n",
            "9    0.142857  0.196078  0.001050  0.010638  0.00000  0.200  0.00  0.014896\n",
            "60   0.142857  0.000000  0.084817  0.000000  0.00000  0.000  0.00  0.008275\n",
            "41   0.142857  0.000000  0.003801  0.000000  0.00000  0.000  0.00  0.030785\n",
            "20   0.000000  0.000000  0.003126  0.000000  0.00000  0.000  0.10  0.030785\n",
            "102  0.142857  0.196078  0.008127  0.000000  0.02000  0.000  0.00  0.014896\n",
            "11   0.142857  0.196078  0.001050  0.010638  0.00000  0.200  0.00  0.110228\n",
            "29   0.000000  0.196078  0.001025  0.000000  0.00688  0.000  0.00  0.221450\n",
            "98   0.142857  0.196078  0.008127  0.021277  0.00000  0.000  0.00  0.078451\n",
            "216  0.114286  0.196078  0.227118  0.000000  0.00000  0.000  0.00  0.078451\n",
            "63   0.057143  0.000000  0.004226  0.021277  0.00000  0.000  0.00  0.030785\n",
            "55   0.057143  0.000000  0.004226  0.000426  0.00100  0.000  0.00  0.030785\n",
            "130  0.142857  0.196078  0.006626  0.021277  0.28000  0.000  0.00  0.189672\n",
            "252  0.114286  0.196078  0.002210  0.638298  0.00200  0.000  0.00  0.157895\n",
            "33   0.485714  0.784314  0.124825  0.000000  0.00000  0.000  0.00  0.062562\n",
            "242  0.057143  0.000000  0.002073  0.010638  0.01000  0.500  0.00  0.046673\n",
            "128  0.085714  0.196078  0.004801  0.000000  0.01000  0.000  0.00  0.030785\n",
            "101  0.142857  0.196078  0.008127  0.021277  0.00000  0.000  0.00  0.014896\n",
            "2    0.142857  0.196078  0.001050  0.000000  0.00000  0.200  0.00  0.014896\n",
            "49   0.057143  0.000000  0.022179  0.000426  0.00200  0.000  0.00  0.030785\n",
            "14   0.142857  0.000000  0.001425  0.000000  0.20000  0.000  0.00  0.014896 137    4\n",
            "144    4\n",
            "26     2\n",
            "174    1\n",
            "198    1\n",
            "170    1\n",
            "217    1\n",
            "135    1\n",
            "214    2\n",
            "83     1\n",
            "22     1\n",
            "143    4\n",
            "139    2\n",
            "39     2\n",
            "173    1\n",
            "203    1\n",
            "163    1\n",
            "180    1\n",
            "36     1\n",
            "224    1\n",
            "99     1\n",
            "238    4\n",
            "134    4\n",
            "3      1\n",
            "215    4\n",
            "52     1\n",
            "229    2\n",
            "175    2\n",
            "54     2\n",
            "207    1\n",
            "61     1\n",
            "9      3\n",
            "60     2\n",
            "41     1\n",
            "20     2\n",
            "102    4\n",
            "11     2\n",
            "29     1\n",
            "98     1\n",
            "216    1\n",
            "63     1\n",
            "55     1\n",
            "130    4\n",
            "252    3\n",
            "33     1\n",
            "242    4\n",
            "128    4\n",
            "101    2\n",
            "2      3\n",
            "49     4\n",
            "14     4\n",
            "Name: severity, dtype: int64 [4 4 1 1 1 1 1 1 1 1 1 4 1 1 1 1 2 1 1 2 1 4 4 1 1 1 2 1 1 1 1 2 1 1 3 4 1\n",
            " 1 1 1 1 1 4 3 1 4 4 1 2 4 4]\n"
          ]
        }
      ]
    },
    {
      "cell_type": "markdown",
      "source": [
        "**K-Fold Cross Validation**"
      ],
      "metadata": {
        "id": "rtZyYsX5mTYo"
      }
    },
    {
      "cell_type": "code",
      "source": [
        "from sklearn.model_selection import cross_val_score\n",
        "from sklearn.pipeline import make_pipeline\n",
        "from sklearn.preprocessing import StandardScaler\n",
        "from sklearn.model_selection import StratifiedKFold\n",
        "\n",
        "# Create pipeline\n",
        "Pipeline = make_pipeline(StandardScaler(), RandomForestClassifier(max_depth=30, n_estimators=15, random_state=11))\n",
        "\n",
        "# Pass model through pipeline and training and test data set\n",
        "scores = cross_val_score(Pipeline, X=X_train, y=y_train, cv=10, n_jobs=-1)\n",
        "\n",
        "print('Cross Validation accuracy scores: %s' % scores)\n",
        "\n",
        "print('Cross Validation accuracy: %.3f +/- %.3f' % (np.mean(scores),np.std(scores)))"
      ],
      "metadata": {
        "colab": {
          "base_uri": "https://localhost:8080/"
        },
        "id": "PLWrn0Dyme_v",
        "outputId": "b5e35ec9-0b0c-46c8-b423-2277fb5021de"
      },
      "execution_count": 5,
      "outputs": [
        {
          "output_type": "stream",
          "name": "stdout",
          "text": [
            "Cross Validation accuracy scores: [0.61904762 0.66666667 0.61904762 0.71428571 0.9        0.75\n",
            " 0.8        0.65       0.75       0.65      ]\n",
            "Cross Validation accuracy: 0.712 +/- 0.085\n"
          ]
        }
      ]
    },
    {
      "cell_type": "markdown",
      "source": [
        "**Model Visualization and Feature Importance**"
      ],
      "metadata": {
        "id": "U8Ljbs_ZmqTr"
      }
    },
    {
      "cell_type": "code",
      "source": [
        "#Create and refit best fit model\n",
        "RF = RandomForestClassifier(max_depth=30, n_estimators=15, random_state=11)\n",
        "\n",
        "RF.fit(X_train, y_train)\n",
        "\n",
        "#Feature importance\n",
        "print(RF.feature_importances_)\n",
        "\n",
        "#Visualize first 3 tress in the forest\n",
        "from sklearn.tree import export_graphviz\n",
        "import graphviz\n",
        "\n",
        "for i in range(3):\n",
        "    tree = RF.estimators_[i]\n",
        "    dot_data = export_graphviz(tree,\n",
        "                               feature_names=X_train.columns,\n",
        "                               filled=True,\n",
        "                               max_depth=2,\n",
        "                               impurity=False,\n",
        "                               proportion=True)\n",
        "    graph = graphviz.Source(dot_data)\n",
        "    display(graph)"
      ],
      "metadata": {
        "colab": {
          "base_uri": "https://localhost:8080/",
          "height": 1000
        },
        "id": "7Ky8H1KDmt3J",
        "outputId": "9062d89b-5935-4f45-9753-59cdbddb118c"
      },
      "execution_count": 6,
      "outputs": [
        {
          "output_type": "stream",
          "name": "stdout",
          "text": [
            "[0.06848166 0.07300413 0.23228552 0.13971143 0.2173605  0.06452767\n",
            " 0.06927313 0.13535596]\n"
          ]
        },
        {
          "output_type": "display_data",
          "data": {
            "image/svg+xml": "<?xml version=\"1.0\" encoding=\"UTF-8\" standalone=\"no\"?>\n<!DOCTYPE svg PUBLIC \"-//W3C//DTD SVG 1.1//EN\"\n \"http://www.w3.org/Graphics/SVG/1.1/DTD/svg11.dtd\">\n<!-- Generated by graphviz version 2.43.0 (0)\n -->\n<!-- Title: Tree Pages: 1 -->\n<svg width=\"881pt\" height=\"311pt\"\n viewBox=\"0.00 0.00 881.00 311.00\" xmlns=\"http://www.w3.org/2000/svg\" xmlns:xlink=\"http://www.w3.org/1999/xlink\">\n<g id=\"graph0\" class=\"graph\" transform=\"scale(1 1) rotate(0) translate(4 307)\">\n<title>Tree</title>\n<polygon fill=\"white\" stroke=\"transparent\" points=\"-4,4 -4,-307 877,-307 877,4 -4,4\"/>\n<!-- 0 -->\n<g id=\"node1\" class=\"node\">\n<title>0</title>\n<polygon fill=\"#fae7d9\" stroke=\"black\" points=\"577,-303 347,-303 347,-250 577,-250 577,-303\"/>\n<text text-anchor=\"middle\" x=\"462\" y=\"-287.8\" font-family=\"Helvetica,sans-Serif\" font-size=\"14.00\">O2 &lt;= 0.652</text>\n<text text-anchor=\"middle\" x=\"462\" y=\"-272.8\" font-family=\"Helvetica,sans-Serif\" font-size=\"14.00\">samples = 100.0%</text>\n<text text-anchor=\"middle\" x=\"462\" y=\"-257.8\" font-family=\"Helvetica,sans-Serif\" font-size=\"14.00\">value = [0.407, 0.265, 0.132, 0.196]</text>\n</g>\n<!-- 1 -->\n<g id=\"node2\" class=\"node\">\n<title>1</title>\n<polygon fill=\"#fbeee4\" stroke=\"black\" points=\"461,-214 231,-214 231,-161 461,-161 461,-214\"/>\n<text text-anchor=\"middle\" x=\"346\" y=\"-198.8\" font-family=\"Helvetica,sans-Serif\" font-size=\"14.00\">SO2 &lt;= 0.008</text>\n<text text-anchor=\"middle\" x=\"346\" y=\"-183.8\" font-family=\"Helvetica,sans-Serif\" font-size=\"14.00\">samples = 94.0%</text>\n<text text-anchor=\"middle\" x=\"346\" y=\"-168.8\" font-family=\"Helvetica,sans-Serif\" font-size=\"14.00\">value = [0.376, 0.275, 0.143, 0.206]</text>\n</g>\n<!-- 0&#45;&gt;1 -->\n<g id=\"edge1\" class=\"edge\">\n<title>0&#45;&gt;1</title>\n<path fill=\"none\" stroke=\"black\" d=\"M427.82,-249.87C415.54,-240.66 401.54,-230.15 388.63,-220.47\"/>\n<polygon fill=\"black\" stroke=\"black\" points=\"390.43,-217.45 380.33,-214.25 386.23,-223.05 390.43,-217.45\"/>\n<text text-anchor=\"middle\" x=\"383.87\" y=\"-235.3\" font-family=\"Helvetica,sans-Serif\" font-size=\"14.00\">True</text>\n</g>\n<!-- 112 -->\n<g id=\"node9\" class=\"node\">\n<title>112</title>\n<polygon fill=\"#eb9e67\" stroke=\"black\" points=\"679,-214 479,-214 479,-161 679,-161 679,-214\"/>\n<text text-anchor=\"middle\" x=\"579\" y=\"-198.8\" font-family=\"Helvetica,sans-Serif\" font-size=\"14.00\">SO2 &lt;= 0.001</text>\n<text text-anchor=\"middle\" x=\"579\" y=\"-183.8\" font-family=\"Helvetica,sans-Serif\" font-size=\"14.00\">samples = 6.0%</text>\n<text text-anchor=\"middle\" x=\"579\" y=\"-168.8\" font-family=\"Helvetica,sans-Serif\" font-size=\"14.00\">value = [0.8, 0.133, 0.0, 0.067]</text>\n</g>\n<!-- 0&#45;&gt;112 -->\n<g id=\"edge8\" class=\"edge\">\n<title>0&#45;&gt;112</title>\n<path fill=\"none\" stroke=\"black\" d=\"M496.47,-249.87C508.86,-240.66 522.98,-230.15 536,-220.47\"/>\n<polygon fill=\"black\" stroke=\"black\" points=\"538.43,-223.03 544.37,-214.25 534.26,-217.41 538.43,-223.03\"/>\n<text text-anchor=\"middle\" x=\"540.73\" y=\"-235.28\" font-family=\"Helvetica,sans-Serif\" font-size=\"14.00\">False</text>\n</g>\n<!-- 2 -->\n<g id=\"node3\" class=\"node\">\n<title>2</title>\n<polygon fill=\"#f9e1d0\" stroke=\"black\" points=\"222,-125 0,-125 0,-72 222,-72 222,-125\"/>\n<text text-anchor=\"middle\" x=\"111\" y=\"-109.8\" font-family=\"Helvetica,sans-Serif\" font-size=\"14.00\">H2O &lt;= 0.002</text>\n<text text-anchor=\"middle\" x=\"111\" y=\"-94.8\" font-family=\"Helvetica,sans-Serif\" font-size=\"14.00\">samples = 69.2%</text>\n<text text-anchor=\"middle\" x=\"111\" y=\"-79.8\" font-family=\"Helvetica,sans-Serif\" font-size=\"14.00\">value = [0.478, 0.316, 0.14, 0.066]</text>\n</g>\n<!-- 1&#45;&gt;2 -->\n<g id=\"edge2\" class=\"edge\">\n<title>1&#45;&gt;2</title>\n<path fill=\"none\" stroke=\"black\" d=\"M277.08,-160.98C249.58,-150.8 217.77,-139.03 189.4,-128.52\"/>\n<polygon fill=\"black\" stroke=\"black\" points=\"190.51,-125.2 179.92,-125.01 188.08,-131.77 190.51,-125.2\"/>\n</g>\n<!-- 81 -->\n<g id=\"node6\" class=\"node\">\n<title>81</title>\n<polygon fill=\"#eca0f3\" stroke=\"black\" points=\"462,-125 240,-125 240,-72 462,-72 462,-125\"/>\n<text text-anchor=\"middle\" x=\"351\" y=\"-109.8\" font-family=\"Helvetica,sans-Serif\" font-size=\"14.00\">H2O &lt;= 0.008</text>\n<text text-anchor=\"middle\" x=\"351\" y=\"-94.8\" font-family=\"Helvetica,sans-Serif\" font-size=\"14.00\">samples = 24.8%</text>\n<text text-anchor=\"middle\" x=\"351\" y=\"-79.8\" font-family=\"Helvetica,sans-Serif\" font-size=\"14.00\">value = [0.113, 0.17, 0.151, 0.566]</text>\n</g>\n<!-- 1&#45;&gt;81 -->\n<g id=\"edge5\" class=\"edge\">\n<title>1&#45;&gt;81</title>\n<path fill=\"none\" stroke=\"black\" d=\"M347.47,-160.87C347.93,-152.89 348.45,-143.93 348.94,-135.38\"/>\n<polygon fill=\"black\" stroke=\"black\" points=\"352.44,-135.43 349.52,-125.25 345.45,-135.03 352.44,-135.43\"/>\n</g>\n<!-- 3 -->\n<g id=\"node4\" class=\"node\">\n<title>3</title>\n<polygon fill=\"#c0c0c0\" stroke=\"black\" points=\"102,-36 48,-36 48,0 102,0 102,-36\"/>\n<text text-anchor=\"middle\" x=\"75\" y=\"-14.3\" font-family=\"Helvetica,sans-Serif\" font-size=\"14.00\">(...)</text>\n</g>\n<!-- 2&#45;&gt;3 -->\n<g id=\"edge3\" class=\"edge\">\n<title>2&#45;&gt;3</title>\n<path fill=\"none\" stroke=\"black\" d=\"M99.21,-71.8C95.34,-63.35 91.03,-53.95 87.13,-45.45\"/>\n<polygon fill=\"black\" stroke=\"black\" points=\"90.3,-43.96 82.95,-36.33 83.93,-46.88 90.3,-43.96\"/>\n</g>\n<!-- 16 -->\n<g id=\"node5\" class=\"node\">\n<title>16</title>\n<polygon fill=\"#c0c0c0\" stroke=\"black\" points=\"174,-36 120,-36 120,0 174,0 174,-36\"/>\n<text text-anchor=\"middle\" x=\"147\" y=\"-14.3\" font-family=\"Helvetica,sans-Serif\" font-size=\"14.00\">(...)</text>\n</g>\n<!-- 2&#45;&gt;16 -->\n<g id=\"edge4\" class=\"edge\">\n<title>2&#45;&gt;16</title>\n<path fill=\"none\" stroke=\"black\" d=\"M122.79,-71.8C126.66,-63.35 130.97,-53.95 134.87,-45.45\"/>\n<polygon fill=\"black\" stroke=\"black\" points=\"138.07,-46.88 139.05,-36.33 131.7,-43.96 138.07,-46.88\"/>\n</g>\n<!-- 82 -->\n<g id=\"node7\" class=\"node\">\n<title>82</title>\n<polygon fill=\"#c0c0c0\" stroke=\"black\" points=\"342,-36 288,-36 288,0 342,0 342,-36\"/>\n<text text-anchor=\"middle\" x=\"315\" y=\"-14.3\" font-family=\"Helvetica,sans-Serif\" font-size=\"14.00\">(...)</text>\n</g>\n<!-- 81&#45;&gt;82 -->\n<g id=\"edge6\" class=\"edge\">\n<title>81&#45;&gt;82</title>\n<path fill=\"none\" stroke=\"black\" d=\"M339.21,-71.8C335.34,-63.35 331.03,-53.95 327.13,-45.45\"/>\n<polygon fill=\"black\" stroke=\"black\" points=\"330.3,-43.96 322.95,-36.33 323.93,-46.88 330.3,-43.96\"/>\n</g>\n<!-- 103 -->\n<g id=\"node8\" class=\"node\">\n<title>103</title>\n<polygon fill=\"#c0c0c0\" stroke=\"black\" points=\"414,-36 360,-36 360,0 414,0 414,-36\"/>\n<text text-anchor=\"middle\" x=\"387\" y=\"-14.3\" font-family=\"Helvetica,sans-Serif\" font-size=\"14.00\">(...)</text>\n</g>\n<!-- 81&#45;&gt;103 -->\n<g id=\"edge7\" class=\"edge\">\n<title>81&#45;&gt;103</title>\n<path fill=\"none\" stroke=\"black\" d=\"M362.79,-71.8C366.66,-63.35 370.97,-53.95 374.87,-45.45\"/>\n<polygon fill=\"black\" stroke=\"black\" points=\"378.07,-46.88 379.05,-36.33 371.7,-43.96 378.07,-46.88\"/>\n</g>\n<!-- 113 -->\n<g id=\"node10\" class=\"node\">\n<title>113</title>\n<polygon fill=\"#e58139\" stroke=\"black\" points=\"655,-117.5 485,-117.5 485,-79.5 655,-79.5 655,-117.5\"/>\n<text text-anchor=\"middle\" x=\"570\" y=\"-102.3\" font-family=\"Helvetica,sans-Serif\" font-size=\"14.00\">samples = 4.5%</text>\n<text text-anchor=\"middle\" x=\"570\" y=\"-87.3\" font-family=\"Helvetica,sans-Serif\" font-size=\"14.00\">value = [1.0, 0.0, 0.0, 0.0]</text>\n</g>\n<!-- 112&#45;&gt;113 -->\n<g id=\"edge9\" class=\"edge\">\n<title>112&#45;&gt;113</title>\n<path fill=\"none\" stroke=\"black\" d=\"M576.35,-160.87C575.27,-150.42 574.01,-138.3 572.91,-127.61\"/>\n<polygon fill=\"black\" stroke=\"black\" points=\"576.37,-127.09 571.86,-117.51 569.41,-127.81 576.37,-127.09\"/>\n</g>\n<!-- 114 -->\n<g id=\"node11\" class=\"node\">\n<title>114</title>\n<polygon fill=\"#a3f29c\" stroke=\"black\" points=\"873,-125 673,-125 673,-72 873,-72 873,-125\"/>\n<text text-anchor=\"middle\" x=\"773\" y=\"-109.8\" font-family=\"Helvetica,sans-Serif\" font-size=\"14.00\">temp &lt;= 0.171</text>\n<text text-anchor=\"middle\" x=\"773\" y=\"-94.8\" font-family=\"Helvetica,sans-Serif\" font-size=\"14.00\">samples = 1.5%</text>\n<text text-anchor=\"middle\" x=\"773\" y=\"-79.8\" font-family=\"Helvetica,sans-Serif\" font-size=\"14.00\">value = [0.0, 0.667, 0.0, 0.333]</text>\n</g>\n<!-- 112&#45;&gt;114 -->\n<g id=\"edge10\" class=\"edge\">\n<title>112&#45;&gt;114</title>\n<path fill=\"none\" stroke=\"black\" d=\"M635.9,-160.98C658.1,-151.03 683.72,-139.54 706.75,-129.21\"/>\n<polygon fill=\"black\" stroke=\"black\" points=\"708.41,-132.3 716.11,-125.01 705.55,-125.91 708.41,-132.3\"/>\n</g>\n<!-- 115 -->\n<g id=\"node12\" class=\"node\">\n<title>115</title>\n<polygon fill=\"#c0c0c0\" stroke=\"black\" points=\"764,-36 710,-36 710,0 764,0 764,-36\"/>\n<text text-anchor=\"middle\" x=\"737\" y=\"-14.3\" font-family=\"Helvetica,sans-Serif\" font-size=\"14.00\">(...)</text>\n</g>\n<!-- 114&#45;&gt;115 -->\n<g id=\"edge11\" class=\"edge\">\n<title>114&#45;&gt;115</title>\n<path fill=\"none\" stroke=\"black\" d=\"M761.21,-71.8C757.34,-63.35 753.03,-53.95 749.13,-45.45\"/>\n<polygon fill=\"black\" stroke=\"black\" points=\"752.3,-43.96 744.95,-36.33 745.93,-46.88 752.3,-43.96\"/>\n</g>\n<!-- 116 -->\n<g id=\"node13\" class=\"node\">\n<title>116</title>\n<polygon fill=\"#c0c0c0\" stroke=\"black\" points=\"836,-36 782,-36 782,0 836,0 836,-36\"/>\n<text text-anchor=\"middle\" x=\"809\" y=\"-14.3\" font-family=\"Helvetica,sans-Serif\" font-size=\"14.00\">(...)</text>\n</g>\n<!-- 114&#45;&gt;116 -->\n<g id=\"edge12\" class=\"edge\">\n<title>114&#45;&gt;116</title>\n<path fill=\"none\" stroke=\"black\" d=\"M784.79,-71.8C788.66,-63.35 792.97,-53.95 796.87,-45.45\"/>\n<polygon fill=\"black\" stroke=\"black\" points=\"800.07,-46.88 801.05,-36.33 793.7,-43.96 800.07,-46.88\"/>\n</g>\n</g>\n</svg>\n",
            "text/plain": [
              "<graphviz.sources.Source at 0x7e1443293a00>"
            ]
          },
          "metadata": {}
        },
        {
          "output_type": "display_data",
          "data": {
            "image/svg+xml": "<?xml version=\"1.0\" encoding=\"UTF-8\" standalone=\"no\"?>\n<!DOCTYPE svg PUBLIC \"-//W3C//DTD SVG 1.1//EN\"\n \"http://www.w3.org/Graphics/SVG/1.1/DTD/svg11.dtd\">\n<!-- Generated by graphviz version 2.43.0 (0)\n -->\n<!-- Title: Tree Pages: 1 -->\n<svg width=\"911pt\" height=\"311pt\"\n viewBox=\"0.00 0.00 910.50 311.00\" xmlns=\"http://www.w3.org/2000/svg\" xmlns:xlink=\"http://www.w3.org/1999/xlink\">\n<g id=\"graph0\" class=\"graph\" transform=\"scale(1 1) rotate(0) translate(4 307)\">\n<title>Tree</title>\n<polygon fill=\"white\" stroke=\"transparent\" points=\"-4,4 -4,-307 906.5,-307 906.5,4 -4,4\"/>\n<!-- 0 -->\n<g id=\"node1\" class=\"node\">\n<title>0</title>\n<polygon fill=\"#fcefe5\" stroke=\"black\" points=\"547.5,-303 317.5,-303 317.5,-250 547.5,-250 547.5,-303\"/>\n<text text-anchor=\"middle\" x=\"432.5\" y=\"-287.8\" font-family=\"Helvetica,sans-Serif\" font-size=\"14.00\">H2O &lt;= 0.005</text>\n<text text-anchor=\"middle\" x=\"432.5\" y=\"-272.8\" font-family=\"Helvetica,sans-Serif\" font-size=\"14.00\">samples = 100.0%</text>\n<text text-anchor=\"middle\" x=\"432.5\" y=\"-257.8\" font-family=\"Helvetica,sans-Serif\" font-size=\"14.00\">value = [0.377, 0.284, 0.142, 0.196]</text>\n</g>\n<!-- 1 -->\n<g id=\"node2\" class=\"node\">\n<title>1</title>\n<polygon fill=\"#fdf4ed\" stroke=\"black\" points=\"420,-214 205,-214 205,-161 420,-161 420,-214\"/>\n<text text-anchor=\"middle\" x=\"312.5\" y=\"-198.8\" font-family=\"Helvetica,sans-Serif\" font-size=\"14.00\">SO2 &lt;= 0.08</text>\n<text text-anchor=\"middle\" x=\"312.5\" y=\"-183.8\" font-family=\"Helvetica,sans-Serif\" font-size=\"14.00\">samples = 40.5%</text>\n<text text-anchor=\"middle\" x=\"312.5\" y=\"-168.8\" font-family=\"Helvetica,sans-Serif\" font-size=\"14.00\">value = [0.433, 0.378, 0.089, 0.1]</text>\n</g>\n<!-- 0&#45;&gt;1 -->\n<g id=\"edge1\" class=\"edge\">\n<title>0&#45;&gt;1</title>\n<path fill=\"none\" stroke=\"black\" d=\"M397.15,-249.87C384.32,-240.57 369.68,-229.95 356.22,-220.2\"/>\n<polygon fill=\"black\" stroke=\"black\" points=\"358.17,-217.29 348.02,-214.25 354.06,-222.95 358.17,-217.29\"/>\n<text text-anchor=\"middle\" x=\"351.95\" y=\"-235.24\" font-family=\"Helvetica,sans-Serif\" font-size=\"14.00\">True</text>\n</g>\n<!-- 52 -->\n<g id=\"node9\" class=\"node\">\n<title>52</title>\n<polygon fill=\"#fdf4ee\" stroke=\"black\" points=\"668.5,-214 438.5,-214 438.5,-161 668.5,-161 668.5,-214\"/>\n<text text-anchor=\"middle\" x=\"553.5\" y=\"-198.8\" font-family=\"Helvetica,sans-Serif\" font-size=\"14.00\">H2S &lt;= 0.013</text>\n<text text-anchor=\"middle\" x=\"553.5\" y=\"-183.8\" font-family=\"Helvetica,sans-Serif\" font-size=\"14.00\">samples = 59.5%</text>\n<text text-anchor=\"middle\" x=\"553.5\" y=\"-168.8\" font-family=\"Helvetica,sans-Serif\" font-size=\"14.00\">value = [0.333, 0.211, 0.184, 0.272]</text>\n</g>\n<!-- 0&#45;&gt;52 -->\n<g id=\"edge8\" class=\"edge\">\n<title>0&#45;&gt;52</title>\n<path fill=\"none\" stroke=\"black\" d=\"M468.15,-249.87C481.08,-240.57 495.85,-229.95 509.42,-220.2\"/>\n<polygon fill=\"black\" stroke=\"black\" points=\"511.61,-222.93 517.69,-214.25 507.52,-217.25 511.61,-222.93\"/>\n<text text-anchor=\"middle\" x=\"513.65\" y=\"-235.22\" font-family=\"Helvetica,sans-Serif\" font-size=\"14.00\">False</text>\n</g>\n<!-- 2 -->\n<g id=\"node3\" class=\"node\">\n<title>2</title>\n<polygon fill=\"#fcf3ec\" stroke=\"black\" points=\"215,-125 0,-125 0,-72 215,-72 215,-125\"/>\n<text text-anchor=\"middle\" x=\"107.5\" y=\"-109.8\" font-family=\"Helvetica,sans-Serif\" font-size=\"14.00\">H2O &lt;= 0.001</text>\n<text text-anchor=\"middle\" x=\"107.5\" y=\"-94.8\" font-family=\"Helvetica,sans-Serif\" font-size=\"14.00\">samples = 38.1%</text>\n<text text-anchor=\"middle\" x=\"107.5\" y=\"-79.8\" font-family=\"Helvetica,sans-Serif\" font-size=\"14.00\">value = [0.459, 0.4, 0.047, 0.094]</text>\n</g>\n<!-- 1&#45;&gt;2 -->\n<g id=\"edge2\" class=\"edge\">\n<title>1&#45;&gt;2</title>\n<path fill=\"none\" stroke=\"black\" d=\"M252.38,-160.98C228.7,-150.94 201.37,-139.34 176.86,-128.94\"/>\n<polygon fill=\"black\" stroke=\"black\" points=\"178.19,-125.7 167.62,-125.01 175.46,-132.14 178.19,-125.7\"/>\n</g>\n<!-- 47 -->\n<g id=\"node6\" class=\"node\">\n<title>47</title>\n<polygon fill=\"#6ab6ec\" stroke=\"black\" points=\"403.5,-125 233.5,-125 233.5,-72 403.5,-72 403.5,-125\"/>\n<text text-anchor=\"middle\" x=\"318.5\" y=\"-109.8\" font-family=\"Helvetica,sans-Serif\" font-size=\"14.00\">press &lt;= 0.172</text>\n<text text-anchor=\"middle\" x=\"318.5\" y=\"-94.8\" font-family=\"Helvetica,sans-Serif\" font-size=\"14.00\">samples = 2.4%</text>\n<text text-anchor=\"middle\" x=\"318.5\" y=\"-79.8\" font-family=\"Helvetica,sans-Serif\" font-size=\"14.00\">value = [0.0, 0.0, 0.8, 0.2]</text>\n</g>\n<!-- 1&#45;&gt;47 -->\n<g id=\"edge5\" class=\"edge\">\n<title>1&#45;&gt;47</title>\n<path fill=\"none\" stroke=\"black\" d=\"M314.27,-160.87C314.82,-152.89 315.44,-143.93 316.03,-135.38\"/>\n<polygon fill=\"black\" stroke=\"black\" points=\"319.53,-135.47 316.72,-125.25 312.54,-134.99 319.53,-135.47\"/>\n</g>\n<!-- 3 -->\n<g id=\"node4\" class=\"node\">\n<title>3</title>\n<polygon fill=\"#c0c0c0\" stroke=\"black\" points=\"98.5,-36 44.5,-36 44.5,0 98.5,0 98.5,-36\"/>\n<text text-anchor=\"middle\" x=\"71.5\" y=\"-14.3\" font-family=\"Helvetica,sans-Serif\" font-size=\"14.00\">(...)</text>\n</g>\n<!-- 2&#45;&gt;3 -->\n<g id=\"edge3\" class=\"edge\">\n<title>2&#45;&gt;3</title>\n<path fill=\"none\" stroke=\"black\" d=\"M95.71,-71.8C91.84,-63.35 87.53,-53.95 83.63,-45.45\"/>\n<polygon fill=\"black\" stroke=\"black\" points=\"86.8,-43.96 79.45,-36.33 80.43,-46.88 86.8,-43.96\"/>\n</g>\n<!-- 4 -->\n<g id=\"node5\" class=\"node\">\n<title>4</title>\n<polygon fill=\"#c0c0c0\" stroke=\"black\" points=\"170.5,-36 116.5,-36 116.5,0 170.5,0 170.5,-36\"/>\n<text text-anchor=\"middle\" x=\"143.5\" y=\"-14.3\" font-family=\"Helvetica,sans-Serif\" font-size=\"14.00\">(...)</text>\n</g>\n<!-- 2&#45;&gt;4 -->\n<g id=\"edge4\" class=\"edge\">\n<title>2&#45;&gt;4</title>\n<path fill=\"none\" stroke=\"black\" d=\"M119.29,-71.8C123.16,-63.35 127.47,-53.95 131.37,-45.45\"/>\n<polygon fill=\"black\" stroke=\"black\" points=\"134.57,-46.88 135.55,-36.33 128.2,-43.96 134.57,-46.88\"/>\n</g>\n<!-- 48 -->\n<g id=\"node7\" class=\"node\">\n<title>48</title>\n<polygon fill=\"#c0c0c0\" stroke=\"black\" points=\"309.5,-36 255.5,-36 255.5,0 309.5,0 309.5,-36\"/>\n<text text-anchor=\"middle\" x=\"282.5\" y=\"-14.3\" font-family=\"Helvetica,sans-Serif\" font-size=\"14.00\">(...)</text>\n</g>\n<!-- 47&#45;&gt;48 -->\n<g id=\"edge6\" class=\"edge\">\n<title>47&#45;&gt;48</title>\n<path fill=\"none\" stroke=\"black\" d=\"M306.71,-71.8C302.84,-63.35 298.53,-53.95 294.63,-45.45\"/>\n<polygon fill=\"black\" stroke=\"black\" points=\"297.8,-43.96 290.45,-36.33 291.43,-46.88 297.8,-43.96\"/>\n</g>\n<!-- 51 -->\n<g id=\"node8\" class=\"node\">\n<title>51</title>\n<polygon fill=\"#c0c0c0\" stroke=\"black\" points=\"381.5,-36 327.5,-36 327.5,0 381.5,0 381.5,-36\"/>\n<text text-anchor=\"middle\" x=\"354.5\" y=\"-14.3\" font-family=\"Helvetica,sans-Serif\" font-size=\"14.00\">(...)</text>\n</g>\n<!-- 47&#45;&gt;51 -->\n<g id=\"edge7\" class=\"edge\">\n<title>47&#45;&gt;51</title>\n<path fill=\"none\" stroke=\"black\" d=\"M330.29,-71.8C334.16,-63.35 338.47,-53.95 342.37,-45.45\"/>\n<polygon fill=\"black\" stroke=\"black\" points=\"345.57,-46.88 346.55,-36.33 339.2,-43.96 345.57,-46.88\"/>\n</g>\n<!-- 53 -->\n<g id=\"node10\" class=\"node\">\n<title>53</title>\n<polygon fill=\"#fae5d7\" stroke=\"black\" points=\"662.5,-125 432.5,-125 432.5,-72 662.5,-72 662.5,-125\"/>\n<text text-anchor=\"middle\" x=\"547.5\" y=\"-109.8\" font-family=\"Helvetica,sans-Serif\" font-size=\"14.00\">SO2 &lt;= 0.001</text>\n<text text-anchor=\"middle\" x=\"547.5\" y=\"-94.8\" font-family=\"Helvetica,sans-Serif\" font-size=\"14.00\">samples = 45.2%</text>\n<text text-anchor=\"middle\" x=\"547.5\" y=\"-79.8\" font-family=\"Helvetica,sans-Serif\" font-size=\"14.00\">value = [0.414, 0.195, 0.126, 0.264]</text>\n</g>\n<!-- 52&#45;&gt;53 -->\n<g id=\"edge9\" class=\"edge\">\n<title>52&#45;&gt;53</title>\n<path fill=\"none\" stroke=\"black\" d=\"M551.73,-160.87C551.18,-152.89 550.56,-143.93 549.97,-135.38\"/>\n<polygon fill=\"black\" stroke=\"black\" points=\"553.46,-134.99 549.28,-125.25 546.47,-135.47 553.46,-134.99\"/>\n</g>\n<!-- 112 -->\n<g id=\"node13\" class=\"node\">\n<title>112</title>\n<polygon fill=\"#eaf5fc\" stroke=\"black\" points=\"902.5,-125 680.5,-125 680.5,-72 902.5,-72 902.5,-125\"/>\n<text text-anchor=\"middle\" x=\"791.5\" y=\"-109.8\" font-family=\"Helvetica,sans-Serif\" font-size=\"14.00\">O2 &lt;= 0.011</text>\n<text text-anchor=\"middle\" x=\"791.5\" y=\"-94.8\" font-family=\"Helvetica,sans-Serif\" font-size=\"14.00\">samples = 14.3%</text>\n<text text-anchor=\"middle\" x=\"791.5\" y=\"-79.8\" font-family=\"Helvetica,sans-Serif\" font-size=\"14.00\">value = [0.074, 0.259, 0.37, 0.296]</text>\n</g>\n<!-- 52&#45;&gt;112 -->\n<g id=\"edge12\" class=\"edge\">\n<title>52&#45;&gt;112</title>\n<path fill=\"none\" stroke=\"black\" d=\"M623.3,-160.98C651.15,-150.8 683.36,-139.03 712.1,-128.52\"/>\n<polygon fill=\"black\" stroke=\"black\" points=\"713.51,-131.74 721.7,-125.01 711.11,-125.16 713.51,-131.74\"/>\n</g>\n<!-- 54 -->\n<g id=\"node11\" class=\"node\">\n<title>54</title>\n<polygon fill=\"#c0c0c0\" stroke=\"black\" points=\"538.5,-36 484.5,-36 484.5,0 538.5,0 538.5,-36\"/>\n<text text-anchor=\"middle\" x=\"511.5\" y=\"-14.3\" font-family=\"Helvetica,sans-Serif\" font-size=\"14.00\">(...)</text>\n</g>\n<!-- 53&#45;&gt;54 -->\n<g id=\"edge10\" class=\"edge\">\n<title>53&#45;&gt;54</title>\n<path fill=\"none\" stroke=\"black\" d=\"M535.71,-71.8C531.84,-63.35 527.53,-53.95 523.63,-45.45\"/>\n<polygon fill=\"black\" stroke=\"black\" points=\"526.8,-43.96 519.45,-36.33 520.43,-46.88 526.8,-43.96\"/>\n</g>\n<!-- 91 -->\n<g id=\"node12\" class=\"node\">\n<title>91</title>\n<polygon fill=\"#c0c0c0\" stroke=\"black\" points=\"610.5,-36 556.5,-36 556.5,0 610.5,0 610.5,-36\"/>\n<text text-anchor=\"middle\" x=\"583.5\" y=\"-14.3\" font-family=\"Helvetica,sans-Serif\" font-size=\"14.00\">(...)</text>\n</g>\n<!-- 53&#45;&gt;91 -->\n<g id=\"edge11\" class=\"edge\">\n<title>53&#45;&gt;91</title>\n<path fill=\"none\" stroke=\"black\" d=\"M559.29,-71.8C563.16,-63.35 567.47,-53.95 571.37,-45.45\"/>\n<polygon fill=\"black\" stroke=\"black\" points=\"574.57,-46.88 575.55,-36.33 568.2,-43.96 574.57,-46.88\"/>\n</g>\n<!-- 113 -->\n<g id=\"node14\" class=\"node\">\n<title>113</title>\n<polygon fill=\"#c0c0c0\" stroke=\"black\" points=\"782.5,-36 728.5,-36 728.5,0 782.5,0 782.5,-36\"/>\n<text text-anchor=\"middle\" x=\"755.5\" y=\"-14.3\" font-family=\"Helvetica,sans-Serif\" font-size=\"14.00\">(...)</text>\n</g>\n<!-- 112&#45;&gt;113 -->\n<g id=\"edge13\" class=\"edge\">\n<title>112&#45;&gt;113</title>\n<path fill=\"none\" stroke=\"black\" d=\"M779.71,-71.8C775.84,-63.35 771.53,-53.95 767.63,-45.45\"/>\n<polygon fill=\"black\" stroke=\"black\" points=\"770.8,-43.96 763.45,-36.33 764.43,-46.88 770.8,-43.96\"/>\n</g>\n<!-- 126 -->\n<g id=\"node15\" class=\"node\">\n<title>126</title>\n<polygon fill=\"#c0c0c0\" stroke=\"black\" points=\"854.5,-36 800.5,-36 800.5,0 854.5,0 854.5,-36\"/>\n<text text-anchor=\"middle\" x=\"827.5\" y=\"-14.3\" font-family=\"Helvetica,sans-Serif\" font-size=\"14.00\">(...)</text>\n</g>\n<!-- 112&#45;&gt;126 -->\n<g id=\"edge14\" class=\"edge\">\n<title>112&#45;&gt;126</title>\n<path fill=\"none\" stroke=\"black\" d=\"M803.29,-71.8C807.16,-63.35 811.47,-53.95 815.37,-45.45\"/>\n<polygon fill=\"black\" stroke=\"black\" points=\"818.57,-46.88 819.55,-36.33 812.2,-43.96 818.57,-46.88\"/>\n</g>\n</g>\n</svg>\n",
            "text/plain": [
              "<graphviz.sources.Source at 0x7e1441169f60>"
            ]
          },
          "metadata": {}
        },
        {
          "output_type": "display_data",
          "data": {
            "image/svg+xml": "<?xml version=\"1.0\" encoding=\"UTF-8\" standalone=\"no\"?>\n<!DOCTYPE svg PUBLIC \"-//W3C//DTD SVG 1.1//EN\"\n \"http://www.w3.org/Graphics/SVG/1.1/DTD/svg11.dtd\">\n<!-- Generated by graphviz version 2.43.0 (0)\n -->\n<!-- Title: Tree Pages: 1 -->\n<svg width=\"550pt\" height=\"311pt\"\n viewBox=\"0.00 0.00 550.00 311.00\" xmlns=\"http://www.w3.org/2000/svg\" xmlns:xlink=\"http://www.w3.org/1999/xlink\">\n<g id=\"graph0\" class=\"graph\" transform=\"scale(1 1) rotate(0) translate(4 307)\">\n<title>Tree</title>\n<polygon fill=\"white\" stroke=\"transparent\" points=\"-4,4 -4,-307 546,-307 546,4 -4,4\"/>\n<!-- 0 -->\n<g id=\"node1\" class=\"node\">\n<title>0</title>\n<polygon fill=\"#f9e2d2\" stroke=\"black\" points=\"463,-303 233,-303 233,-250 463,-250 463,-303\"/>\n<text text-anchor=\"middle\" x=\"348\" y=\"-287.8\" font-family=\"Helvetica,sans-Serif\" font-size=\"14.00\">NO2 &lt;= 0.35</text>\n<text text-anchor=\"middle\" x=\"348\" y=\"-272.8\" font-family=\"Helvetica,sans-Serif\" font-size=\"14.00\">samples = 100.0%</text>\n<text text-anchor=\"middle\" x=\"348\" y=\"-257.8\" font-family=\"Helvetica,sans-Serif\" font-size=\"14.00\">value = [0.397, 0.221, 0.167, 0.216]</text>\n</g>\n<!-- 1 -->\n<g id=\"node2\" class=\"node\">\n<title>1</title>\n<polygon fill=\"#f9e1d0\" stroke=\"black\" points=\"354,-214 124,-214 124,-161 354,-161 354,-214\"/>\n<text text-anchor=\"middle\" x=\"239\" y=\"-198.8\" font-family=\"Helvetica,sans-Serif\" font-size=\"14.00\">time &lt;= 0.323</text>\n<text text-anchor=\"middle\" x=\"239\" y=\"-183.8\" font-family=\"Helvetica,sans-Serif\" font-size=\"14.00\">samples = 96.1%</text>\n<text text-anchor=\"middle\" x=\"239\" y=\"-168.8\" font-family=\"Helvetica,sans-Serif\" font-size=\"14.00\">value = [0.411, 0.228, 0.173, 0.188]</text>\n</g>\n<!-- 0&#45;&gt;1 -->\n<g id=\"edge1\" class=\"edge\">\n<title>0&#45;&gt;1</title>\n<path fill=\"none\" stroke=\"black\" d=\"M315.89,-249.87C304.46,-240.75 291.44,-230.35 279.4,-220.75\"/>\n<polygon fill=\"black\" stroke=\"black\" points=\"281.26,-217.75 271.26,-214.25 276.89,-223.22 281.26,-217.75\"/>\n<text text-anchor=\"middle\" x=\"274.05\" y=\"-235.39\" font-family=\"Helvetica,sans-Serif\" font-size=\"14.00\">True</text>\n</g>\n<!-- 126 -->\n<g id=\"node9\" class=\"node\">\n<title>126</title>\n<polygon fill=\"#d739e5\" stroke=\"black\" points=\"542,-206.5 372,-206.5 372,-168.5 542,-168.5 542,-206.5\"/>\n<text text-anchor=\"middle\" x=\"457\" y=\"-191.3\" font-family=\"Helvetica,sans-Serif\" font-size=\"14.00\">samples = 3.9%</text>\n<text text-anchor=\"middle\" x=\"457\" y=\"-176.3\" font-family=\"Helvetica,sans-Serif\" font-size=\"14.00\">value = [0.0, 0.0, 0.0, 1.0]</text>\n</g>\n<!-- 0&#45;&gt;126 -->\n<g id=\"edge8\" class=\"edge\">\n<title>0&#45;&gt;126</title>\n<path fill=\"none\" stroke=\"black\" d=\"M380.11,-249.87C394.71,-238.22 411.89,-224.5 426.31,-212.99\"/>\n<polygon fill=\"black\" stroke=\"black\" points=\"428.81,-215.48 434.44,-206.51 424.44,-210.01 428.81,-215.48\"/>\n<text text-anchor=\"middle\" x=\"431.65\" y=\"-227.65\" font-family=\"Helvetica,sans-Serif\" font-size=\"14.00\">False</text>\n</g>\n<!-- 2 -->\n<g id=\"node3\" class=\"node\">\n<title>2</title>\n<polygon fill=\"#fbece1\" stroke=\"black\" points=\"230,-125 0,-125 0,-72 230,-72 230,-125\"/>\n<text text-anchor=\"middle\" x=\"115\" y=\"-109.8\" font-family=\"Helvetica,sans-Serif\" font-size=\"14.00\">NO2 &lt;= 0.196</text>\n<text text-anchor=\"middle\" x=\"115\" y=\"-94.8\" font-family=\"Helvetica,sans-Serif\" font-size=\"14.00\">samples = 76.4%</text>\n<text text-anchor=\"middle\" x=\"115\" y=\"-79.8\" font-family=\"Helvetica,sans-Serif\" font-size=\"14.00\">value = [0.346, 0.216, 0.209, 0.229]</text>\n</g>\n<!-- 1&#45;&gt;2 -->\n<g id=\"edge2\" class=\"edge\">\n<title>1&#45;&gt;2</title>\n<path fill=\"none\" stroke=\"black\" d=\"M202.47,-160.87C189.21,-151.57 174.08,-140.95 160.18,-131.2\"/>\n<polygon fill=\"black\" stroke=\"black\" points=\"161.9,-128.13 151.7,-125.25 157.88,-133.86 161.9,-128.13\"/>\n</g>\n<!-- 111 -->\n<g id=\"node6\" class=\"node\">\n<title>111</title>\n<polygon fill=\"#f2c09c\" stroke=\"black\" points=\"478,-125 248,-125 248,-72 478,-72 478,-125\"/>\n<text text-anchor=\"middle\" x=\"363\" y=\"-109.8\" font-family=\"Helvetica,sans-Serif\" font-size=\"14.00\">H2O &lt;= 0.115</text>\n<text text-anchor=\"middle\" x=\"363\" y=\"-94.8\" font-family=\"Helvetica,sans-Serif\" font-size=\"14.00\">samples = 19.7%</text>\n<text text-anchor=\"middle\" x=\"363\" y=\"-79.8\" font-family=\"Helvetica,sans-Serif\" font-size=\"14.00\">value = [0.636, 0.273, 0.045, 0.045]</text>\n</g>\n<!-- 1&#45;&gt;111 -->\n<g id=\"edge5\" class=\"edge\">\n<title>1&#45;&gt;111</title>\n<path fill=\"none\" stroke=\"black\" d=\"M275.53,-160.87C288.79,-151.57 303.92,-140.95 317.82,-131.2\"/>\n<polygon fill=\"black\" stroke=\"black\" points=\"320.12,-133.86 326.3,-125.25 316.1,-128.13 320.12,-133.86\"/>\n</g>\n<!-- 3 -->\n<g id=\"node4\" class=\"node\">\n<title>3</title>\n<polygon fill=\"#c0c0c0\" stroke=\"black\" points=\"106,-36 52,-36 52,0 106,0 106,-36\"/>\n<text text-anchor=\"middle\" x=\"79\" y=\"-14.3\" font-family=\"Helvetica,sans-Serif\" font-size=\"14.00\">(...)</text>\n</g>\n<!-- 2&#45;&gt;3 -->\n<g id=\"edge3\" class=\"edge\">\n<title>2&#45;&gt;3</title>\n<path fill=\"none\" stroke=\"black\" d=\"M103.21,-71.8C99.34,-63.35 95.03,-53.95 91.13,-45.45\"/>\n<polygon fill=\"black\" stroke=\"black\" points=\"94.3,-43.96 86.95,-36.33 87.93,-46.88 94.3,-43.96\"/>\n</g>\n<!-- 110 -->\n<g id=\"node5\" class=\"node\">\n<title>110</title>\n<polygon fill=\"#c0c0c0\" stroke=\"black\" points=\"178,-36 124,-36 124,0 178,0 178,-36\"/>\n<text text-anchor=\"middle\" x=\"151\" y=\"-14.3\" font-family=\"Helvetica,sans-Serif\" font-size=\"14.00\">(...)</text>\n</g>\n<!-- 2&#45;&gt;110 -->\n<g id=\"edge4\" class=\"edge\">\n<title>2&#45;&gt;110</title>\n<path fill=\"none\" stroke=\"black\" d=\"M126.79,-71.8C130.66,-63.35 134.97,-53.95 138.87,-45.45\"/>\n<polygon fill=\"black\" stroke=\"black\" points=\"142.07,-46.88 143.05,-36.33 135.7,-43.96 142.07,-46.88\"/>\n</g>\n<!-- 112 -->\n<g id=\"node7\" class=\"node\">\n<title>112</title>\n<polygon fill=\"#c0c0c0\" stroke=\"black\" points=\"354,-36 300,-36 300,0 354,0 354,-36\"/>\n<text text-anchor=\"middle\" x=\"327\" y=\"-14.3\" font-family=\"Helvetica,sans-Serif\" font-size=\"14.00\">(...)</text>\n</g>\n<!-- 111&#45;&gt;112 -->\n<g id=\"edge6\" class=\"edge\">\n<title>111&#45;&gt;112</title>\n<path fill=\"none\" stroke=\"black\" d=\"M351.21,-71.8C347.34,-63.35 343.03,-53.95 339.13,-45.45\"/>\n<polygon fill=\"black\" stroke=\"black\" points=\"342.3,-43.96 334.95,-36.33 335.93,-46.88 342.3,-43.96\"/>\n</g>\n<!-- 121 -->\n<g id=\"node8\" class=\"node\">\n<title>121</title>\n<polygon fill=\"#c0c0c0\" stroke=\"black\" points=\"426,-36 372,-36 372,0 426,0 426,-36\"/>\n<text text-anchor=\"middle\" x=\"399\" y=\"-14.3\" font-family=\"Helvetica,sans-Serif\" font-size=\"14.00\">(...)</text>\n</g>\n<!-- 111&#45;&gt;121 -->\n<g id=\"edge7\" class=\"edge\">\n<title>111&#45;&gt;121</title>\n<path fill=\"none\" stroke=\"black\" d=\"M374.79,-71.8C378.66,-63.35 382.97,-53.95 386.87,-45.45\"/>\n<polygon fill=\"black\" stroke=\"black\" points=\"390.07,-46.88 391.05,-36.33 383.7,-43.96 390.07,-46.88\"/>\n</g>\n</g>\n</svg>\n",
            "text/plain": [
              "<graphviz.sources.Source at 0x7e1441169780>"
            ]
          },
          "metadata": {}
        }
      ]
    },
    {
      "cell_type": "markdown",
      "source": [
        "##K-Nearest Neighbors Model##"
      ],
      "metadata": {
        "id": "_m130tNWmgTs"
      }
    },
    {
      "cell_type": "markdown",
      "source": [
        "**Initial Model Creation**"
      ],
      "metadata": {
        "id": "FuO6bVhLmj4O"
      }
    },
    {
      "cell_type": "code",
      "source": [
        "# Create and train KNN model\n",
        "KNN_model = KNeighborsClassifier()\n",
        "\n",
        "KNN_model.fit(X_train, y_train)\n",
        "\n",
        "# Test model against trainind and test set\n",
        "KNN_pred_train = KNN_model.predict(X_train)\n",
        "KNN_pred_test = KNN_model.predict(X_test)\n",
        "\n",
        "#Errors for training and testing of model to check for overfitting\n",
        "MSE_train = mean_squared_error(y_train, KNN_pred_train)\n",
        "r2_train = r2_score(y_train, KNN_pred_train)\n",
        "print('MSE train = ', MSE_train)\n",
        "print(\"R-squared score for training is \", r2_train)\n",
        "\n",
        "MSE_test = mean_squared_error(y_test, KNN_pred_test)\n",
        "r2_test = r2_score(y_test, KNN_pred_test)\n",
        "print('MSE test = ', MSE_test)\n",
        "print(\"R-squared score for testing is \", r2_test)"
      ],
      "metadata": {
        "colab": {
          "base_uri": "https://localhost:8080/"
        },
        "id": "PeKxJdtUmnS1",
        "outputId": "b5213e2a-84b1-4748-c35f-0df42d0deaf3"
      },
      "execution_count": 7,
      "outputs": [
        {
          "output_type": "stream",
          "name": "stdout",
          "text": [
            "MSE train =  0.8480392156862745\n",
            "R-squared score for training is  0.364749082007344\n",
            "MSE test =  1.0784313725490196\n",
            "R-squared score for testing is  0.2755681818181821\n"
          ]
        }
      ]
    },
    {
      "cell_type": "markdown",
      "source": [
        "**Hyperparameter Optimization**"
      ],
      "metadata": {
        "id": "r0B4LuI2mxpl"
      }
    },
    {
      "cell_type": "code",
      "source": [
        "# Create parameter ranges\n",
        "KNN_param = {'n_neighbors' : [3,4,5,6,7,8,9,10,11,12,13,14,15,16,17,18,19,20,21,22,23,24,25],\n",
        "             'weights' : ['uniform', 'distance'],\n",
        "             'algorithm': ['auto', 'ball_tree', 'kd_tree', 'brute'],\n",
        "             'metric' : ['minkowski','euclidean','manhattan']\n",
        "             }\n",
        "\n",
        "# Tune KNN algorithim to find best\n",
        "KNN_opt = GridSearchCV(KNeighborsClassifier(), KNN_param, verbose = 1, cv=3, n_jobs = -1)\n",
        "\n",
        "# Tune best fit model\n",
        "KNN_best = KNN_opt.fit(X_train, y_train)\n",
        "\n",
        "# Print best hyperparameters\n",
        "print('Best hyperparameters: ', KNN_opt.best_estimator_)\n",
        "\n",
        "# Test model against training and test set\n",
        "KNN_best_train = KNN_best.predict(X_train)\n",
        "KNN_best_test = KNN_best.predict(X_test)\n",
        "\n",
        "# Errors for training and testing of model to check for overfitting\n",
        "KNN_best_MSE_train = mean_squared_error(y_train, KNN_best_train)\n",
        "KNN_best_r2_train = r2_score(y_train, KNN_best_train)\n",
        "print('MSE train = ', KNN_best_MSE_train)\n",
        "print(\"R-squared score for training is \", KNN_best_r2_train)\n",
        "\n",
        "KNN_best_MSE_test = mean_squared_error(y_test, KNN_best_test)\n",
        "KNN_best_r2_test = r2_score(y_test, KNN_best_test)\n",
        "print('MSE test = ', KNN_best_MSE_test)\n",
        "print('R-squared score for test is ', KNN_best_r2_test)\n",
        "\n",
        "KNN_accurate = accuracy_score(y_test, KNN_best_test)\n",
        "print('Model accuracy: ', KNN_accurate)\n",
        "\n",
        "print(X_test, y_test, KNN_best_test)"
      ],
      "metadata": {
        "colab": {
          "base_uri": "https://localhost:8080/"
        },
        "id": "SwMyIbTdmz4e",
        "outputId": "fc233b59-b2a9-47cd-856f-d7e2471b5e89"
      },
      "execution_count": 8,
      "outputs": [
        {
          "output_type": "stream",
          "name": "stdout",
          "text": [
            "Fitting 3 folds for each of 552 candidates, totalling 1656 fits\n",
            "Best hyperparameters:  KNeighborsClassifier(n_neighbors=3, weights='distance')\n",
            "MSE train =  0.06862745098039216\n",
            "R-squared score for training is  0.9485924112607099\n",
            "MSE test =  0.9215686274509803\n",
            "R-squared score for test is  0.3809400826446283\n",
            "Model accuracy:  0.6078431372549019\n",
            "         temp     press       H2O        O2      SO2    NO2   H2S      time\n",
            "137  0.142857  0.196078  0.001700  0.021277  0.40000  0.000  0.00  0.078451\n",
            "144  0.142857  0.196078  0.003201  0.023404  0.40000  0.000  0.00  0.014896\n",
            "26   0.000000  0.196078  0.001025  0.000000  0.00000  0.191  0.00  0.316783\n",
            "174  0.114286  0.098039  0.227120  0.664894  0.00000  0.000  0.00  0.330023\n",
            "198  0.057143  0.000000  0.227118  0.000000  0.00000  0.000  0.00  0.078451\n",
            "170  0.114286  0.047059  0.227120  0.000000  0.00000  0.000  0.00  0.330023\n",
            "217  0.114286  0.196078  0.227118  0.000000  0.00000  0.000  0.00  0.078451\n",
            "135  0.142857  0.196078  0.000000  0.021277  0.40000  0.000  0.00  0.078451\n",
            "214  0.142857  0.196078  0.004801  0.004255  0.00400  0.000  0.10  0.046673\n",
            "83   0.200000  0.294118  0.000050  1.000000  0.00140  0.000  0.00  0.110228\n",
            "22   0.000000  0.196078  0.001025  0.000000  0.00276  0.191  0.00  0.110228\n",
            "143  0.142857  0.196078  0.003201  0.023404  0.40000  0.000  0.00  0.126117\n",
            "139  0.142857  0.196078  0.001075  0.021277  0.40000  0.000  0.00  0.078451\n",
            "39   0.057143  0.000000  0.006801  0.000000  0.00000  0.000  0.00  0.030785\n",
            "173  0.114286  0.029412  0.227120  0.702128  0.00000  0.000  0.00  0.330023\n",
            "203  0.114286  0.000000  0.227118  0.000000  0.00000  0.000  0.00  0.078451\n",
            "163  0.142857  0.000000  0.004801  0.021277  0.06000  0.000  0.00  0.046673\n",
            "180  0.114286  0.047059  0.227120  0.000000  0.00000  0.000  0.00  0.330023\n",
            "36   0.314286  0.539216  0.124825  0.000000  0.00000  0.000  0.00  0.062562\n",
            "224  0.114286  0.196078  0.002210  0.000000  0.00000  0.000  0.05  0.078451\n",
            "99   0.142857  0.196078  0.008127  0.000000  0.00000  0.000  0.00  0.014896\n",
            "238  0.057143  0.000000  0.002073  0.010638  0.01000  0.500  0.00  0.046673\n",
            "134  0.142857  0.196078  0.003201  0.021277  0.40000  0.000  0.00  0.078451\n",
            "3    0.142857  0.196078  0.001050  0.010638  0.00000  0.000  0.00  0.110228\n",
            "215  0.142857  0.196078  0.010635  0.004255  0.00000  0.000  0.10  0.046673\n",
            "52   0.057143  0.000000  0.002801  0.000426  0.00200  0.000  0.00  0.030785\n",
            "229  1.000000  0.196078  0.027715  0.000000  0.00000  0.000  0.05  0.078451\n",
            "175  0.114286  0.098039  0.227120  0.664894  0.00000  0.000  0.00  0.330023\n",
            "54   0.057143  0.000000  0.004226  0.000426  0.00200  0.000  0.00  0.030785\n",
            "207  0.114286  0.196078  0.227118  0.638298  0.00000  0.000  0.00  0.078451\n",
            "61   0.142857  0.000000  0.084817  0.000000  0.00000  0.000  0.00  0.030785\n",
            "9    0.142857  0.196078  0.001050  0.010638  0.00000  0.200  0.00  0.014896\n",
            "60   0.142857  0.000000  0.084817  0.000000  0.00000  0.000  0.00  0.008275\n",
            "41   0.142857  0.000000  0.003801  0.000000  0.00000  0.000  0.00  0.030785\n",
            "20   0.000000  0.000000  0.003126  0.000000  0.00000  0.000  0.10  0.030785\n",
            "102  0.142857  0.196078  0.008127  0.000000  0.02000  0.000  0.00  0.014896\n",
            "11   0.142857  0.196078  0.001050  0.010638  0.00000  0.200  0.00  0.110228\n",
            "29   0.000000  0.196078  0.001025  0.000000  0.00688  0.000  0.00  0.221450\n",
            "98   0.142857  0.196078  0.008127  0.021277  0.00000  0.000  0.00  0.078451\n",
            "216  0.114286  0.196078  0.227118  0.000000  0.00000  0.000  0.00  0.078451\n",
            "63   0.057143  0.000000  0.004226  0.021277  0.00000  0.000  0.00  0.030785\n",
            "55   0.057143  0.000000  0.004226  0.000426  0.00100  0.000  0.00  0.030785\n",
            "130  0.142857  0.196078  0.006626  0.021277  0.28000  0.000  0.00  0.189672\n",
            "252  0.114286  0.196078  0.002210  0.638298  0.00200  0.000  0.00  0.157895\n",
            "33   0.485714  0.784314  0.124825  0.000000  0.00000  0.000  0.00  0.062562\n",
            "242  0.057143  0.000000  0.002073  0.010638  0.01000  0.500  0.00  0.046673\n",
            "128  0.085714  0.196078  0.004801  0.000000  0.01000  0.000  0.00  0.030785\n",
            "101  0.142857  0.196078  0.008127  0.021277  0.00000  0.000  0.00  0.014896\n",
            "2    0.142857  0.196078  0.001050  0.000000  0.00000  0.200  0.00  0.014896\n",
            "49   0.057143  0.000000  0.022179  0.000426  0.00200  0.000  0.00  0.030785\n",
            "14   0.142857  0.000000  0.001425  0.000000  0.20000  0.000  0.00  0.014896 137    4\n",
            "144    4\n",
            "26     2\n",
            "174    1\n",
            "198    1\n",
            "170    1\n",
            "217    1\n",
            "135    1\n",
            "214    2\n",
            "83     1\n",
            "22     1\n",
            "143    4\n",
            "139    2\n",
            "39     2\n",
            "173    1\n",
            "203    1\n",
            "163    1\n",
            "180    1\n",
            "36     1\n",
            "224    1\n",
            "99     1\n",
            "238    4\n",
            "134    4\n",
            "3      1\n",
            "215    4\n",
            "52     1\n",
            "229    2\n",
            "175    2\n",
            "54     2\n",
            "207    1\n",
            "61     1\n",
            "9      3\n",
            "60     2\n",
            "41     1\n",
            "20     2\n",
            "102    4\n",
            "11     2\n",
            "29     1\n",
            "98     1\n",
            "216    1\n",
            "63     1\n",
            "55     1\n",
            "130    4\n",
            "252    3\n",
            "33     1\n",
            "242    4\n",
            "128    4\n",
            "101    2\n",
            "2      3\n",
            "49     4\n",
            "14     4\n",
            "Name: severity, dtype: int64 [3 4 1 1 1 1 1 1 1 1 4 4 1 1 1 1 2 1 4 2 2 4 3 1 1 1 2 1 1 1 1 2 1 1 1 2 1\n",
            " 1 1 1 1 1 4 3 1 4 4 2 2 4 4]\n"
          ]
        }
      ]
    },
    {
      "cell_type": "markdown",
      "source": [
        "**K-Fold Cross Validation**"
      ],
      "metadata": {
        "id": "fQo62kHWm238"
      }
    },
    {
      "cell_type": "code",
      "source": [
        "# Create pipeline\n",
        "Pipeline = make_pipeline(StandardScaler(), KNeighborsClassifier(n_neighbors=3, weights='distance'))\n",
        "\n",
        "# Pass model through pipeline and training and test data set\n",
        "scores = cross_val_score(Pipeline, X=X_train, y=y_train, cv=10, n_jobs=-1)\n",
        "\n",
        "print('Cross Validation accuracy scores: %s' % scores)\n",
        "\n",
        "print('Cross Validation accuracy: %.3f +/- %.3f' % (np.mean(scores),np.std(scores)))"
      ],
      "metadata": {
        "colab": {
          "base_uri": "https://localhost:8080/"
        },
        "id": "7gh4fVLHm9pu",
        "outputId": "6da96f1f-c577-408a-8c00-38ae036470d9"
      },
      "execution_count": 9,
      "outputs": [
        {
          "output_type": "stream",
          "name": "stdout",
          "text": [
            "Cross Validation accuracy scores: [0.52380952 0.61904762 0.61904762 0.61904762 0.65       0.6\n",
            " 0.65       0.65       0.55       0.7       ]\n",
            "Cross Validation accuracy: 0.618 +/- 0.049\n"
          ]
        }
      ]
    },
    {
      "cell_type": "markdown",
      "source": [
        "##Support Vector Machine Model##"
      ],
      "metadata": {
        "id": "v-PGk_d2m-Ta"
      }
    },
    {
      "cell_type": "markdown",
      "source": [
        "**Inital Model**"
      ],
      "metadata": {
        "id": "Q1mPiohPnDTP"
      }
    },
    {
      "cell_type": "code",
      "source": [
        "# Create model\n",
        "SVM_Model = SVC()\n",
        "\n",
        "SVM_Model.fit(X_train, y_train)\n",
        "\n",
        "# Test model against test set\n",
        "SVM_y_pred = SVM_Model.predict(X_test)\n",
        "SVM_y_train = SVM_Model.predict(X_train)\n",
        "\n",
        "# Errors for training and testing of model to check for overfitting\n",
        "SVM_MSE_train = mean_squared_error(y_train, SVM_y_train)\n",
        "SVM_r2_train = r2_score(y_train, SVM_y_train)\n",
        "print('MSE train = ', SVM_MSE_train)\n",
        "print(\"R-squared score for training is \", SVM_r2_train)\n",
        "\n",
        "SVM_MSE_test = mean_squared_error(y_test, SVM_y_pred)\n",
        "SVM_r2_test = r2_score(y_test, SVM_y_pred)\n",
        "print('MSE test = ', SVM_MSE_test)\n",
        "print(\"R-squared score for testing is \", SVM_r2_test)"
      ],
      "metadata": {
        "colab": {
          "base_uri": "https://localhost:8080/"
        },
        "id": "uXeWKi_7nFS4",
        "outputId": "1ef44135-033b-4ee6-99b2-f2f97ae05404"
      },
      "execution_count": 10,
      "outputs": [
        {
          "output_type": "stream",
          "name": "stdout",
          "text": [
            "MSE train =  1.5147058823529411\n",
            "R-squared score for training is  -0.13463892288861667\n",
            "MSE test =  1.5490196078431373\n",
            "R-squared score for testing is  -0.04054752066115652\n"
          ]
        }
      ]
    },
    {
      "cell_type": "markdown",
      "source": [
        "**Hyperparameter Optimization**"
      ],
      "metadata": {
        "id": "KA7whkxanJVL"
      }
    },
    {
      "cell_type": "code",
      "source": [
        "# Create hyperparameter range\n",
        "SVM_param = { 'C' : [0.1, 1, 10, 100, 1000, 10000],\n",
        "             'gamma' : [1.1, 1, 0.1, 0.01, 0.001, 0.0001]}\n",
        "\n",
        "# Find best hyperparameters\n",
        "SVM_opt = GridSearchCV(SVC(), SVM_param, verbose = 1, cv = 3, n_jobs = -1)\n",
        "\n",
        "# Fit best model\n",
        "SVM_best = SVM_opt.fit(X_train, y_train)\n",
        "\n",
        "# Print best hyperparameters\n",
        "print('Best hyperparameters: ', SVM_best.best_estimator_)\n",
        "\n",
        "# Test model against test set\n",
        "SVM_best_y_pred = SVM_best.predict(X_test)\n",
        "SVM_best_y_train = SVM_best.predict(X_train)\n",
        "\n",
        "# Errors for training and testing of model to check for overfitting\n",
        "SVM_best_MSE_train = mean_squared_error(y_train, SVM_best_y_train)\n",
        "SVM_best_r2_train = r2_score(y_train, SVM_best_y_train)\n",
        "print('MSE train = ', SVM_best_MSE_train)\n",
        "print(\"R-squared score for training is \", SVM_best_r2_train)\n",
        "\n",
        "SVM_best_MSE_test = mean_squared_error(y_test, SVM_best_y_pred)\n",
        "SVM_best_r2_test = r2_score(y_test, SVM_best_y_pred)\n",
        "print('MSE test = ', SVM_best_MSE_test)\n",
        "print(\"R-squared score for testing is \", SVM_best_r2_test)\n",
        "\n",
        "SVM_accurate = accuracy_score(y_test, SVM_best_y_pred)\n",
        "print('Model accuracy: ', SVM_accurate)\n",
        "\n",
        "print(X_test, y_test, SVM_best_y_pred)"
      ],
      "metadata": {
        "colab": {
          "base_uri": "https://localhost:8080/"
        },
        "id": "gFJ850vWnMNx",
        "outputId": "9d7e3a04-e7b6-4ffa-e58f-e53455df6d1b"
      },
      "execution_count": 11,
      "outputs": [
        {
          "output_type": "stream",
          "name": "stdout",
          "text": [
            "Fitting 3 folds for each of 36 candidates, totalling 108 fits\n",
            "Best hyperparameters:  SVC(C=1000, gamma=1)\n",
            "MSE train =  0.7205882352941176\n",
            "R-squared score for training is  0.46022031823745413\n",
            "MSE test =  1.4509803921568627\n",
            "R-squared score for testing is  0.025309917355372247\n",
            "Model accuracy:  0.6078431372549019\n",
            "         temp     press       H2O        O2      SO2    NO2   H2S      time\n",
            "137  0.142857  0.196078  0.001700  0.021277  0.40000  0.000  0.00  0.078451\n",
            "144  0.142857  0.196078  0.003201  0.023404  0.40000  0.000  0.00  0.014896\n",
            "26   0.000000  0.196078  0.001025  0.000000  0.00000  0.191  0.00  0.316783\n",
            "174  0.114286  0.098039  0.227120  0.664894  0.00000  0.000  0.00  0.330023\n",
            "198  0.057143  0.000000  0.227118  0.000000  0.00000  0.000  0.00  0.078451\n",
            "170  0.114286  0.047059  0.227120  0.000000  0.00000  0.000  0.00  0.330023\n",
            "217  0.114286  0.196078  0.227118  0.000000  0.00000  0.000  0.00  0.078451\n",
            "135  0.142857  0.196078  0.000000  0.021277  0.40000  0.000  0.00  0.078451\n",
            "214  0.142857  0.196078  0.004801  0.004255  0.00400  0.000  0.10  0.046673\n",
            "83   0.200000  0.294118  0.000050  1.000000  0.00140  0.000  0.00  0.110228\n",
            "22   0.000000  0.196078  0.001025  0.000000  0.00276  0.191  0.00  0.110228\n",
            "143  0.142857  0.196078  0.003201  0.023404  0.40000  0.000  0.00  0.126117\n",
            "139  0.142857  0.196078  0.001075  0.021277  0.40000  0.000  0.00  0.078451\n",
            "39   0.057143  0.000000  0.006801  0.000000  0.00000  0.000  0.00  0.030785\n",
            "173  0.114286  0.029412  0.227120  0.702128  0.00000  0.000  0.00  0.330023\n",
            "203  0.114286  0.000000  0.227118  0.000000  0.00000  0.000  0.00  0.078451\n",
            "163  0.142857  0.000000  0.004801  0.021277  0.06000  0.000  0.00  0.046673\n",
            "180  0.114286  0.047059  0.227120  0.000000  0.00000  0.000  0.00  0.330023\n",
            "36   0.314286  0.539216  0.124825  0.000000  0.00000  0.000  0.00  0.062562\n",
            "224  0.114286  0.196078  0.002210  0.000000  0.00000  0.000  0.05  0.078451\n",
            "99   0.142857  0.196078  0.008127  0.000000  0.00000  0.000  0.00  0.014896\n",
            "238  0.057143  0.000000  0.002073  0.010638  0.01000  0.500  0.00  0.046673\n",
            "134  0.142857  0.196078  0.003201  0.021277  0.40000  0.000  0.00  0.078451\n",
            "3    0.142857  0.196078  0.001050  0.010638  0.00000  0.000  0.00  0.110228\n",
            "215  0.142857  0.196078  0.010635  0.004255  0.00000  0.000  0.10  0.046673\n",
            "52   0.057143  0.000000  0.002801  0.000426  0.00200  0.000  0.00  0.030785\n",
            "229  1.000000  0.196078  0.027715  0.000000  0.00000  0.000  0.05  0.078451\n",
            "175  0.114286  0.098039  0.227120  0.664894  0.00000  0.000  0.00  0.330023\n",
            "54   0.057143  0.000000  0.004226  0.000426  0.00200  0.000  0.00  0.030785\n",
            "207  0.114286  0.196078  0.227118  0.638298  0.00000  0.000  0.00  0.078451\n",
            "61   0.142857  0.000000  0.084817  0.000000  0.00000  0.000  0.00  0.030785\n",
            "9    0.142857  0.196078  0.001050  0.010638  0.00000  0.200  0.00  0.014896\n",
            "60   0.142857  0.000000  0.084817  0.000000  0.00000  0.000  0.00  0.008275\n",
            "41   0.142857  0.000000  0.003801  0.000000  0.00000  0.000  0.00  0.030785\n",
            "20   0.000000  0.000000  0.003126  0.000000  0.00000  0.000  0.10  0.030785\n",
            "102  0.142857  0.196078  0.008127  0.000000  0.02000  0.000  0.00  0.014896\n",
            "11   0.142857  0.196078  0.001050  0.010638  0.00000  0.200  0.00  0.110228\n",
            "29   0.000000  0.196078  0.001025  0.000000  0.00688  0.000  0.00  0.221450\n",
            "98   0.142857  0.196078  0.008127  0.021277  0.00000  0.000  0.00  0.078451\n",
            "216  0.114286  0.196078  0.227118  0.000000  0.00000  0.000  0.00  0.078451\n",
            "63   0.057143  0.000000  0.004226  0.021277  0.00000  0.000  0.00  0.030785\n",
            "55   0.057143  0.000000  0.004226  0.000426  0.00100  0.000  0.00  0.030785\n",
            "130  0.142857  0.196078  0.006626  0.021277  0.28000  0.000  0.00  0.189672\n",
            "252  0.114286  0.196078  0.002210  0.638298  0.00200  0.000  0.00  0.157895\n",
            "33   0.485714  0.784314  0.124825  0.000000  0.00000  0.000  0.00  0.062562\n",
            "242  0.057143  0.000000  0.002073  0.010638  0.01000  0.500  0.00  0.046673\n",
            "128  0.085714  0.196078  0.004801  0.000000  0.01000  0.000  0.00  0.030785\n",
            "101  0.142857  0.196078  0.008127  0.021277  0.00000  0.000  0.00  0.014896\n",
            "2    0.142857  0.196078  0.001050  0.000000  0.00000  0.200  0.00  0.014896\n",
            "49   0.057143  0.000000  0.022179  0.000426  0.00200  0.000  0.00  0.030785\n",
            "14   0.142857  0.000000  0.001425  0.000000  0.20000  0.000  0.00  0.014896 137    4\n",
            "144    4\n",
            "26     2\n",
            "174    1\n",
            "198    1\n",
            "170    1\n",
            "217    1\n",
            "135    1\n",
            "214    2\n",
            "83     1\n",
            "22     1\n",
            "143    4\n",
            "139    2\n",
            "39     2\n",
            "173    1\n",
            "203    1\n",
            "163    1\n",
            "180    1\n",
            "36     1\n",
            "224    1\n",
            "99     1\n",
            "238    4\n",
            "134    4\n",
            "3      1\n",
            "215    4\n",
            "52     1\n",
            "229    2\n",
            "175    2\n",
            "54     2\n",
            "207    1\n",
            "61     1\n",
            "9      3\n",
            "60     2\n",
            "41     1\n",
            "20     2\n",
            "102    4\n",
            "11     2\n",
            "29     1\n",
            "98     1\n",
            "216    1\n",
            "63     1\n",
            "55     1\n",
            "130    4\n",
            "252    3\n",
            "33     1\n",
            "242    4\n",
            "128    4\n",
            "101    2\n",
            "2      3\n",
            "49     4\n",
            "14     4\n",
            "Name: severity, dtype: int64 [4 4 1 1 1 1 1 4 1 1 4 4 4 1 1 1 2 1 4 1 2 4 4 1 1 1 2 1 1 1 1 2 1 1 1 4 1\n",
            " 1 1 1 1 1 4 3 4 4 2 2 2 1 4]\n"
          ]
        }
      ]
    },
    {
      "cell_type": "markdown",
      "source": [
        "**K-Fold Cross Validation**"
      ],
      "metadata": {
        "id": "_txOLi6TnOmt"
      }
    },
    {
      "cell_type": "code",
      "source": [
        "# Create pipeline\n",
        "Pipeline = make_pipeline(StandardScaler(), SVC(C=1000, gamma=1))\n",
        "\n",
        "# Pass model through pipeline and training and test data set\n",
        "scores = cross_val_score(Pipeline, X=X_train, y=y_train, cv=10, n_jobs=-1)\n",
        "\n",
        "print('Cross Validation accuracy scores: %s' % scores)\n",
        "\n",
        "print('Cross Validation accuracy: %.3f +/- %.3f' % (np.mean(scores),np.std(scores)))"
      ],
      "metadata": {
        "colab": {
          "base_uri": "https://localhost:8080/"
        },
        "id": "0UU7kWvknSAl",
        "outputId": "35398c34-0662-432a-ece3-33ed0e43aa3a"
      },
      "execution_count": 12,
      "outputs": [
        {
          "output_type": "stream",
          "name": "stdout",
          "text": [
            "Cross Validation accuracy scores: [0.38095238 0.61904762 0.52380952 0.42857143 0.65       0.75\n",
            " 0.7        0.65       0.65       0.6       ]\n",
            "Cross Validation accuracy: 0.595 +/- 0.111\n"
          ]
        }
      ]
    }
  ]
}